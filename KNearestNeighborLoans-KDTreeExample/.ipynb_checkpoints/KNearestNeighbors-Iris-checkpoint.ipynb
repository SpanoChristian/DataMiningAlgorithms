{
 "cells": [
  {
   "cell_type": "markdown",
   "metadata": {},
   "source": [
    "# K-Nearest Neighbor - Iris Dataset\n",
    "k-Nearest neighbors classifier assign the class of an example using the majority vote of the k most examples in the data. In this example, we apply k-nearest neighbor using the well-known <a href=\"https://en.wikipedia.org/wiki/Iris_flower_data_set\">Iris</a> dataset.\n",
    "\n",
    "First we load all the needed libraries."
   ]
  },
  {
   "cell_type": "code",
   "execution_count": 1,
   "metadata": {
    "collapsed": true
   },
   "outputs": [],
   "source": [
    "import numpy as np\n",
    "import matplotlib.pyplot as plt\n",
    "from sklearn import linear_model, datasets, neighbors\n",
    "from sklearn import model_selection\n",
    "from sklearn.model_selection import StratifiedKFold\n",
    "from matplotlib.colors import ListedColormap\n",
    "%matplotlib inline"
   ]
  },
  {
   "cell_type": "markdown",
   "metadata": {},
   "source": [
    "Next, we load the dataset that is included in the Scikit-Learn dataset module."
   ]
  },
  {
   "cell_type": "code",
   "execution_count": 2,
   "metadata": {
    "collapsed": false
   },
   "outputs": [
    {
     "name": "stdout",
     "output_type": "stream",
     "text": [
      "Number of examples:  150\n",
      "Number of variables: 150\n",
      "Variable names:      ['sepal length (cm)', 'sepal width (cm)', 'petal length (cm)', 'petal width (cm)']\n",
      "Target values:       ['setosa' 'versicolor' 'virginica']\n",
      "Class Distribution   [(0, 50), (1, 50), (2, 50)]\n"
     ]
    }
   ],
   "source": [
    "# import some data to play with\n",
    "iris = datasets.load_iris()\n",
    "target = np.array(iris.target)\n",
    "\n",
    "print(\"Number of examples: \", iris.data.shape[0])\n",
    "print(\"Number of variables:\", iris.data.shape[0])\n",
    "print(\"Variable names:     \", iris.feature_names)\n",
    "print(\"Target values:      \", iris.target_names)\n",
    "print(\"Class Distribution  \", [(x,sum(target==x)) for x in np.unique(target)])"
   ]
  },
  {
   "cell_type": "markdown",
   "metadata": {},
   "source": [
    "We will use only the first two variables (sepal length and sepal width)"
   ]
  },
  {
   "cell_type": "code",
   "execution_count": 3,
   "metadata": {
    "collapsed": true
   },
   "outputs": [],
   "source": [
    "x = iris.data[:, :2]\n",
    "y = iris.target"
   ]
  },
  {
   "cell_type": "markdown",
   "metadata": {},
   "source": [
    "First we just evaluate the performance for k=15"
   ]
  },
  {
   "cell_type": "code",
   "execution_count": 4,
   "metadata": {
    "collapsed": false
   },
   "outputs": [
    {
     "name": "stdout",
     "output_type": "stream",
     "text": [
      "15-nearest-neighbor   Accuracy=0.793 Std=0.070\n"
     ]
    }
   ],
   "source": [
    "k = 15\n",
    "knn = neighbors.KNeighborsClassifier(n_neighbors=k)\n",
    "knn_eval = model_selection.cross_val_score(knn, x, y, cv=StratifiedKFold(n_splits=10,shuffle=True,random_state=1234))\n",
    "\n",
    "print(\"%d-nearest-neighbor   Accuracy=%.3f Std=%.3f\"%(k,np.average(knn_eval),np.std(knn_eval)))"
   ]
  },
  {
   "cell_type": "markdown",
   "metadata": {},
   "source": [
    "Next, we perform an experiment to select the best k. For this purpose, we use the typical train-validation-test setup in which train-validation part is performed using cross validation and the final evaluation is done with the test set that was never used for selecting k."
   ]
  },
  {
   "cell_type": "code",
   "execution_count": 5,
   "metadata": {
    "collapsed": false
   },
   "outputs": [
    {
     "name": "stdout",
     "output_type": "stream",
     "text": [
      "k-nn k=  1 Accuracy=0.711 Std=0.144\n",
      "k-nn k=  2 Accuracy=0.761 Std=0.122\n",
      "k-nn k=  3 Accuracy=0.692 Std=0.091\n",
      "k-nn k=  4 Accuracy=0.724 Std=0.099\n",
      "k-nn k=  5 Accuracy=0.783 Std=0.088\n",
      "k-nn k=  6 Accuracy=0.783 Std=0.120\n",
      "k-nn k=  7 Accuracy=0.791 Std=0.108\n",
      "k-nn k=  8 Accuracy=0.793 Std=0.128\n",
      "k-nn k=  9 Accuracy=0.806 Std=0.115\n",
      "k-nn k= 10 Accuracy=0.794 Std=0.122\n",
      "k-nn k= 11 Accuracy=0.804 Std=0.101\n",
      "k-nn k= 12 Accuracy=0.794 Std=0.136\n",
      "k-nn k= 13 Accuracy=0.794 Std=0.133\n",
      "k-nn k= 14 Accuracy=0.797 Std=0.155\n",
      "k-nn k= 15 Accuracy=0.786 Std=0.143\n",
      "k-nn k= 16 Accuracy=0.783 Std=0.130\n",
      "k-nn k= 17 Accuracy=0.814 Std=0.134\n",
      "k-nn k= 18 Accuracy=0.794 Std=0.127\n",
      "k-nn k= 19 Accuracy=0.814 Std=0.134\n",
      "k-nn k= 20 Accuracy=0.803 Std=0.132\n",
      "k-nn k= 21 Accuracy=0.822 Std=0.127\n",
      "k-nn k= 22 Accuracy=0.822 Std=0.142\n",
      "k-nn k= 23 Accuracy=0.819 Std=0.143\n",
      "k-nn k= 24 Accuracy=0.800 Std=0.139\n",
      "k-nn k= 25 Accuracy=0.800 Std=0.139\n",
      "k-nn k= 26 Accuracy=0.800 Std=0.130\n",
      "k-nn k= 27 Accuracy=0.803 Std=0.122\n",
      "k-nn k= 28 Accuracy=0.792 Std=0.129\n",
      "k-nn k= 29 Accuracy=0.800 Std=0.139\n",
      "\n",
      "\n",
      "Best k=21 Accuracy on Train 0.822\n"
     ]
    }
   ],
   "source": [
    "x_train, x_test, y_train, y_test = model_selection.train_test_split(x, y, test_size=0.33, random_state=1234, stratify=y)\n",
    "\n",
    "knn_accuracy = {}\n",
    "knn_std = {}\n",
    "\n",
    "best_k = -1\n",
    "best_accuracy = 0.0\n",
    "\n",
    "for k in np.arange(1,30,1):\n",
    "    knn = neighbors.KNeighborsClassifier(n_neighbors=k)\n",
    "    knn_eval = model_selection.cross_val_score(knn, x_train, y_train, cv=StratifiedKFold(n_splits=10,shuffle=True,random_state=1234))\n",
    "    print(\"k-nn k=%3d Accuracy=%.3f Std=%.3f\"%(k,np.average(knn_eval),np.std(knn_eval)))\n",
    "    knn_accuracy[k] = np.average(knn_eval)\n",
    "    knn_std[k] = np.std(knn_eval)\n",
    "    \n",
    "    if np.average(knn_eval)>best_accuracy:\n",
    "        best_accuracy = np.average(knn_eval)\n",
    "        best_k = k\n",
    "\n",
    "print(\"\\n\\nBest k=%d Accuracy on Train %.3f\"%(best_k,best_accuracy))"
   ]
  },
  {
   "cell_type": "code",
   "execution_count": 51,
   "metadata": {
    "collapsed": false
   },
   "outputs": [
    {
     "name": "stdout",
     "output_type": "stream",
     "text": [
      "Best k=21 Accuracy on Train=0.822 on Test=0.800\n"
     ]
    }
   ],
   "source": [
    "knn_final = neighbors.KNeighborsClassifier(n_neighbors=best_k)\n",
    "knn_final = knn_final.fit(x_train, y_train)\n",
    "knn_final_eval = knn_final.score(x_test, y_test)\n",
    "print(\"Best k=%d Accuracy on Train=%.3f on Test=%.3f\"%(best_k,best_accuracy,knn_final_eval))"
   ]
  },
  {
   "cell_type": "markdown",
   "metadata": {},
   "source": [
    "We repeat the same procedure using distance as the weight function for prediction, thus the class of more similar examples will weight more."
   ]
  },
  {
   "cell_type": "code",
   "execution_count": 52,
   "metadata": {
    "collapsed": false
   },
   "outputs": [
    {
     "name": "stdout",
     "output_type": "stream",
     "text": [
      "k-nn k=  1 Accuracy=0.711 Std=0.144\n",
      "k-nn k=  2 Accuracy=0.720 Std=0.106\n",
      "k-nn k=  3 Accuracy=0.703 Std=0.094\n",
      "k-nn k=  4 Accuracy=0.706 Std=0.109\n",
      "k-nn k=  5 Accuracy=0.767 Std=0.115\n",
      "k-nn k=  6 Accuracy=0.745 Std=0.112\n",
      "k-nn k=  7 Accuracy=0.764 Std=0.115\n",
      "k-nn k=  8 Accuracy=0.773 Std=0.103\n",
      "k-nn k=  9 Accuracy=0.776 Std=0.126\n",
      "k-nn k= 10 Accuracy=0.776 Std=0.126\n",
      "k-nn k= 11 Accuracy=0.784 Std=0.109\n",
      "k-nn k= 12 Accuracy=0.784 Std=0.109\n",
      "k-nn k= 13 Accuracy=0.784 Std=0.109\n",
      "k-nn k= 14 Accuracy=0.768 Std=0.124\n",
      "k-nn k= 15 Accuracy=0.768 Std=0.124\n",
      "k-nn k= 16 Accuracy=0.768 Std=0.124\n",
      "k-nn k= 17 Accuracy=0.784 Std=0.109\n",
      "k-nn k= 18 Accuracy=0.776 Std=0.108\n",
      "k-nn k= 19 Accuracy=0.784 Std=0.109\n",
      "k-nn k= 20 Accuracy=0.796 Std=0.123\n",
      "k-nn k= 21 Accuracy=0.796 Std=0.123\n",
      "k-nn k= 22 Accuracy=0.796 Std=0.123\n",
      "k-nn k= 23 Accuracy=0.784 Std=0.109\n",
      "k-nn k= 24 Accuracy=0.773 Std=0.114\n",
      "k-nn k= 25 Accuracy=0.784 Std=0.109\n",
      "k-nn k= 26 Accuracy=0.784 Std=0.109\n",
      "k-nn k= 27 Accuracy=0.784 Std=0.109\n",
      "k-nn k= 28 Accuracy=0.784 Std=0.109\n",
      "k-nn k= 29 Accuracy=0.784 Std=0.109\n",
      "\n",
      "\n",
      "Best k=20 Accuracy on Train=0.796 on Test=0.760\n"
     ]
    }
   ],
   "source": [
    "x_train, x_test, y_train, y_test = model_selection.train_test_split(x, y, test_size=0.33, random_state=1234, stratify=y)\n",
    "\n",
    "knn_accuracy = {}\n",
    "knn_std = {}\n",
    "\n",
    "best_k = -1\n",
    "best_accuracy = 0.0\n",
    "\n",
    "for k in np.arange(1,30,1):\n",
    "    knn = neighbors.KNeighborsClassifier(n_neighbors=k, weights='distance')\n",
    "    knn_eval = model_selection.cross_val_score(knn, x_train, y_train, cv=StratifiedKFold(n_splits=10,shuffle=True,random_state=1234))\n",
    "    print(\"k-nn k=%3d Accuracy=%.3f Std=%.3f\"%(k,np.average(knn_eval),np.std(knn_eval)))\n",
    "    knn_accuracy[k] = np.average(knn_eval)\n",
    "    knn_std[k] = np.std(knn_eval)\n",
    "    \n",
    "    if np.average(knn_eval)>best_accuracy:\n",
    "        best_accuracy = np.average(knn_eval)\n",
    "        best_k = k\n",
    "\n",
    "knn_final = neighbors.KNeighborsClassifier(n_neighbors=best_k, weights='distance')\n",
    "knn_final = knn_final.fit(x_train, y_train)\n",
    "knn_final_eval = knn_final.score(x_test, y_test)\n",
    "print(\"\\n\\nBest k=%d Accuracy on Train=%.3f on Test=%.3f\"%(best_k,best_accuracy,knn_final_eval))"
   ]
  },
  {
   "cell_type": "markdown",
   "metadata": {},
   "source": [
    "Now, we want to plot the decision boundaries for Define two color maps used to show the decision boundaries generated by the classifier."
   ]
  },
  {
   "cell_type": "code",
   "execution_count": 53,
   "metadata": {
    "collapsed": false
   },
   "outputs": [],
   "source": [
    "cmap_light = ListedColormap(['#FFAAAA', '#AAFFAA', '#AAAAFF'])\n",
    "cmap_bold = ListedColormap(['#FF0000', '#00FF00', '#0000FF'])"
   ]
  },
  {
   "cell_type": "code",
   "execution_count": 61,
   "metadata": {
    "collapsed": false
   },
   "outputs": [
    {
     "data": {
      "image/png": "[encoded data removed]",
      "text/plain": [
       "<matplotlib.figure.Figure at 0x11a28a048>"
      ]
     },
     "metadata": {},
     "output_type": "display_data"
    },
    {
     "data": {
      "image/png": "[encoded data removed]",
      "text/plain": [
       "<matplotlib.figure.Figure at 0x124304860>"
      ]
     },
     "metadata": {},
     "output_type": "display_data"
    }
   ],
   "source": [
    "n_neighbors=20\n",
    "h = 0.01\n",
    "for weights in ['uniform', 'distance']:\n",
    "    # we create an instance of Neighbours Classifier and fit the data.\n",
    "    clf = neighbors.KNeighborsClassifier(n_neighbors, weights=weights)\n",
    "    clf.fit(x, y)\n",
    "\n",
    "    # Plot the decision boundary. For that, we will assign a color to each\n",
    "    # point in the mesh [x_min, x_max]x[y_min, y_max].\n",
    "    x_min, x_max = x[:, 0].min() - 1, x[:, 0].max() + 1\n",
    "    y_min, y_max = x[:, 1].min() - 1, x[:, 1].max() + 1\n",
    "    xx, yy = np.meshgrid(np.arange(x_min, x_max, h),\n",
    "                         np.arange(y_min, y_max, h))\n",
    "    Z = clf.predict(np.c_[xx.ravel(), yy.ravel()])\n",
    "\n",
    "    # Put the result into a color plot\n",
    "    Z = Z.reshape(xx.shape)\n",
    "    plt.figure(figsize=(8,6))\n",
    "    plt.pcolormesh(xx, yy, Z, cmap=cmap_light)\n",
    "\n",
    "    # Plot also the training points\n",
    "    plt.scatter(x[:, 0], x[:, 1], c=y, cmap=cmap_bold)\n",
    "    plt.xlim(xx.min(), xx.max())\n",
    "    plt.ylim(yy.min(), yy.max())\n",
    "    plt.title(\"3-Class classification (k = %i, weights = '%s')\"\n",
    "              % (n_neighbors, weights))\n",
    "plt.show()"
   ]
  }
 ],
 "metadata": {
  "kernelspec": {
   "display_name": "Python 3",
   "language": "python",
   "name": "python3"
  },
  "language_info": {
   "codemirror_mode": {
    "name": "ipython",
    "version": 3
   },
   "file_extension": ".py",
   "mimetype": "text/x-python",
   "name": "python",
   "nbconvert_exporter": "python",
   "pygments_lexer": "ipython3",
   "version": "3.6.0"
  }
 },
 "nbformat": 4,
 "nbformat_minor": 0
}
