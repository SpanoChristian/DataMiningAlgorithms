{
 "cells": [
  {
   "cell_type": "markdown",
   "metadata": {},
   "source": [
    "# K-Nearest Neighbor - KD-Trees\n",
    "We are now going to apply k-nearest neighbor to the loans dataset with and without kd-trees.\n",
    "\n",
    "First we load all the needed libraries."
   ]
  },
  {
   "cell_type": "code",
   "execution_count": 1,
   "metadata": {
    "collapsed": false,
    "jupyter": {
     "outputs_hidden": false
    }
   },
   "outputs": [],
   "source": [
    "import numpy as np\n",
    "import pandas as pd\n",
    "import matplotlib.pyplot as plt\n",
    "from sklearn import linear_model, datasets, neighbors\n",
    "from sklearn import model_selection\n",
    "from sklearn.model_selection import StratifiedKFold\n",
    "from matplotlib.colors import ListedColormap\n",
    "import time\n",
    "%matplotlib inline"
   ]
  },
  {
   "cell_type": "markdown",
   "metadata": {},
   "source": [
    "Next, we load the dataset that is included in the Scikit-Learn dataset module."
   ]
  },
  {
   "cell_type": "code",
   "execution_count": 2,
   "metadata": {
    "collapsed": false,
    "jupyter": {
     "outputs_hidden": false
    }
   },
   "outputs": [],
   "source": [
    "loans = pd.read_csv('LoansNumerical.csv')\n",
    "target = 'safe_loans'\n",
    "features = loans.columns[loans.columns!=target]\n",
    "\n",
    "x = loans[features]\n",
    "y = loans[target]"
   ]
  },
  {
   "cell_type": "markdown",
   "metadata": {},
   "source": [
    "Now we apply plain k-nearest neighbor with a k of 15 and evaluate it using 10 fold crossvalidation"
   ]
  },
  {
   "cell_type": "code",
   "execution_count": 3,
   "metadata": {},
   "outputs": [],
   "source": [
    "k = 15\n",
    "knn = neighbors.KNeighborsClassifier(n_neighbors=k, algorithm='brute')\n",
    "knn_kdtree = neighbors.KNeighborsClassifier(n_neighbors=k, algorithm='kd_tree')"
   ]
  },
  {
   "cell_type": "code",
   "execution_count": 4,
   "metadata": {
    "collapsed": false,
    "jupyter": {
     "outputs_hidden": false
    }
   },
   "outputs": [
    {
     "name": "stdout",
     "output_type": "stream",
     "text": [
      "CPU times: user 7.43 s, sys: 82.1 ms, total: 7.51 s\n",
      "Wall time: 7.52 s\n"
     ]
    }
   ],
   "source": [
    "%%time\n",
    "start_kdtree = time.process_time()\n",
    "knn_eval_kd = model_selection.cross_val_score(knn_kdtree, x, y, cv=StratifiedKFold(n_splits=10,shuffle=True,random_state=1234))\n",
    "end_kdtree = time.process_time()"
   ]
  },
  {
   "cell_type": "code",
   "execution_count": 5,
   "metadata": {
    "collapsed": false,
    "jupyter": {
     "outputs_hidden": false
    }
   },
   "outputs": [
    {
     "name": "stdout",
     "output_type": "stream",
     "text": [
      "15-nearest-neighbor\tt=7.513\tAccuracy=0.806\tStd=0.001\n"
     ]
    }
   ],
   "source": [
    "time_taken_kdtree = end_kdtree-start_kdtree\n",
    "print(\"%d-nearest-neighbor\\tt=%.3f\\tAccuracy=%.3f\\tStd=%.3f\"%(k,time_taken_kdtree,np.average(knn_eval_kd),np.std(knn_eval_kd)))"
   ]
  },
  {
   "cell_type": "code",
   "execution_count": 6,
   "metadata": {
    "collapsed": false,
    "jupyter": {
     "outputs_hidden": false
    }
   },
   "outputs": [
    {
     "name": "stdout",
     "output_type": "stream",
     "text": [
      "CPU times: user 5min 48s, sys: 2min 4s, total: 7min 53s\n",
      "Wall time: 3min 32s\n"
     ]
    }
   ],
   "source": [
    "%%time\n",
    "start_vanilla = time.process_time()\n",
    "knn_eval = model_selection.cross_val_score(knn, x, y, cv=StratifiedKFold(n_splits=10,shuffle=True,random_state=1234))\n",
    "end_vanilla = time.process_time()"
   ]
  },
  {
   "cell_type": "code",
   "execution_count": 7,
   "metadata": {
    "collapsed": false,
    "jupyter": {
     "outputs_hidden": false
    }
   },
   "outputs": [
    {
     "name": "stdout",
     "output_type": "stream",
     "text": [
      "15-nearest-neighbor\tt=473.575\tAccuracy=0.806\tStd=0.001\n"
     ]
    }
   ],
   "source": [
    "time_taken_vanilla = end_vanilla-start_vanilla\n",
    "print(\"%d-nearest-neighbor\\tt=%.3f\\tAccuracy=%.3f\\tStd=%.3f\"%(k,time_taken_vanilla,np.average(knn_eval),np.std(knn_eval)))"
   ]
  },
  {
   "cell_type": "code",
   "execution_count": null,
   "metadata": {},
   "outputs": [],
   "source": []
  }
 ],
 "metadata": {
  "kernelspec": {
   "display_name": "Python 3 (ipykernel)",
   "language": "python",
   "name": "python3"
  },
  "language_info": {
   "codemirror_mode": {
    "name": "ipython",
    "version": 3
   },
   "file_extension": ".py",
   "mimetype": "text/x-python",
   "name": "python",
   "nbconvert_exporter": "python",
   "pygments_lexer": "ipython3",
   "version": "3.8.11"
  }
 },
 "nbformat": 4,
 "nbformat_minor": 4
}
