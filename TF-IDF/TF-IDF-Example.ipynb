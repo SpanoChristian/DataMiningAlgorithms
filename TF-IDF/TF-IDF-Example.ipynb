{
 "cells": [
  {
   "cell_type": "markdown",
   "metadata": {},
   "source": [
    "# TF-IDF Computation Example\n",
    "This is a very simple example of TF-IDF computation. It is divided in two section. The first part discusses TF-IDF as presented during the last edition of the course (2020/2021) and should be used to prepare for the exam. The second part shows how scikit-learn computes TF-IDF and discusses the difference between our basic version discussed during the course and the actual implementation available in scikit-learn. This second version won't be a part of any written exam and it is included for completeness.\n",
    "\n",
    "### References\n",
    "- https://scikit-learn.org/stable/modules/feature_extraction.html#tfidf-term-weighting\n",
    "- https://towardsdatascience.com/natural-language-processing-feature-engineering-using-tf-idf-e8b9d00e7e76"
   ]
  },
  {
   "cell_type": "markdown",
   "metadata": {},
   "source": [
    "First, we import the libraries we will need."
   ]
  },
  {
   "cell_type": "code",
   "execution_count": 1,
   "metadata": {},
   "outputs": [
    {
     "name": "stderr",
     "output_type": "stream",
     "text": [
      "[nltk_data] Downloading package stopwords to\n",
      "[nltk_data]     /Users/pierlucalanzi/nltk_data...\n",
      "[nltk_data]   Package stopwords is already up-to-date!\n"
     ]
    }
   ],
   "source": [
    "import pandas as pd\n",
    "import numpy as np\n",
    "import math\n",
    "import nltk\n",
    "\n",
    "nltk.download('stopwords')\n",
    "\n",
    "from nltk.corpus import stopwords\n",
    "from sklearn.feature_extraction.text import TfidfVectorizer"
   ]
  },
  {
   "cell_type": "markdown",
   "metadata": {},
   "source": [
    "Next we define a small corpus of three documents (the same used in the exam problem). This is the same corpus used in the problem from June 28 2019 exam that has been discussed at length in the forum."
   ]
  },
  {
   "cell_type": "code",
   "execution_count": 2,
   "metadata": {},
   "outputs": [],
   "source": [
    "corpus = [\n",
    "    'A time to plant and a time to reap',\n",
    "    'Time for you and time for me',\n",
    "    'Fly Time'\n",
    "]"
   ]
  },
  {
   "cell_type": "markdown",
   "metadata": {},
   "source": [
    "From the corpus we have to extract the \"bag of word\" representation of the document which does not consider the order of the words but represents the documents simply as a set of words. Note that to extract the representation we also eliminate all the stopwords (those words that are not really interesting since they don't provide much information). "
   ]
  },
  {
   "cell_type": "code",
   "execution_count": 3,
   "metadata": {},
   "outputs": [],
   "source": [
    "def compute_bag_of_words(corpus):\n",
    "    bag_of_words = []\n",
    "    for text in corpus:\n",
    "        bag_of_words.append([x.lower() for x in text.split(' ') if not (x.lower() in stopwords.words('english'))])\n",
    "    return bag_of_words"
   ]
  },
  {
   "cell_type": "code",
   "execution_count": 4,
   "metadata": {},
   "outputs": [],
   "source": [
    "bag_of_words = compute_bag_of_words(corpus)"
   ]
  },
  {
   "cell_type": "code",
   "execution_count": 5,
   "metadata": {},
   "outputs": [
    {
     "data": {
      "text/plain": [
       "[['time', 'plant', 'time', 'reap'], ['time', 'time'], ['fly', 'time']]"
      ]
     },
     "execution_count": 5,
     "metadata": {},
     "output_type": "execute_result"
    }
   ],
   "source": [
    "bag_of_words"
   ]
  },
  {
   "cell_type": "markdown",
   "metadata": {},
   "source": [
    "Given a corpus we also need to compute the dictionary that will be used to create the table that represents the documents. The dictionary is simply the set of all the words contained in the corpuse (without any stopword that has been already eliminated)"
   ]
  },
  {
   "cell_type": "code",
   "execution_count": 6,
   "metadata": {},
   "outputs": [],
   "source": [
    "def compute_dictionary(corpus):\n",
    "    dictionary = set(bag_of_words[0])\n",
    "\n",
    "    for bow in bag_of_words[1:]:\n",
    "        dictionary = dictionary.union(set(bow))\n",
    "    return dictionary"
   ]
  },
  {
   "cell_type": "code",
   "execution_count": 7,
   "metadata": {},
   "outputs": [],
   "source": [
    "dictionary = compute_dictionary(corpus)"
   ]
  },
  {
   "cell_type": "code",
   "execution_count": 8,
   "metadata": {},
   "outputs": [
    {
     "data": {
      "text/plain": [
       "{'fly', 'plant', 'reap', 'time'}"
      ]
     },
     "execution_count": 8,
     "metadata": {},
     "output_type": "execute_result"
    }
   ],
   "source": [
    "dictionary"
   ]
  },
  {
   "cell_type": "markdown",
   "metadata": {},
   "source": [
    "As the very next step we can compute the \"term frequency\", that is, how frequent every word in the dictionary appears in each document."
   ]
  },
  {
   "cell_type": "code",
   "execution_count": 9,
   "metadata": {},
   "outputs": [],
   "source": [
    "def compute_tf_count(bag_of_words,dictionary):\n",
    "    \n",
    "    word_count = []\n",
    "    \n",
    "    for document in bag_of_words:\n",
    "        document_word_count = dict.fromkeys(dictionary, 0)\n",
    "\n",
    "        for w in document:\n",
    "            document_word_count[w] = document_word_count[w]+1\n",
    "\n",
    "        word_count.append(document_word_count)\n",
    "        \n",
    "    return word_count"
   ]
  },
  {
   "cell_type": "code",
   "execution_count": 10,
   "metadata": {},
   "outputs": [],
   "source": [
    "word_count = compute_tf_count(bag_of_words,dictionary)"
   ]
  },
  {
   "cell_type": "code",
   "execution_count": 11,
   "metadata": {},
   "outputs": [
    {
     "data": {
      "text/plain": [
       "[{'time': 2, 'plant': 1, 'reap': 1, 'fly': 0},\n",
       " {'time': 2, 'plant': 0, 'reap': 0, 'fly': 0},\n",
       " {'time': 1, 'plant': 0, 'reap': 0, 'fly': 1}]"
      ]
     },
     "execution_count": 11,
     "metadata": {},
     "output_type": "execute_result"
    }
   ],
   "source": [
    "word_count"
   ]
  },
  {
   "cell_type": "markdown",
   "metadata": {},
   "source": [
    "We can now normalize these values and compute the actual frequency of each word. Note that we did not do this in the example done in class since we did not have the whole dictionary."
   ]
  },
  {
   "cell_type": "code",
   "execution_count": 12,
   "metadata": {},
   "outputs": [],
   "source": [
    "def compute_tf(document_word_count):\n",
    "    \n",
    "    document_tf = {}\n",
    "    \n",
    "    number_of_words = sum(document_word_count.values())\n",
    "    \n",
    "    for word, count in document_word_count.items():        \n",
    "        document_tf[word] = count / float(number_of_words)\n",
    "        \n",
    "    return document_tf"
   ]
  },
  {
   "cell_type": "code",
   "execution_count": 13,
   "metadata": {},
   "outputs": [],
   "source": [
    "tf = []\n",
    "for document_word_count in word_count:\n",
    "    tf.append(compute_tf(document_word_count))"
   ]
  },
  {
   "cell_type": "code",
   "execution_count": 14,
   "metadata": {},
   "outputs": [
    {
     "data": {
      "text/plain": [
       "[{'time': 0.5, 'plant': 0.25, 'reap': 0.25, 'fly': 0.0},\n",
       " {'time': 1.0, 'plant': 0.0, 'reap': 0.0, 'fly': 0.0},\n",
       " {'time': 0.5, 'plant': 0.0, 'reap': 0.0, 'fly': 0.5}]"
      ]
     },
     "execution_count": 14,
     "metadata": {},
     "output_type": "execute_result"
    }
   ],
   "source": [
    "tf"
   ]
  },
  {
   "cell_type": "markdown",
   "metadata": {},
   "source": [
    "Let's now create and actual table for the counts and frequencies."
   ]
  },
  {
   "cell_type": "code",
   "execution_count": 15,
   "metadata": {},
   "outputs": [],
   "source": [
    "def create_df(tf,dictionary):\n",
    "    data = {}\n",
    "    for word in dictionary:\n",
    "\n",
    "        word_tf = []\n",
    "\n",
    "        for document_tf in tf:\n",
    "            word_tf.append(document_tf[word])\n",
    "\n",
    "        data[word] = word_tf\n",
    "\n",
    "    df = pd.DataFrame(data)\n",
    "    \n",
    "    return df"
   ]
  },
  {
   "cell_type": "code",
   "execution_count": 16,
   "metadata": {},
   "outputs": [],
   "source": [
    "df_count = create_df(word_count,dictionary)\n",
    "df_tf = create_df(tf,dictionary)"
   ]
  },
  {
   "cell_type": "code",
   "execution_count": 17,
   "metadata": {},
   "outputs": [
    {
     "data": {
      "text/html": [
       "<div>\n",
       "<style scoped>\n",
       "    .dataframe tbody tr th:only-of-type {\n",
       "        vertical-align: middle;\n",
       "    }\n",
       "\n",
       "    .dataframe tbody tr th {\n",
       "        vertical-align: top;\n",
       "    }\n",
       "\n",
       "    .dataframe thead th {\n",
       "        text-align: right;\n",
       "    }\n",
       "</style>\n",
       "<table border=\"1\" class=\"dataframe\">\n",
       "  <thead>\n",
       "    <tr style=\"text-align: right;\">\n",
       "      <th></th>\n",
       "      <th>time</th>\n",
       "      <th>plant</th>\n",
       "      <th>reap</th>\n",
       "      <th>fly</th>\n",
       "    </tr>\n",
       "  </thead>\n",
       "  <tbody>\n",
       "    <tr>\n",
       "      <th>0</th>\n",
       "      <td>2</td>\n",
       "      <td>1</td>\n",
       "      <td>1</td>\n",
       "      <td>0</td>\n",
       "    </tr>\n",
       "    <tr>\n",
       "      <th>1</th>\n",
       "      <td>2</td>\n",
       "      <td>0</td>\n",
       "      <td>0</td>\n",
       "      <td>0</td>\n",
       "    </tr>\n",
       "    <tr>\n",
       "      <th>2</th>\n",
       "      <td>1</td>\n",
       "      <td>0</td>\n",
       "      <td>0</td>\n",
       "      <td>1</td>\n",
       "    </tr>\n",
       "  </tbody>\n",
       "</table>\n",
       "</div>"
      ],
      "text/plain": [
       "   time  plant  reap  fly\n",
       "0     2      1     1    0\n",
       "1     2      0     0    0\n",
       "2     1      0     0    1"
      ]
     },
     "execution_count": 17,
     "metadata": {},
     "output_type": "execute_result"
    }
   ],
   "source": [
    "df_count"
   ]
  },
  {
   "cell_type": "code",
   "execution_count": 18,
   "metadata": {},
   "outputs": [
    {
     "data": {
      "text/html": [
       "<div>\n",
       "<style scoped>\n",
       "    .dataframe tbody tr th:only-of-type {\n",
       "        vertical-align: middle;\n",
       "    }\n",
       "\n",
       "    .dataframe tbody tr th {\n",
       "        vertical-align: top;\n",
       "    }\n",
       "\n",
       "    .dataframe thead th {\n",
       "        text-align: right;\n",
       "    }\n",
       "</style>\n",
       "<table border=\"1\" class=\"dataframe\">\n",
       "  <thead>\n",
       "    <tr style=\"text-align: right;\">\n",
       "      <th></th>\n",
       "      <th>time</th>\n",
       "      <th>plant</th>\n",
       "      <th>reap</th>\n",
       "      <th>fly</th>\n",
       "    </tr>\n",
       "  </thead>\n",
       "  <tbody>\n",
       "    <tr>\n",
       "      <th>0</th>\n",
       "      <td>0.5</td>\n",
       "      <td>0.25</td>\n",
       "      <td>0.25</td>\n",
       "      <td>0.0</td>\n",
       "    </tr>\n",
       "    <tr>\n",
       "      <th>1</th>\n",
       "      <td>1.0</td>\n",
       "      <td>0.00</td>\n",
       "      <td>0.00</td>\n",
       "      <td>0.0</td>\n",
       "    </tr>\n",
       "    <tr>\n",
       "      <th>2</th>\n",
       "      <td>0.5</td>\n",
       "      <td>0.00</td>\n",
       "      <td>0.00</td>\n",
       "      <td>0.5</td>\n",
       "    </tr>\n",
       "  </tbody>\n",
       "</table>\n",
       "</div>"
      ],
      "text/plain": [
       "   time  plant  reap  fly\n",
       "0   0.5   0.25  0.25  0.0\n",
       "1   1.0   0.00  0.00  0.0\n",
       "2   0.5   0.00  0.00  0.5"
      ]
     },
     "execution_count": 18,
     "metadata": {},
     "output_type": "execute_result"
    }
   ],
   "source": [
    "df_tf"
   ]
  },
  {
   "cell_type": "markdown",
   "metadata": {},
   "source": [
    "We can now compute the IDF for every word in the dictionary. The formula presented in class for IDF is, \n",
    "\n",
    "$\n",
    "idf(w) = log(M/k)\n",
    "$\n",
    "\n",
    "where w is a word in the corpus dictionary, M is the number of documents in the corpus, and k is the number of documents in which word w appears. As usual we are going to use logarithm base 2 for the computations. Note that in previous editions of the course we used a slightly different formula. Note also that any type of logarithm might be used, we decide to use base 2 so that we can compare our results without worrying what base one has used."
   ]
  },
  {
   "cell_type": "code",
   "execution_count": 19,
   "metadata": {},
   "outputs": [],
   "source": [
    "def compute_idf(df):\n",
    "    idf = {}\n",
    "\n",
    "    # number of documents\n",
    "    M = len(df)\n",
    "    \n",
    "    for word in df.columns:\n",
    "        \n",
    "        # number of documents in which the word appears\n",
    "        \n",
    "        k = sum(df[word]>0.0)\n",
    "        \n",
    "        idf[word] = math.log(M/k,2)\n",
    "        \n",
    "    return idf"
   ]
  },
  {
   "cell_type": "code",
   "execution_count": 20,
   "metadata": {},
   "outputs": [],
   "source": [
    "idf = compute_idf(df_tf)"
   ]
  },
  {
   "cell_type": "code",
   "execution_count": 21,
   "metadata": {},
   "outputs": [
    {
     "data": {
      "text/plain": [
       "{'time': 0.0,\n",
       " 'plant': 1.5849625007211563,\n",
       " 'reap': 1.5849625007211563,\n",
       " 'fly': 1.5849625007211563}"
      ]
     },
     "execution_count": 21,
     "metadata": {},
     "output_type": "execute_result"
    }
   ],
   "source": [
    "idf"
   ]
  },
  {
   "cell_type": "markdown",
   "metadata": {},
   "source": [
    "Note that since the word \"time\" appears in all the documents its IDF value is zero. We can finally can compute the TF-IDF representation of the corpus as a table that we can use for instance to cluster the documents."
   ]
  },
  {
   "cell_type": "code",
   "execution_count": 22,
   "metadata": {},
   "outputs": [],
   "source": [
    "tf_idf = df_tf.copy()\n",
    "for word in tf_idf.columns:\n",
    "    tf_idf[word] = tf_idf[word]*idf[word]"
   ]
  },
  {
   "cell_type": "code",
   "execution_count": 23,
   "metadata": {},
   "outputs": [
    {
     "data": {
      "text/html": [
       "<div>\n",
       "<style scoped>\n",
       "    .dataframe tbody tr th:only-of-type {\n",
       "        vertical-align: middle;\n",
       "    }\n",
       "\n",
       "    .dataframe tbody tr th {\n",
       "        vertical-align: top;\n",
       "    }\n",
       "\n",
       "    .dataframe thead th {\n",
       "        text-align: right;\n",
       "    }\n",
       "</style>\n",
       "<table border=\"1\" class=\"dataframe\">\n",
       "  <thead>\n",
       "    <tr style=\"text-align: right;\">\n",
       "      <th></th>\n",
       "      <th>time</th>\n",
       "      <th>plant</th>\n",
       "      <th>reap</th>\n",
       "      <th>fly</th>\n",
       "    </tr>\n",
       "  </thead>\n",
       "  <tbody>\n",
       "    <tr>\n",
       "      <th>0</th>\n",
       "      <td>0.0</td>\n",
       "      <td>0.396241</td>\n",
       "      <td>0.396241</td>\n",
       "      <td>0.000000</td>\n",
       "    </tr>\n",
       "    <tr>\n",
       "      <th>1</th>\n",
       "      <td>0.0</td>\n",
       "      <td>0.000000</td>\n",
       "      <td>0.000000</td>\n",
       "      <td>0.000000</td>\n",
       "    </tr>\n",
       "    <tr>\n",
       "      <th>2</th>\n",
       "      <td>0.0</td>\n",
       "      <td>0.000000</td>\n",
       "      <td>0.000000</td>\n",
       "      <td>0.792481</td>\n",
       "    </tr>\n",
       "  </tbody>\n",
       "</table>\n",
       "</div>"
      ],
      "text/plain": [
       "   time     plant      reap       fly\n",
       "0   0.0  0.396241  0.396241  0.000000\n",
       "1   0.0  0.000000  0.000000  0.000000\n",
       "2   0.0  0.000000  0.000000  0.792481"
      ]
     },
     "execution_count": 23,
     "metadata": {},
     "output_type": "execute_result"
    }
   ],
   "source": [
    "tf_idf"
   ]
  },
  {
   "cell_type": "markdown",
   "metadata": {},
   "source": [
    "The results are similar to those available in the solution of the June 28 2019 exams. The difference in the values is due to the different formula that in 2018/2019 was used which contained a smoothing factor."
   ]
  },
  {
   "cell_type": "markdown",
   "metadata": {},
   "source": [
    "## TF-IDF using Scikit-Learn\n",
    "Scikit-learn has its own set of functions to preprocess a corpus to generate TF-IDF representation so that we can avoid doing everything by hand. The following few lines replicate the entire process we just performed. "
   ]
  },
  {
   "cell_type": "code",
   "execution_count": 25,
   "metadata": {},
   "outputs": [],
   "source": [
    "vectorizer = TfidfVectorizer(stop_words=stopwords.words('english'))\n",
    "vectors = vectorizer.fit_transform(corpus)\n",
    "sklearn_idf_values = vectorizer.idf_\n",
    "sklearn_feature_names = vectorizer.get_feature_names()\n",
    "dense = vectors.todense()\n",
    "denselist = dense.tolist()\n",
    "\n",
    "sklearn_tfidf = pd.DataFrame(denselist, columns=sklearn_feature_names)"
   ]
  },
  {
   "cell_type": "markdown",
   "metadata": {},
   "source": [
    "If we print the table produced by scikit-learn we will note that the values are quite different. This because scikit-learn normalizes the term frequencies using the formula, \n",
    "\n",
    "$\n",
    "    \\text{tf}(w) = \\frac{n_w}{\\sqrt{\\sum n_i}}\n",
    "$\n",
    "\n",
    "It applies a smoothed version of IDF, that is, \n",
    "\n",
    "$\n",
    "\\text{idf}(w) = \\log(M + 1 / k + 1) + 1\n",
    "$\n",
    "\n",
    "where w is a word in the corpus dictionary, M is the number of documents in the corpus, k is the number of documents in which word w appears, and log is computed using the natural base. So for instance if we check the term frequency computed using TfidfVectorizer, "
   ]
  },
  {
   "cell_type": "code",
   "execution_count": 26,
   "metadata": {},
   "outputs": [
    {
     "data": {
      "text/html": [
       "<div>\n",
       "<style scoped>\n",
       "    .dataframe tbody tr th:only-of-type {\n",
       "        vertical-align: middle;\n",
       "    }\n",
       "\n",
       "    .dataframe tbody tr th {\n",
       "        vertical-align: top;\n",
       "    }\n",
       "\n",
       "    .dataframe thead th {\n",
       "        text-align: right;\n",
       "    }\n",
       "</style>\n",
       "<table border=\"1\" class=\"dataframe\">\n",
       "  <thead>\n",
       "    <tr style=\"text-align: right;\">\n",
       "      <th></th>\n",
       "      <th>fly</th>\n",
       "      <th>plant</th>\n",
       "      <th>reap</th>\n",
       "      <th>time</th>\n",
       "    </tr>\n",
       "  </thead>\n",
       "  <tbody>\n",
       "    <tr>\n",
       "      <th>0</th>\n",
       "      <td>0.000000</td>\n",
       "      <td>0.542701</td>\n",
       "      <td>0.542701</td>\n",
       "      <td>0.641055</td>\n",
       "    </tr>\n",
       "    <tr>\n",
       "      <th>1</th>\n",
       "      <td>0.000000</td>\n",
       "      <td>0.000000</td>\n",
       "      <td>0.000000</td>\n",
       "      <td>1.000000</td>\n",
       "    </tr>\n",
       "    <tr>\n",
       "      <th>2</th>\n",
       "      <td>0.861037</td>\n",
       "      <td>0.000000</td>\n",
       "      <td>0.000000</td>\n",
       "      <td>0.508542</td>\n",
       "    </tr>\n",
       "  </tbody>\n",
       "</table>\n",
       "</div>"
      ],
      "text/plain": [
       "        fly     plant      reap      time\n",
       "0  0.000000  0.542701  0.542701  0.641055\n",
       "1  0.000000  0.000000  0.000000  1.000000\n",
       "2  0.861037  0.000000  0.000000  0.508542"
      ]
     },
     "execution_count": 26,
     "metadata": {},
     "output_type": "execute_result"
    }
   ],
   "source": [
    "sklearn_tfidf"
   ]
  },
  {
   "cell_type": "markdown",
   "metadata": {},
   "source": [
    "So to check the computation performed by scikit-learn we first repeat the same process without the IDF computation and produce the plain TF representation."
   ]
  },
  {
   "cell_type": "code",
   "execution_count": 27,
   "metadata": {},
   "outputs": [
    {
     "data": {
      "text/html": [
       "<div>\n",
       "<style scoped>\n",
       "    .dataframe tbody tr th:only-of-type {\n",
       "        vertical-align: middle;\n",
       "    }\n",
       "\n",
       "    .dataframe tbody tr th {\n",
       "        vertical-align: top;\n",
       "    }\n",
       "\n",
       "    .dataframe thead th {\n",
       "        text-align: right;\n",
       "    }\n",
       "</style>\n",
       "<table border=\"1\" class=\"dataframe\">\n",
       "  <thead>\n",
       "    <tr style=\"text-align: right;\">\n",
       "      <th></th>\n",
       "      <th>fly</th>\n",
       "      <th>plant</th>\n",
       "      <th>reap</th>\n",
       "      <th>time</th>\n",
       "    </tr>\n",
       "  </thead>\n",
       "  <tbody>\n",
       "    <tr>\n",
       "      <th>0</th>\n",
       "      <td>0.000000</td>\n",
       "      <td>0.408248</td>\n",
       "      <td>0.408248</td>\n",
       "      <td>0.816497</td>\n",
       "    </tr>\n",
       "    <tr>\n",
       "      <th>1</th>\n",
       "      <td>0.000000</td>\n",
       "      <td>0.000000</td>\n",
       "      <td>0.000000</td>\n",
       "      <td>1.000000</td>\n",
       "    </tr>\n",
       "    <tr>\n",
       "      <th>2</th>\n",
       "      <td>0.707107</td>\n",
       "      <td>0.000000</td>\n",
       "      <td>0.000000</td>\n",
       "      <td>0.707107</td>\n",
       "    </tr>\n",
       "  </tbody>\n",
       "</table>\n",
       "</div>"
      ],
      "text/plain": [
       "        fly     plant      reap      time\n",
       "0  0.000000  0.408248  0.408248  0.816497\n",
       "1  0.000000  0.000000  0.000000  1.000000\n",
       "2  0.707107  0.000000  0.000000  0.707107"
      ]
     },
     "execution_count": 27,
     "metadata": {},
     "output_type": "execute_result"
    }
   ],
   "source": [
    "vectorizer = TfidfVectorizer(stop_words=stopwords.words('english'),use_idf=False)\n",
    "vectors = vectorizer.fit_transform(corpus)\n",
    "feature_names = vectorizer.get_feature_names()\n",
    "dense = vectors.todense()\n",
    "denselist = dense.tolist()\n",
    "\n",
    "sklearn_tf = pd.DataFrame(denselist, columns=feature_names)\n",
    "sklearn_tf"
   ]
  },
  {
   "cell_type": "markdown",
   "metadata": {},
   "source": [
    "We note that we can compute the same values from our original code by applying the Euclidean norm to normalize the word counts:"
   ]
  },
  {
   "cell_type": "code",
   "execution_count": 28,
   "metadata": {},
   "outputs": [],
   "source": [
    "def compute_tf_euclidean_norm(document_word_count):\n",
    "    \n",
    "    document_tf = {}\n",
    "    \n",
    "    denominator = math.sqrt(sum(np.power(list(document_word_count.values()),2)))\n",
    "        \n",
    "    for word, count in document_word_count.items():        \n",
    "        document_tf[word] = count / float(denominator)\n",
    "        \n",
    "    return document_tf"
   ]
  },
  {
   "cell_type": "code",
   "execution_count": 29,
   "metadata": {},
   "outputs": [
    {
     "data": {
      "text/html": [
       "<div>\n",
       "<style scoped>\n",
       "    .dataframe tbody tr th:only-of-type {\n",
       "        vertical-align: middle;\n",
       "    }\n",
       "\n",
       "    .dataframe tbody tr th {\n",
       "        vertical-align: top;\n",
       "    }\n",
       "\n",
       "    .dataframe thead th {\n",
       "        text-align: right;\n",
       "    }\n",
       "</style>\n",
       "<table border=\"1\" class=\"dataframe\">\n",
       "  <thead>\n",
       "    <tr style=\"text-align: right;\">\n",
       "      <th></th>\n",
       "      <th>fly</th>\n",
       "      <th>plant</th>\n",
       "      <th>reap</th>\n",
       "      <th>time</th>\n",
       "    </tr>\n",
       "  </thead>\n",
       "  <tbody>\n",
       "    <tr>\n",
       "      <th>0</th>\n",
       "      <td>0.000000</td>\n",
       "      <td>0.408248</td>\n",
       "      <td>0.408248</td>\n",
       "      <td>0.816497</td>\n",
       "    </tr>\n",
       "    <tr>\n",
       "      <th>1</th>\n",
       "      <td>0.000000</td>\n",
       "      <td>0.000000</td>\n",
       "      <td>0.000000</td>\n",
       "      <td>1.000000</td>\n",
       "    </tr>\n",
       "    <tr>\n",
       "      <th>2</th>\n",
       "      <td>0.707107</td>\n",
       "      <td>0.000000</td>\n",
       "      <td>0.000000</td>\n",
       "      <td>0.707107</td>\n",
       "    </tr>\n",
       "  </tbody>\n",
       "</table>\n",
       "</div>"
      ],
      "text/plain": [
       "        fly     plant      reap      time\n",
       "0  0.000000  0.408248  0.408248  0.816497\n",
       "1  0.000000  0.000000  0.000000  1.000000\n",
       "2  0.707107  0.000000  0.000000  0.707107"
      ]
     },
     "execution_count": 29,
     "metadata": {},
     "output_type": "execute_result"
    }
   ],
   "source": [
    "tf_euclidean_norm = []\n",
    "for document_word_count in word_count:\n",
    "    tf_euclidean_norm.append(compute_tf_euclidean_norm(document_word_count))\n",
    "df_euclidean_norm = create_df(tf_euclidean_norm,dictionary)\n",
    "\n",
    "# use the same column order\n",
    "df_euclidean_norm[['fly','plant','reap','time']]"
   ]
  },
  {
   "cell_type": "markdown",
   "metadata": {},
   "source": [
    "As note, applying the Euclidean norm to our word counts produces the same values for term frequency values generated by scikit-learn. We can apply the smoothed idf used by TfidfVectorizer to generate the TF-IDF representation,"
   ]
  },
  {
   "cell_type": "code",
   "execution_count": 30,
   "metadata": {},
   "outputs": [],
   "source": [
    "def compute_smoothed_idf(df):\n",
    "    idf = {}\n",
    "\n",
    "    # number of documents\n",
    "    M = len(df)\n",
    "    \n",
    "    for word in df.columns:\n",
    "        \n",
    "        # number of documents in which the word appears\n",
    "        \n",
    "        k = sum(df[word]>0.0)\n",
    "        \n",
    "        idf[word] = math.log((M+1)/(k+1))+1\n",
    "        \n",
    "    return idf"
   ]
  },
  {
   "cell_type": "code",
   "execution_count": 31,
   "metadata": {},
   "outputs": [
    {
     "data": {
      "text/plain": [
       "{'time': 1.0,\n",
       " 'plant': 1.6931471805599454,\n",
       " 'reap': 1.6931471805599454,\n",
       " 'fly': 1.6931471805599454}"
      ]
     },
     "execution_count": 31,
     "metadata": {},
     "output_type": "execute_result"
    }
   ],
   "source": [
    "smoothed_idf = compute_smoothed_idf(df_tf)\n",
    "smoothed_idf"
   ]
  },
  {
   "cell_type": "markdown",
   "metadata": {},
   "source": [
    "Producing the same idf values computed by scikit-learn. "
   ]
  },
  {
   "cell_type": "code",
   "execution_count": 32,
   "metadata": {},
   "outputs": [
    {
     "name": "stdout",
     "output_type": "stream",
     "text": [
      "fly\t1.6931471805599454\n",
      "plant\t1.6931471805599454\n",
      "reap\t1.6931471805599454\n",
      "time\t1.0\n"
     ]
    }
   ],
   "source": [
    "for i,word in enumerate(sklearn_feature_names):\n",
    "    print(word+\"\\t\"+str(sklearn_idf_values[i]))"
   ]
  },
  {
   "cell_type": "markdown",
   "metadata": {},
   "source": [
    "We can now combine everything and generate the same TF-IDF representation produced by scikit-learn by\n",
    "1. multiplying the normalized TF by the smoothed IDF\n",
    "2. reapplying the l2 normalization to the TF-IDF values computed\n",
    "\n",
    "So, first step multiply the L2 normalized Tf with the IDF values"
   ]
  },
  {
   "cell_type": "code",
   "execution_count": 33,
   "metadata": {},
   "outputs": [
    {
     "data": {
      "text/html": [
       "<div>\n",
       "<style scoped>\n",
       "    .dataframe tbody tr th:only-of-type {\n",
       "        vertical-align: middle;\n",
       "    }\n",
       "\n",
       "    .dataframe tbody tr th {\n",
       "        vertical-align: top;\n",
       "    }\n",
       "\n",
       "    .dataframe thead th {\n",
       "        text-align: right;\n",
       "    }\n",
       "</style>\n",
       "<table border=\"1\" class=\"dataframe\">\n",
       "  <thead>\n",
       "    <tr style=\"text-align: right;\">\n",
       "      <th></th>\n",
       "      <th>fly</th>\n",
       "      <th>plant</th>\n",
       "      <th>reap</th>\n",
       "      <th>time</th>\n",
       "    </tr>\n",
       "  </thead>\n",
       "  <tbody>\n",
       "    <tr>\n",
       "      <th>0</th>\n",
       "      <td>0.000000</td>\n",
       "      <td>0.691224</td>\n",
       "      <td>0.691224</td>\n",
       "      <td>0.816497</td>\n",
       "    </tr>\n",
       "    <tr>\n",
       "      <th>1</th>\n",
       "      <td>0.000000</td>\n",
       "      <td>0.000000</td>\n",
       "      <td>0.000000</td>\n",
       "      <td>1.000000</td>\n",
       "    </tr>\n",
       "    <tr>\n",
       "      <th>2</th>\n",
       "      <td>1.197236</td>\n",
       "      <td>0.000000</td>\n",
       "      <td>0.000000</td>\n",
       "      <td>0.707107</td>\n",
       "    </tr>\n",
       "  </tbody>\n",
       "</table>\n",
       "</div>"
      ],
      "text/plain": [
       "        fly     plant      reap      time\n",
       "0  0.000000  0.691224  0.691224  0.816497\n",
       "1  0.000000  0.000000  0.000000  1.000000\n",
       "2  1.197236  0.000000  0.000000  0.707107"
      ]
     },
     "execution_count": 33,
     "metadata": {},
     "output_type": "execute_result"
    }
   ],
   "source": [
    "smoothed_tf_idf = df_euclidean_norm.copy()\n",
    "for word in smoothed_tf_idf.columns:\n",
    "    smoothed_tf_idf[word] = smoothed_tf_idf[word]*smoothed_idf[word]\n",
    "smoothed_tf_idf[['fly','plant','reap','time']]"
   ]
  },
  {
   "cell_type": "markdown",
   "metadata": {},
   "source": [
    "Now apply L2 normalization to each row obtaining the same table produced using scikit-learn."
   ]
  },
  {
   "cell_type": "code",
   "execution_count": 34,
   "metadata": {},
   "outputs": [
    {
     "data": {
      "text/html": [
       "<div>\n",
       "<style scoped>\n",
       "    .dataframe tbody tr th:only-of-type {\n",
       "        vertical-align: middle;\n",
       "    }\n",
       "\n",
       "    .dataframe tbody tr th {\n",
       "        vertical-align: top;\n",
       "    }\n",
       "\n",
       "    .dataframe thead th {\n",
       "        text-align: right;\n",
       "    }\n",
       "</style>\n",
       "<table border=\"1\" class=\"dataframe\">\n",
       "  <thead>\n",
       "    <tr style=\"text-align: right;\">\n",
       "      <th></th>\n",
       "      <th>fly</th>\n",
       "      <th>plant</th>\n",
       "      <th>reap</th>\n",
       "      <th>time</th>\n",
       "    </tr>\n",
       "  </thead>\n",
       "  <tbody>\n",
       "    <tr>\n",
       "      <th>0</th>\n",
       "      <td>0.000000</td>\n",
       "      <td>0.542701</td>\n",
       "      <td>0.542701</td>\n",
       "      <td>0.641055</td>\n",
       "    </tr>\n",
       "    <tr>\n",
       "      <th>1</th>\n",
       "      <td>0.000000</td>\n",
       "      <td>0.000000</td>\n",
       "      <td>0.000000</td>\n",
       "      <td>1.000000</td>\n",
       "    </tr>\n",
       "    <tr>\n",
       "      <th>2</th>\n",
       "      <td>0.861037</td>\n",
       "      <td>0.000000</td>\n",
       "      <td>0.000000</td>\n",
       "      <td>0.508542</td>\n",
       "    </tr>\n",
       "  </tbody>\n",
       "</table>\n",
       "</div>"
      ],
      "text/plain": [
       "        fly     plant      reap      time\n",
       "0  0.000000  0.542701  0.542701  0.641055\n",
       "1  0.000000  0.000000  0.000000  1.000000\n",
       "2  0.861037  0.000000  0.000000  0.508542"
      ]
     },
     "execution_count": 34,
     "metadata": {},
     "output_type": "execute_result"
    }
   ],
   "source": [
    "l2_norm_smoothed_tf_idf = smoothed_tf_idf.copy()\n",
    "for row in range(len(l2_norm_smoothed_tf_idf)):\n",
    "    denominator = math.sqrt(sum(np.power(l2_norm_smoothed_tf_idf.iloc[row].values,2)))\n",
    "    l2_norm_smoothed_tf_idf.iloc[row] = l2_norm_smoothed_tf_idf.iloc[row]/denominator\n",
    "    \n",
    "l2_norm_smoothed_tf_idf[['fly','plant','reap','time']]"
   ]
  },
  {
   "cell_type": "markdown",
   "metadata": {},
   "source": [
    "## Conclusions\n",
    "Overall, what we have discussed during the lecture is a simplification of the process that uses simpler formulas but the process is the same used in sci-kit learn. If you want to prepare for the exams try to reproduce the computations shown in the first part of this notebook using TF as plain count (as used in the lecture slides) or as normalized percentage. The second part on scikit-learn implementation is just for your curiosity :)"
   ]
  },
  {
   "cell_type": "code",
   "execution_count": null,
   "metadata": {},
   "outputs": [],
   "source": []
  }
 ],
 "metadata": {
  "kernelspec": {
   "display_name": "Python 3.10.2 64-bit",
   "language": "python",
   "name": "python3"
  },
  "language_info": {
   "codemirror_mode": {
    "name": "ipython",
    "version": 3
   },
   "file_extension": ".py",
   "mimetype": "text/x-python",
   "name": "python",
   "nbconvert_exporter": "python",
   "pygments_lexer": "ipython3",
   "version": "3.10.2"
  },
  "vscode": {
   "interpreter": {
    "hash": "aee8b7b246df8f9039afb4144a1f6fd8d2ca17a180786b69acc140d282b71a49"
   }
  }
 },
 "nbformat": 4,
 "nbformat_minor": 4
}
