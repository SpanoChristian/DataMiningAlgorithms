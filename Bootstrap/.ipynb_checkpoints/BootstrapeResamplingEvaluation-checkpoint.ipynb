{
 "cells": [
  {
   "cell_type": "markdown",
   "metadata": {},
   "source": [
    "# Classifier Evaluation using Bootstrap\n",
    "Bootstrap can also be used to evaluate a classifier. Given the original data $D$, k datasets $D_i$ are generated from $D$ and used to train a model $M_i$ that is evaluated using the entire dataset $D$ returning the evaluation $\\theta_i$. The overall evaluation is computed as the mean and standard deviation of the $k$ values of $\\theta_i$. "
   ]
  },
  {
   "cell_type": "code",
   "execution_count": 8,
   "metadata": {},
   "outputs": [],
   "source": [
    "import numpy as np\n",
    "import pandas as pd\n",
    "import random"
   ]
  },
  {
   "cell_type": "code",
   "execution_count": 42,
   "metadata": {},
   "outputs": [],
   "source": [
    "def bootstrap(X, y, ratio=1.0):\n",
    "    \n",
    "    # compute the number of rows of the generated dataset\n",
    "    n_rows = int(X.shape[0]*ratio)\n",
    "    \n",
    "    # compute the number of columns\n",
    "    n_cols = X.shape[1]\n",
    "    \n",
    "    # create the output dataset with all zero\n",
    "    sampled_X = np.zeros((n_rows,n_cols))\n",
    "    sampled_y = np.zeros(n_rows)\n",
    "        \n",
    "    # randomly select a row from the original dataset and then copy it to the output dataset\n",
    "    for s in range(n_rows):\n",
    "        sample_index = int(random.random()*n_rows)\n",
    "        sampled_X[s,:] = X[sample_index,:]\n",
    "        sampled_y[s] = y[sample_index]\n",
    "    \n",
    "    return sampled_X, sampled_y"
   ]
  },
  {
   "cell_type": "code",
   "execution_count": 43,
   "metadata": {},
   "outputs": [],
   "source": [
    "def bootstrap_evaluation(classifier, X, y, k, metrics):\n",
    "    evaluation = []\n",
    "    for i in range(k):\n",
    "        bX,by = bootstrap(X,y)\n",
    "        classifier.fit(bX,by)\n",
    "        yp = classifier.predict(X)\n",
    "        evaluation.append(metrics(yp,y))\n",
    "    return evaluation"
   ]
  },
  {
   "cell_type": "code",
   "execution_count": 44,
   "metadata": {},
   "outputs": [],
   "source": [
    "from sklearn.datasets import load_boston\n",
    "boston = load_boston()\n",
    "X = boston.data\n",
    "y = boston.target"
   ]
  },
  {
   "cell_type": "code",
   "execution_count": 61,
   "metadata": {},
   "outputs": [],
   "source": [
    "from sklearn.metrics import r2_score\n",
    "from sklearn.linear_model import LinearRegression\n",
    "\n",
    "evaluation = bootstrap_evaluation(LinearRegression(), X, y, 10, r2_score)"
   ]
  },
  {
   "cell_type": "code",
   "execution_count": 62,
   "metadata": {},
   "outputs": [
    {
     "name": "stdout",
     "output_type": "stream",
     "text": [
      "Bootstrap Evaluation 63.7 +/ 2.1\n"
     ]
    }
   ],
   "source": [
    "print(\"Bootstrap Evaluation %.1f +/ %.1f\"%(100*np.array(evaluation).mean(),100*np.array(evaluation).std()))"
   ]
  },
  {
   "cell_type": "code",
   "execution_count": 63,
   "metadata": {},
   "outputs": [],
   "source": [
    "from sklearn.model_selection import cross_val_score\n",
    "from sklearn.model_selection import KFold\n",
    "xval_evaluation = cross_val_score(LinearRegression(), X, y, cv=KFold(n_splits=10, random_state=1234, shuffle=True))"
   ]
  },
  {
   "cell_type": "code",
   "execution_count": 64,
   "metadata": {},
   "outputs": [
    {
     "name": "stdout",
     "output_type": "stream",
     "text": [
      "Crossvalidation Evaluation 68.2 +/ 12.5\n"
     ]
    }
   ],
   "source": [
    "print(\"Crossvalidation Evaluation %.1f +/ %.1f\"%(100*np.array(xval_evaluation).mean(),100*np.array(xval_evaluation).std()))"
   ]
  }
 ],
 "metadata": {
  "kernelspec": {
   "display_name": "Python 3",
   "language": "python",
   "name": "python3"
  },
  "language_info": {
   "codemirror_mode": {
    "name": "ipython",
    "version": 3
   },
   "file_extension": ".py",
   "mimetype": "text/x-python",
   "name": "python",
   "nbconvert_exporter": "python",
   "pygments_lexer": "ipython3",
   "version": "3.7.6"
  }
 },
 "nbformat": 4,
 "nbformat_minor": 4
}
