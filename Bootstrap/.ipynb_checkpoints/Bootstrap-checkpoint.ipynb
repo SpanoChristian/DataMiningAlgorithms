{
 "cells": [
  {
   "cell_type": "markdown",
   "metadata": {},
   "source": [
    "# Bootstrap Resampling\n",
    "Bootstrap resamples a dataset of $N$ instances with replacement to generate a new dataset of the same size. An instance has a probability of $1–1/N$ of not being picked. Thus its probability of ending up in the test data is:\n",
    "\n",
    "$$\n",
    "(1-1/N)^N \\approx e^{-1} = 0.368$$\n",
    "\n",
    "This means the training data will contain approximately 63.2% of the instances. "
   ]
  },
  {
   "cell_type": "markdown",
   "metadata": {},
   "source": [
    "Let's define a function to generate a dataset applying resampling with replacement from an original dataset."
   ]
  },
  {
   "cell_type": "code",
   "execution_count": 1,
   "metadata": {},
   "outputs": [],
   "source": [
    "import numpy as np\n",
    "import pandas as pd\n",
    "import random\n",
    "from sklearn.datasets import load_boston"
   ]
  },
  {
   "cell_type": "code",
   "execution_count": 2,
   "metadata": {},
   "outputs": [],
   "source": [
    "def bootstrap(dataset, ratio=1.0):\n",
    "    \n",
    "    # compute the number of rows of the generated dataset\n",
    "    n_rows = int(dataset.shape[0]*ratio)\n",
    "    \n",
    "    # compute the number of columns\n",
    "    n_cols = dataset.shape[1]\n",
    "    \n",
    "    # create the output dataset with all zero\n",
    "    sampled_dataset = np.zeros((n_rows,n_cols))\n",
    "    \n",
    "    # randomly select a row from the original dataset and then copy it to the output dataset\n",
    "    for s in range(n_rows):\n",
    "        sample_index = int(random.random()*n_rows)\n",
    "        sampled_dataset[s,:] = dataset[sample_index,:]\n",
    "    \n",
    "    return sampled_dataset"
   ]
  },
  {
   "cell_type": "markdown",
   "metadata": {},
   "source": [
    "Now let's apply bootstrap to the boston housing dataset."
   ]
  },
  {
   "cell_type": "code",
   "execution_count": 3,
   "metadata": {},
   "outputs": [],
   "source": [
    "data = load_boston().data"
   ]
  },
  {
   "cell_type": "markdown",
   "metadata": {},
   "source": [
    "We can apply bootstrapping and generate a new dataset,"
   ]
  },
  {
   "cell_type": "code",
   "execution_count": 6,
   "metadata": {},
   "outputs": [
    {
     "name": "stdout",
     "output_type": "stream",
     "text": [
      "Bootstrap dataset contains 319 (63.0) unique examples\n"
     ]
    }
   ],
   "source": [
    "np.random.seed(328489)\n",
    "bootstrap_dataset = bootstrap(data)\n",
    "print(\"Bootstrap dataset contains %d (%.1f) unique examples\"%\n",
    "      (np.unique(bootstrap_dataset,axis=0).shape[0],\n",
    "       100*np.unique(bootstrap_dataset,axis=0).shape[0]/data.shape[0]))"
   ]
  },
  {
   "cell_type": "markdown",
   "metadata": {},
   "source": [
    "We can repeat the process several times and compute on average how many unique examples a data set generated with bootstrap resampling contains."
   ]
  },
  {
   "cell_type": "code",
   "execution_count": 7,
   "metadata": {},
   "outputs": [
    {
     "name": "stdout",
     "output_type": "stream",
     "text": [
      "The percentage of unique data points is 63.3\n"
     ]
    }
   ],
   "source": [
    "sum = 0.0\n",
    "i = 0\n",
    "for i in range(500):\n",
    "    sum = sum + np.unique(bootstrap(data),axis=0).shape[0]/506\n",
    "    i = i+1\n",
    "print(\"The percentage of unique data points is %.1f\"%(100*(sum/i)))"
   ]
  },
  {
   "cell_type": "markdown",
   "metadata": {},
   "source": [
    "This is the value we expected from the theory."
   ]
  }
 ],
 "metadata": {
  "kernelspec": {
   "display_name": "Python 3",
   "language": "python",
   "name": "python3"
  },
  "language_info": {
   "codemirror_mode": {
    "name": "ipython",
    "version": 3
   },
   "file_extension": ".py",
   "mimetype": "text/x-python",
   "name": "python",
   "nbconvert_exporter": "python",
   "pygments_lexer": "ipython3",
   "version": "3.7.6"
  }
 },
 "nbformat": 4,
 "nbformat_minor": 4
}
