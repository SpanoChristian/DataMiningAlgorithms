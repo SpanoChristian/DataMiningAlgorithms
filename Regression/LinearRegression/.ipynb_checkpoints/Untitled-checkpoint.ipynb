{
 "cells": [
  {
   "cell_type": "code",
   "execution_count": null,
   "metadata": {},
   "outputs": [],
   "source": [
    "# Using all the variables\n",
    "We now build a model to predict MEDV using all the available variables."
   ]
  },
  {
   "cell_type": "code",
   "execution_count": null,
   "metadata": {},
   "outputs": [],
   "source": [
    "dataset = pd.read_csv('housing.csv')\n",
    "\n",
    "variables = dataset.columns.tolist()\n",
    "variables.remove('MEDV')\n",
    "\n",
    "dataset_train_x = dataset[variables].values\n",
    "dataset_train_y = dataset['MEDV'].values\n",
    "\n",
    "x = dataset_train_x.reshape(len(dataset), len(variables))\n",
    "y = dataset_train_y.reshape(len(dataset), 1)\n",
    "\n",
    "multiregr = linear_model.LinearRegression()\n",
    "multiregr.fit(x, y)\n",
    "\n",
    "yp = multiregr.predict(x)\n",
    "rss = round(sum((yp-y)*(yp-y))[0],3)\n",
    "scores = cross_val_score(multiregr, x, y, cv=10)\n",
    "tss = sum((y - (sum(y)/float(len(y))))**2)[0]\n",
    "rss_cv = sum((1 - scores)*tss)/10.0"
   ]
  },
  {
   "cell_type": "code",
   "execution_count": null,
   "metadata": {},
   "outputs": [],
   "source": [
    "def pretty_print(intercept, coeff, variables, target):\n",
    "    \"\"\"Print the model equation\"\"\"\n",
    "    eq = target + \" = \" + str(round(intercept,2))\n",
    "\n",
    "    for v in range(len(coeff)):\n",
    "        sym = \" \"\n",
    "        if coeff[v]>0:\n",
    "            sym = \" + \"\n",
    "        eq = eq + sym + str(round(coeff[v],2)) + variables[v]\n",
    "\n",
    "        if (len(eq)>60):\n",
    "            print(eq)\n",
    "            eq = \" \" * (len(target + \" = \"))\n",
    "            #eq = eq + \"\\n\" + \" \"*(len(target + \" = \")\n",
    "\n",
    "    print(eq)"
   ]
  },
  {
   "cell_type": "code",
   "execution_count": null,
   "metadata": {},
   "outputs": [],
   "source": [
    "pretty_print(multiregr.intercept_[0], multiregr.coef_[0], variables, 'MEDV')\n",
    "print(\"TRAINING RSS =\",rss)\n",
    "print(\"CROSSVALIDATION RSS =\",rss_cv)"
   ]
  }
 ],
 "metadata": {
  "kernelspec": {
   "display_name": "Python 3",
   "language": "python",
   "name": "python3"
  },
  "language_info": {
   "codemirror_mode": {
    "name": "ipython",
    "version": 3
   },
   "file_extension": ".py",
   "mimetype": "text/x-python",
   "name": "python",
   "nbconvert_exporter": "python",
   "pygments_lexer": "ipython3",
   "version": "3.7.6"
  }
 },
 "nbformat": 4,
 "nbformat_minor": 4
}
