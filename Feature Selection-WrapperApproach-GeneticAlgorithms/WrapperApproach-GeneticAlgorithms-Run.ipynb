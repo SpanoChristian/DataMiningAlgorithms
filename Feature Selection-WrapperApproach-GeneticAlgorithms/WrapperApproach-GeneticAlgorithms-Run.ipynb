{
 "cells": [
  {
   "cell_type": "markdown",
   "metadata": {},
   "source": [
    "# Feature Selection - Wrapper Approach using a Genetic Algorithm\n",
    "In this notebook we implement a rather simple feature selection procedure that follows a wrapper approach. The search algorithm, Genetic algorithms in this case, is wrapped around the target classification/regression algorithm."
   ]
  },
  {
   "cell_type": "code",
   "execution_count": 1,
   "metadata": {},
   "outputs": [],
   "source": [
    "import warnings\n",
    "warnings.filterwarnings('ignore')"
   ]
  },
  {
   "cell_type": "code",
   "execution_count": 2,
   "metadata": {},
   "outputs": [
    {
     "name": "stdout",
     "output_type": "stream",
     "text": [
      "Requirement already satisfied: deap in /Users/pierlucalanzi/opt/anaconda3/lib/python3.9/site-packages (1.3.3)\n",
      "Requirement already satisfied: numpy in /Users/pierlucalanzi/opt/anaconda3/lib/python3.9/site-packages (from deap) (1.21.5)\n"
     ]
    }
   ],
   "source": [
    "# install the evolutionary computation library\n",
    "!pip install deap"
   ]
  },
  {
   "cell_type": "code",
   "execution_count": 3,
   "metadata": {},
   "outputs": [],
   "source": [
    "import pandas as pd\n",
    "import numpy as np\n",
    "import matplotlib.pyplot as plt\n",
    "import random\n",
    "\n",
    "from sklearn import datasets\n",
    "from sklearn import linear_model\n",
    "from sklearn import naive_bayes\n",
    "\n",
    "from deap import algorithms\n",
    "from deap import base\n",
    "from deap import creator\n",
    "from deap import tools\n",
    "\n",
    "from sklearn.model_selection import StratifiedKFold\n",
    "from sklearn.model_selection import KFold\n",
    "from sklearn.model_selection import cross_val_score"
   ]
  },
  {
   "cell_type": "code",
   "execution_count": 4,
   "metadata": {},
   "outputs": [],
   "source": [
    "data = datasets.load_boston()\n",
    "\n",
    "X = data[\"data\"]\n",
    "y = data[\"target\"]\n",
    "\n",
    "number_of_variables = X.shape[1]\n",
    "input_variables = data.feature_names\n",
    "target_variable = 'MEDV'\n",
    "\n",
    "seed = 1234\n",
    "np.random.seed(seed)\n",
    "\n",
    "# let's create also a pandas data frame\n",
    "df = pd.DataFrame(data.data, columns=data.feature_names)\n",
    "df['MEDV'] = y\n",
    "df.head()\n",
    "\n",
    "kfolds = KFold(10,shuffle=True,random_state=seed)\n"
   ]
  },
  {
   "cell_type": "code",
   "execution_count": 5,
   "metadata": {},
   "outputs": [],
   "source": [
    "def EvaluateFeatureSubsetSingleObjective(individual):\n",
    "    selected_columns = []\n",
    "    for i,allele in enumerate(individual):\n",
    "        if (allele==1):\n",
    "            selected_columns.append(df.columns[i])\n",
    "\n",
    "    model = linear_model.LinearRegression()\n",
    "    scores = cross_val_score(model, df[selected_columns], y, cv=kfolds)\n",
    "    return scores.mean()"
   ]
  },
  {
   "cell_type": "markdown",
   "metadata": {},
   "source": [
    "## Simple Genetic Algorithm\n",
    "If looks for the feature subset that maximizes the overall performance.\n",
    "\n",
    "We have a population which is initially generated randomly. As the problem proceed, instead of adding perturbations as done in Hill-Climbing, we select some individuals based on their fitness. We may have the same indidual repeated. We then shuffle the selected individuals. Then, given a pair of individuals, we combine them, generating what is called an **offspring**. Doing so, after combining all the individuals, we have a set of offsprings."
   ]
  },
  {
   "cell_type": "code",
   "execution_count": 6,
   "metadata": {},
   "outputs": [],
   "source": [
    "# We may have multiple fitness functions so we can specify the weights\n",
    "# If we want to maximize the fitness function -> positive weights\n",
    "# Otherwise -> negative weights\n",
    "creator.create(\"FitnessMax\", base.Fitness, weights=(1.0,))\n",
    "# creator.create(\"Individual\", list, typecode='b', fitness=creator.FitnessMax)\n",
    "\n",
    "# Our individuals will be a list of elements\n",
    "creator.create(\"Individual\", list, fitness=creator.FitnessMax)\n",
    "\n",
    "toolbox = base.Toolbox()\n",
    "\n",
    "# Attribute generator\n",
    "toolbox.register(\"attr_bool\", random.randint, 0, 1)\n",
    "\n",
    "# Structure initializers\n",
    "toolbox.register(\"individual\", tools.initRepeat, creator.Individual, toolbox.attr_bool, number_of_variables)\n",
    "toolbox.register(\"population\", tools.initRepeat, list, toolbox.individual)"
   ]
  },
  {
   "cell_type": "code",
   "execution_count": 7,
   "metadata": {},
   "outputs": [],
   "source": [
    "toolbox.register(\"evaluate\", EvaluateFeatureSubsetSingleObjective)\n",
    "toolbox.register(\"mate\", tools.cxTwoPoint)\n",
    "toolbox.register(\"mutate\", tools.mutFlipBit, indpb=0.05) # indpb = flip-bit mutation prob.\n",
    "toolbox.register(\"select\", tools.selTournament, tournsize=3)"
   ]
  },
  {
   "cell_type": "markdown",
   "metadata": {},
   "source": [
    "ngen: number of generations. In words, it is the number of time we do the process of generating a population and replace the old one with the new one. "
   ]
  },
  {
   "cell_type": "code",
   "execution_count": 8,
   "metadata": {},
   "outputs": [
    {
     "name": "stdout",
     "output_type": "stream",
     "text": [
      "gen\tnevals\tavg     \tstd     \tmin     \tmax     \n",
      "0  \t100   \t0.512845\t0.125035\t0.234851\t0.675068\n",
      "1  \t61    \t0.602655\t0.0527454\t0.360924\t0.676502\n",
      "2  \t56    \t0.634393\t0.0253045\t0.577655\t0.676502\n",
      "3  \t60    \t0.654041\t0.0188658\t0.598184\t0.676502\n",
      "4  \t59    \t0.665382\t0.0157153\t0.582906\t0.682203\n",
      "5  \t71    \t0.671298\t0.0097926\t0.60405 \t0.679957\n",
      "6  \t58    \t0.672842\t0.0158896\t0.58827 \t0.682264\n",
      "7  \t57    \t0.676434\t0.0101308\t0.594975\t0.683319\n",
      "8  \t69    \t0.677967\t0.00815522\t0.604112\t0.686291\n",
      "9  \t59    \t0.677637\t0.0123841 \t0.58827 \t0.686291\n",
      "10 \t51    \t0.680008\t0.00696449\t0.632766\t0.686291\n",
      "11 \t65    \t0.68021 \t0.0129861 \t0.58827 \t0.686291\n",
      "12 \t63    \t0.682431\t0.00993126\t0.61548 \t0.686291\n",
      "13 \t59    \t0.68417 \t0.00956652\t0.607675\t0.686291\n",
      "14 \t61    \t0.683242\t0.0118698 \t0.61548 \t0.686291\n",
      "15 \t62    \t0.68412 \t0.0105585 \t0.61548 \t0.686291\n",
      "16 \t60    \t0.68096 \t0.0280862 \t0.420713\t0.686291\n",
      "17 \t67    \t0.682673\t0.0233241 \t0.45803 \t0.686291\n",
      "18 \t56    \t0.684249\t0.0105827 \t0.61548 \t0.686291\n",
      "19 \t63    \t0.683515\t0.0119667 \t0.605101\t0.686291\n",
      "20 \t55    \t0.682663\t0.0137829 \t0.604454\t0.686291\n",
      "21 \t48    \t0.685302\t0.00614351\t0.625764\t0.686291\n",
      "22 \t66    \t0.683721\t0.0114394 \t0.593238\t0.686291\n",
      "23 \t61    \t0.684058\t0.00932414\t0.61548 \t0.686291\n",
      "24 \t67    \t0.683878\t0.00816035\t0.644112\t0.686291\n",
      "25 \t71    \t0.68436 \t0.00872547\t0.61548 \t0.686291\n",
      "26 \t62    \t0.684827\t0.00653574\t0.645059\t0.686291\n",
      "27 \t69    \t0.68448 \t0.0109835 \t0.587232\t0.686291\n",
      "28 \t68    \t0.680194\t0.0272779 \t0.448335\t0.686291\n",
      "29 \t66    \t0.683418\t0.0127504 \t0.593238\t0.686291\n",
      "30 \t68    \t0.684951\t0.00530096\t0.645059\t0.686291\n",
      "31 \t54    \t0.684951\t0.0063995 \t0.636316\t0.686291\n",
      "32 \t61    \t0.684779\t0.00824092\t0.61548 \t0.686291\n",
      "33 \t67    \t0.684489\t0.00725871\t0.643344\t0.686291\n",
      "34 \t60    \t0.683401\t0.0116217 \t0.61548 \t0.686291\n",
      "35 \t62    \t0.684449\t0.00770248\t0.645059\t0.686291\n",
      "36 \t73    \t0.68342 \t0.0106156 \t0.61548 \t0.686291\n",
      "37 \t52    \t0.683192\t0.0127616 \t0.602435\t0.686291\n",
      "38 \t69    \t0.684774\t0.0067445 \t0.645059\t0.686291\n",
      "39 \t45    \t0.684985\t0.0051837 \t0.650272\t0.686291\n",
      "40 \t58    \t0.6847  \t0.00654789\t0.64719 \t0.686291\n"
     ]
    }
   ],
   "source": [
    "pop = toolbox.population(n=100)\n",
    "hof = tools.HallOfFame(1)\n",
    "stats = tools.Statistics(lambda ind: ind.fitness.values)\n",
    "stats.register(\"avg\", np.mean)\n",
    "stats.register(\"std\", np.std)\n",
    "stats.register(\"min\", np.min)\n",
    "stats.register(\"max\", np.max)\n",
    "\n",
    "pop, log = algorithms.eaSimple(pop, toolbox, cxpb=0.5, mutpb=0.2, ngen=40, stats=stats, halloffame=hof, verbose=True)"
   ]
  },
  {
   "cell_type": "markdown",
   "metadata": {},
   "source": [
    "The performances, in this case, are not fair since in the previous example we had far less evaluations while here we have more."
   ]
  },
  {
   "cell_type": "code",
   "execution_count": 13,
   "metadata": {},
   "outputs": [],
   "source": [
    "average_fitness = [gen['avg'] for gen in log]\n",
    "max_fitness = [gen['max'] for gen in log]\n",
    "min_fitness = [gen['min'] for gen in log]\n",
    "generations = [gen['gen'] for gen in log]"
   ]
  },
  {
   "cell_type": "code",
   "execution_count": 24,
   "metadata": {},
   "outputs": [
    {
     "data": {
      "image/png": "[encoded data removed]",
      "text/plain": [
       "<Figure size 640x480 with 1 Axes>"
      ]
     },
     "metadata": {},
     "output_type": "display_data"
    }
   ],
   "source": [
    "plt.plot(generations,average_fitness,label=\"Average\",c=\"black\")\n",
    "plt.plot(generations,min_fitness,label=\"Min\",c=\"red\")\n",
    "plt.plot(generations,max_fitness,label=\"Max\",c=\"blue\")\n",
    "plt.axis([0,max(generations),0,.8])\n",
    "plt.legend();"
   ]
  },
  {
   "cell_type": "markdown",
   "metadata": {},
   "source": [
    "## Multi-objective Version\n",
    "It applies a multi-objective genetic algorithm that tries to maximize the performance while minimizing the number of features involved.\n",
    "\n",
    "The goal of feature-selection is to minimize the number of features so that the model consists of only those essential features but preserving the performances."
   ]
  },
  {
   "cell_type": "code",
   "execution_count": 21,
   "metadata": {},
   "outputs": [],
   "source": [
    "def EvaluateFeatureSubsetMultipleObjective(individual):\n",
    "    '''returns the average performance and the number of features involved'''\n",
    "    selected_columns = []\n",
    "    for i, allele in enumerate(individual):\n",
    "        if (allele==1):\n",
    "            selected_columns.append(df.columns[i])\n",
    "\n",
    "    if (len(selected_columns)>0):\n",
    "        model = linear_model.LinearRegression()\n",
    "        scores = cross_val_score(model, df[selected_columns], y, cv=kfolds)\n",
    "        return scores.mean(), sum(individual)/float(len(individual))\n",
    "    else:\n",
    "        return 0, len(individual)"
   ]
  },
  {
   "cell_type": "code",
   "execution_count": 22,
   "metadata": {},
   "outputs": [],
   "source": [
    "creator.create(\"FitnessMulti\", base.Fitness, weights=(1.0, -1.0))\n",
    "creator.create(\"Individual\", list, fitness=creator.FitnessMulti)\n",
    "\n",
    "toolbox = base.Toolbox()\n",
    "# Attribute generator\n",
    "toolbox.register(\"attr_bool\", random.randint, 0, 1)\n",
    "# Structure initializers\n",
    "toolbox.register(\"individual\", tools.initRepeat, creator.Individual, toolbox.attr_bool, number_of_variables)\n",
    "toolbox.register(\"population\", tools.initRepeat, list, toolbox.individual)\n",
    "\n",
    "# Operator registering\n",
    "toolbox.register(\"evaluate\", EvaluateFeatureSubsetMultipleObjective)\n",
    "toolbox.register(\"mate\", tools.cxUniform, indpb=0.1)\n",
    "toolbox.register(\"mutate\", tools.mutFlipBit, indpb=0.05)\n",
    "toolbox.register(\"select\", tools.selNSGA2)"
   ]
  },
  {
   "cell_type": "code",
   "execution_count": 23,
   "metadata": {},
   "outputs": [
    {
     "name": "stdout",
     "output_type": "stream",
     "text": [
      "gen\tnevals\tavg                  \tstd                  \tmin                    \tmax                    \n",
      "0  \t100   \t[0.5144469 0.5      ]\t[0.1284796 0.1382477]\t[0.20913642 0.15384615]\t[0.6592851  0.84615385]\n",
      "1  \t200   \t[0.56862494 0.46      ]\t[0.12476931 0.16746633]\t[0.19063885 0.15384615]\t[0.66923613 0.76923077]\n",
      "2  \t200   \t[0.58427195 0.43615385]\t[0.12774033 0.1702956 ]\t[0.15093595 0.15384615]\t[0.66923613 0.76923077]\n",
      "3  \t200   \t[0.62065805 0.44538462]\t[0.08197667 0.1554893 ]\t[0.19012883 0.07692308]\t[0.66923613 0.76923077]\n",
      "4  \t200   \t[0.60788886 0.39846154]\t[0.10846255 0.16547582]\t[0.19012883 0.07692308]\t[0.67534841 0.69230769]\n",
      "5  \t200   \t[0.56515301 0.31846154]\t[0.15724671 0.17201211]\t[0.19012883 0.07692308]\t[0.6778203  0.69230769]\n",
      "6  \t200   \t[0.49595302 0.28461538]\t[0.21870413 0.17490488]\t[0.19012883 0.07692308]\t[0.67786589 0.69230769]\n",
      "7  \t200   \t[0.65967014 0.41769231]\t[0.02219335 0.10672921]\t[0.4993403  0.07692308]\t[0.67786589 0.61538462]\n",
      "8  \t200   \t[0.65282483 0.35076923]\t[0.02877794 0.09187076]\t[0.4993403  0.07692308]\t[0.67786589 0.61538462]\n",
      "9  \t200   \t[0.6463718 0.34     ]  \t[0.03645735 0.13811067]\t[0.4993403  0.07692308]\t[0.67786589 0.61538462]\n",
      "10 \t200   \t[0.63008806 0.29461538]\t[0.04052383 0.17305299]\t[0.4993403  0.07692308]\t[0.67786589 0.61538462]\n",
      "11 \t200   \t[0.62546342 0.37153846]\t[0.05956981 0.23129555]\t[0.4993403  0.07692308]\t[0.67786589 0.61538462]\n",
      "12 \t200   \t[0.67068468 0.57307692]\t[0.02829507 0.12180837]\t[0.4993403  0.07692308]\t[0.67878974 0.69230769]\n",
      "13 \t200   \t[0.6601076  0.50846154]\t[0.04061583 0.17604968]\t[0.4993403  0.07692308]\t[0.67878974 0.69230769]\n",
      "14 \t200   \t[0.63485004 0.35307692]\t[0.0508735 0.1931045]  \t[0.4993403  0.07692308]\t[0.67878974 0.69230769]\n",
      "15 \t200   \t[0.60813231 0.30307692]\t[0.05923872 0.23754663]\t[0.4993403  0.07692308]\t[0.67878974 0.69230769]\n",
      "16 \t200   \t[0.62120563 0.46461538]\t[0.08103242 0.27988163]\t[0.4993403  0.07692308]\t[0.67878974 0.69230769]\n",
      "17 \t200   \t[0.54942585 0.21846154]\t[0.07764025 0.23901177]\t[0.4993403  0.07692308]\t[0.67878974 0.69230769]\n",
      "18 \t200   \t[0.52430293 0.13230769]\t[0.05835362 0.14517078]\t[0.4993403  0.07692308]\t[0.67878974 0.69230769]\n",
      "19 \t200   \t[0.52430293 0.13230769]\t[0.05835362 0.14517078]\t[0.4993403  0.07692308]\t[0.67878974 0.69230769]\n",
      "20 \t200   \t[0.52430293 0.13230769]\t[0.05835362 0.14517078]\t[0.4993403  0.07692308]\t[0.67878974 0.69230769]\n",
      "21 \t200   \t[0.52430293 0.13230769]\t[0.05835362 0.14517078]\t[0.4993403  0.07692308]\t[0.67878974 0.69230769]\n",
      "22 \t200   \t[0.52430293 0.13230769]\t[0.05835362 0.14517078]\t[0.4993403  0.07692308]\t[0.67878974 0.69230769]\n",
      "23 \t200   \t[0.52430293 0.13230769]\t[0.05835362 0.14517078]\t[0.4993403  0.07692308]\t[0.67878974 0.69230769]\n",
      "24 \t200   \t[0.52430293 0.13230769]\t[0.05835362 0.14517078]\t[0.4993403  0.07692308]\t[0.67878974 0.69230769]\n",
      "25 \t200   \t[0.52430293 0.13230769]\t[0.05835362 0.14517078]\t[0.4993403  0.07692308]\t[0.67878974 0.69230769]\n",
      "26 \t200   \t[0.52617244 0.14      ]\t[0.06047992 0.1614945 ]\t[0.4993403  0.07692308]\t[0.68629149 0.84615385]\n",
      "27 \t200   \t[0.52797861 0.14692308]\t[0.0623206  0.17306667]\t[0.4993403  0.07692308]\t[0.68629149 0.84615385]\n",
      "28 \t200   \t[0.53165429 0.16153846]\t[0.06584488 0.19596522]\t[0.4993403  0.07692308]\t[0.68629149 0.84615385]\n",
      "29 \t200   \t[0.53165429 0.16153846]\t[0.06584488 0.19596522]\t[0.4993403  0.07692308]\t[0.68629149 0.84615385]\n",
      "30 \t200   \t[0.5298747  0.15461538]\t[0.06427161 0.18636828]\t[0.4993403  0.07692308]\t[0.68629149 0.84615385]\n",
      "31 \t200   \t[0.5298747  0.15461538]\t[0.06427161 0.18636828]\t[0.4993403  0.07692308]\t[0.68629149 0.84615385]\n",
      "32 \t200   \t[0.53170745 0.16153846]\t[0.06596555 0.19596522]\t[0.4993403  0.07692308]\t[0.68629149 0.84615385]\n",
      "33 \t200   \t[0.53170745 0.16153846]\t[0.06596555 0.19596522]\t[0.4993403  0.07692308]\t[0.68629149 0.84615385]\n",
      "34 \t200   \t[0.53170745 0.16153846]\t[0.06596555 0.19596522]\t[0.4993403  0.07692308]\t[0.68629149 0.84615385]\n",
      "35 \t200   \t[0.53170745 0.16153846]\t[0.06596555 0.19596522]\t[0.4993403  0.07692308]\t[0.68629149 0.84615385]\n",
      "36 \t200   \t[0.53170745 0.16153846]\t[0.06596555 0.19596522]\t[0.4993403  0.07692308]\t[0.68629149 0.84615385]\n",
      "37 \t200   \t[0.53170745 0.16153846]\t[0.06596555 0.19596522]\t[0.4993403  0.07692308]\t[0.68629149 0.84615385]\n",
      "38 \t200   \t[0.53170745 0.16153846]\t[0.06596555 0.19596522]\t[0.4993403  0.07692308]\t[0.68629149 0.84615385]\n",
      "39 \t200   \t[0.53170745 0.16153846]\t[0.06596555 0.19596522]\t[0.4993403  0.07692308]\t[0.68629149 0.84615385]\n",
      "40 \t200   \t[0.53170745 0.16153846]\t[0.06596555 0.19596522]\t[0.4993403  0.07692308]\t[0.68629149 0.84615385]\n",
      "BEST [1, 1, 0, 1, 1, 1, 0, 1, 1, 1, 1, 1, 1]\n"
     ]
    }
   ],
   "source": [
    "# random.seed(64)\n",
    "MU, LAMBDA = 100, 200\n",
    "pop = toolbox.population(n=MU)\n",
    "hof = tools.ParetoFront()\n",
    "stats = tools.Statistics(lambda ind: ind.fitness.values)\n",
    "stats.register(\"avg\", np.mean, axis=0)\n",
    "stats.register(\"std\", np.std, axis=0)\n",
    "stats.register(\"min\", np.min, axis=0)\n",
    "stats.register(\"max\", np.max, axis=0)\n",
    "\n",
    "pop, logbook = algorithms.eaMuPlusLambda(pop, toolbox, mu=MU, lambda_=LAMBDA,\n",
    "                                         cxpb=0.7, mutpb=0.3, ngen=40, \n",
    "                                         stats=stats, halloffame=hof)\n",
    "\n",
    "print(\"BEST \"+str(hof[0]))\n"
   ]
  },
  {
   "cell_type": "code",
   "execution_count": 27,
   "metadata": {},
   "outputs": [],
   "source": [
    "average_fitness1 = [gen['avg'][0] for gen in logbook]\n",
    "average_fitness2 = [gen['avg'][1] for gen in logbook]"
   ]
  },
  {
   "cell_type": "code",
   "execution_count": 39,
   "metadata": {},
   "outputs": [
    {
     "data": {
      "image/png": "[encoded data removed]",
      "text/plain": [
       "<Figure size 640x480 with 1 Axes>"
      ]
     },
     "metadata": {},
     "output_type": "display_data"
    }
   ],
   "source": [
    "plt.scatter(average_fitness1, average_fitness2);\n",
    "plt.xlabel(\"Performance\")\n",
    "plt.ylabel(\"% of features\")\n",
    "plt.xticks(np.arange(0.5, 0.71, 0.05))"
   ]
  },
  {
   "cell_type": "markdown",
   "metadata": {},
   "source": [
    "## Discussion\n",
    "Note that we applied genetic algorithms using the entire dataset for the evaluation of the feature subset. In a real scenario we should have initially split the data as train and test and then applied the genetic algorithm only using the training dataset.\n",
    "\n",
    "We still need to have a test-set to assess the performance properly. Moreover, notice that the performances obtained are comparable."
   ]
  }
 ],
 "metadata": {
  "kernelspec": {
   "display_name": "Python 3.10.2 64-bit",
   "language": "python",
   "name": "python3"
  },
  "language_info": {
   "codemirror_mode": {
    "name": "ipython",
    "version": 3
   },
   "file_extension": ".py",
   "mimetype": "text/x-python",
   "name": "python",
   "nbconvert_exporter": "python",
   "pygments_lexer": "ipython3",
   "version": "3.10.2"
  },
  "vscode": {
   "interpreter": {
    "hash": "aee8b7b246df8f9039afb4144a1f6fd8d2ca17a180786b69acc140d282b71a49"
   }
  }
 },
 "nbformat": 4,
 "nbformat_minor": 4
}
