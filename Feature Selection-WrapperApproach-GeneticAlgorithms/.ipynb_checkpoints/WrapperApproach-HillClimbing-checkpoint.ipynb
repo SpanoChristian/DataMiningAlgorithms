{
 "cells": [
  {
   "cell_type": "markdown",
   "metadata": {},
   "source": [
    "# Wrapper Approach - Hill Climbing\n",
    "In this notebook we implement a rather simple feature selection procedure that follows a wrapper approach. The search algorithm, hill climbing in this case, is wrapped around the target classification/regression algorithm.\n",
    "\n",
    "First we import the libraries that we will need."
   ]
  },
  {
   "cell_type": "code",
   "execution_count": 1,
   "metadata": {},
   "outputs": [],
   "source": [
    "import pandas as pd\n",
    "import numpy as np\n",
    "import matplotlib.pyplot as plt\n",
    "import random\n",
    "\n",
    "from sklearn import datasets\n",
    "from sklearn import linear_model\n",
    "from sklearn import naive_bayes\n",
    "\n",
    "from deap import algorithms\n",
    "from deap import base\n",
    "from deap import creator\n",
    "from deap import tools\n",
    "\n",
    "from sklearn.model_selection import StratifiedKFold\n",
    "from sklearn.model_selection import KFold\n",
    "from sklearn.model_selection import cross_val_score"
   ]
  },
  {
   "cell_type": "markdown",
   "metadata": {},
   "source": [
    "Next we load the data and generate the k-fold evaluations."
   ]
  },
  {
   "cell_type": "code",
   "execution_count": 3,
   "metadata": {},
   "outputs": [],
   "source": [
    "data = datasets.load_boston()\n",
    "\n",
    "X = data[\"data\"]\n",
    "y = data[\"target\"]\n",
    "\n",
    "number_of_variables = X.shape[1]\n",
    "input_variables = data.feature_names\n",
    "target_variable = 'MEDV'\n",
    "\n",
    "seed = 1234\n",
    "np.random.seed(seed)\n",
    "\n",
    "# let's create also a pandas data frame\n",
    "df = pd.DataFrame(data.data, columns=data.feature_names)\n",
    "df['MEDV'] = y\n",
    "df.head()\n",
    "\n",
    "kfolds = KFold(10,shuffle=True,random_state=seed)"
   ]
  },
  {
   "cell_type": "markdown",
   "metadata": {},
   "source": [
    "## Hill Climbing"
   ]
  },
  {
   "cell_type": "code",
   "execution_count": 45,
   "metadata": {},
   "outputs": [],
   "source": [
    "def HillClimbing(number_of_variables,number_of_evaluation,evaluation_function):\n",
    "\n",
    "    # current evaluation\n",
    "    evaluations = 0\n",
    "    \n",
    "    current_feature_subset = [random.randint(0,1) for x in range(number_of_variables)]\n",
    "\n",
    "    best_performance = evaluation_function(x)\n",
    "    \n",
    "    print(\"%5d\\t\\t%3.2f\\t%s\"%(evaluations,best_performance,str(current_feature_subset)))\n",
    "    \n",
    "    while evaluations<number_of_evaluations:\n",
    "        \n",
    "        perturbation = [(lambda : 1-x if (random.random()<0.1) else x)(x) for x in current_feature_subset]\n",
    "\n",
    "        performance = evaluation_function(perturbation)\n",
    "        \n",
    "        if (performance>best_performance):\n",
    "            best_performance = performance\n",
    "            current_feature_subset = perturbation\n",
    "            \n",
    "        evaluations = evaluations + 1\n",
    "\n",
    "    print(\"Best Feature Subset = %s \"%(str(x)))\n",
    "    print(\"Performance = %3.2f\"%(best_performance))"
   ]
  },
  {
   "cell_type": "code",
   "execution_count": 6,
   "metadata": {},
   "outputs": [
    {
     "data": {
      "text/plain": [
       "[1, 1, 1, 1, 1, 1, 1, 1, 1, 1, 1, 1, 1]"
      ]
     },
     "execution_count": 6,
     "metadata": {},
     "output_type": "execute_result"
    }
   ],
   "source": [
    "[random.randint(0,1)]*number_of_variables"
   ]
  },
  {
   "cell_type": "code",
   "execution_count": 7,
   "metadata": {},
   "outputs": [
    {
     "data": {
      "text/plain": [
       "[0, 0, 0, 0, 0, 0, 0, 0, 0, 0, 0, 0, 0]"
      ]
     },
     "execution_count": 7,
     "metadata": {},
     "output_type": "execute_result"
    }
   ],
   "source": [
    "[random.randint(0,1)]*number_of_variables"
   ]
  },
  {
   "cell_type": "code",
   "execution_count": 8,
   "metadata": {},
   "outputs": [
    {
     "data": {
      "text/plain": [
       "[0, 1, 0, 0, 1, 1, 0, 1, 1, 0, 1, 0, 0]"
      ]
     },
     "execution_count": 8,
     "metadata": {},
     "output_type": "execute_result"
    }
   ],
   "source": [
    "[random.randint(0,1) for x in range(number_of_variables)]"
   ]
  },
  {
   "cell_type": "code",
   "execution_count": 11,
   "metadata": {},
   "outputs": [],
   "source": [
    "def Perturbation(x,p=.01):\n",
    "    \"\"\"\n",
    "    :param x: individual\n",
    "    :param p: probability of perturbation\n",
    "    :return: new individual\n",
    "    \"\"\"\n",
    "\n",
    "    nx = []\n",
    "    i = 0\n",
    "    while i<len(x):\n",
    "        if (random.random()<p):\n",
    "            nx.append(1-int(x[i]))\n",
    "        else:\n",
    "            nx.append(int(x[i]))\n",
    "        i = i + 1\n",
    "\n",
    "    return tuple(nx)"
   ]
  },
  {
   "cell_type": "code",
   "execution_count": 13,
   "metadata": {},
   "outputs": [],
   "source": [
    "individual = [0, 1, 0, 0, 1, 1, 0, 1, 1, 0, 1, 0, 0]"
   ]
  },
  {
   "cell_type": "code",
   "execution_count": 44,
   "metadata": {},
   "outputs": [
    {
     "name": "stdout",
     "output_type": "stream",
     "text": [
      "9\n"
     ]
    }
   ],
   "source": [
    "perturbation = [(lambda x: 1-x if (random.random()<0.1) else x)(x) for x in individual]\n",
    "print(sum(perturbation))"
   ]
  },
  {
   "cell_type": "code",
   "execution_count": 38,
   "metadata": {},
   "outputs": [],
   "source": [
    "f = (lambda x: 1-x if (random.random()<0.1) else x)"
   ]
  },
  {
   "cell_type": "code",
   "execution_count": 42,
   "metadata": {},
   "outputs": [],
   "source": [
    "individual = [0]*100"
   ]
  },
  {
   "cell_type": "code",
   "execution_count": null,
   "metadata": {},
   "outputs": [],
   "source": []
  }
 ],
 "metadata": {
  "kernelspec": {
   "display_name": "Python 3",
   "language": "python",
   "name": "python3"
  },
  "language_info": {
   "codemirror_mode": {
    "name": "ipython",
    "version": 3
   },
   "file_extension": ".py",
   "mimetype": "text/x-python",
   "name": "python",
   "nbconvert_exporter": "python",
   "pygments_lexer": "ipython3",
   "version": "3.7.4"
  }
 },
 "nbformat": 4,
 "nbformat_minor": 4
}
