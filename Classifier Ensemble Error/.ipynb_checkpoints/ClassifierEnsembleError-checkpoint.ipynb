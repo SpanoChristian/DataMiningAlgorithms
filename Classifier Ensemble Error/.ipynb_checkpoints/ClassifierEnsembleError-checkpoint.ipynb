{
 "cells": [
  {
   "cell_type": "markdown",
   "metadata": {},
   "source": [
    "# Why Do Ensembles Work?\n",
    "Suppose there are 25 base classifiers and each classifier has error rate, ε = 0.35. Assume classifiers are independent. The probability that the ensemble makes a wrong prediction is\n",
    "\n",
    "$\\sum_{i=13}^{25}{25 \\choose i}\\epsilon^i(1-\\epsilon)^{25-i}=0.06$\n"
   ]
  },
  {
   "cell_type": "code",
   "execution_count": 5,
   "metadata": {},
   "outputs": [],
   "source": [
    "import math"
   ]
  },
  {
   "cell_type": "code",
   "execution_count": 24,
   "metadata": {},
   "outputs": [],
   "source": [
    "def nCr(n,k):\n",
    "    \"\"\"Compute n choose k\"\"\"\n",
    "    return math.factorial(n) / math.factorial(k) / math.factorial(n-k)"
   ]
  },
  {
   "cell_type": "code",
   "execution_count": 25,
   "metadata": {},
   "outputs": [],
   "source": [
    "def EnsembleError(n,e):\n",
    "    \"\"\"Compute the overall error of an ensemble with n classifiers with error e\"\"\"\n",
    "    majority = int(n/2)+1\n",
    "    error = 0\n",
    "    for i in range(majority,n+1):\n",
    "        error = error + nCr(n,i)*(e**i)*(1-e)**(n-i)\n",
    "    return error"
   ]
  },
  {
   "cell_type": "code",
   "execution_count": 22,
   "metadata": {},
   "outputs": [
    {
     "data": {
      "text/plain": [
       "0.06044491356702048"
      ]
     },
     "execution_count": 22,
     "metadata": {},
     "output_type": "execute_result"
    }
   ],
   "source": [
    "EnsembleError(25,0.35)"
   ]
  },
  {
   "cell_type": "code",
   "execution_count": 23,
   "metadata": {},
   "outputs": [
    {
     "data": {
      "text/plain": [
       "0.8702342941780972"
      ]
     },
     "execution_count": 23,
     "metadata": {},
     "output_type": "execute_result"
    }
   ],
   "source": [
    "EnsembleError(40,0.6)"
   ]
  }
 ],
 "metadata": {
  "kernelspec": {
   "display_name": "Python 3",
   "language": "python",
   "name": "python3"
  },
  "language_info": {
   "codemirror_mode": {
    "name": "ipython",
    "version": 3
   },
   "file_extension": ".py",
   "mimetype": "text/x-python",
   "name": "python",
   "nbconvert_exporter": "python",
   "pygments_lexer": "ipython3",
   "version": "3.7.4"
  }
 },
 "nbformat": 4,
 "nbformat_minor": 4
}
