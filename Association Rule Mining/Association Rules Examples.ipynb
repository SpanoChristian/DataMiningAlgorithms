{
 "cells": [
  {
   "cell_type": "markdown",
   "metadata": {},
   "source": [
    "# Association Rule Mining\n",
    "This notebooks ...\n",
    "\n",
    "http://r-statistics.co/Association-Mining-With-R.html\n",
    "\n",
    "First we load the R library for association rule mining. Note that there is no such thing in Python and only basic implementations are available for Python."
   ]
  },
  {
   "cell_type": "code",
   "execution_count": 1,
   "metadata": {},
   "outputs": [
    {
     "ename": "NameError",
     "evalue": "name 'library' is not defined",
     "output_type": "error",
     "traceback": [
      "\u001b[0;31m---------------------------------------------------------------------------\u001b[0m",
      "\u001b[0;31mNameError\u001b[0m                                 Traceback (most recent call last)",
      "\u001b[0;32m<ipython-input-1-3bd8d62430d7>\u001b[0m in \u001b[0;36m<module>\u001b[0;34m\u001b[0m\n\u001b[0;32m----> 1\u001b[0;31m \u001b[0mlibrary\u001b[0m\u001b[0;34m(\u001b[0m\u001b[0marules\u001b[0m\u001b[0;34m)\u001b[0m\u001b[0;34m\u001b[0m\u001b[0;34m\u001b[0m\u001b[0m\n\u001b[0m",
      "\u001b[0;31mNameError\u001b[0m: name 'library' is not defined"
     ]
    }
   ],
   "source": [
    "library(arules)"
   ]
  },
  {
   "cell_type": "markdown",
   "metadata": {},
   "source": [
    "Load an example data set about groceries"
   ]
  },
  {
   "cell_type": "code",
   "execution_count": 3,
   "metadata": {},
   "outputs": [
    {
     "name": "stdout",
     "output_type": "stream",
     "text": [
      "     items                     \n",
      "[1]  {citrus fruit,            \n",
      "      semi-finished bread,     \n",
      "      margarine,               \n",
      "      ready soups}             \n",
      "[2]  {tropical fruit,          \n",
      "      yogurt,                  \n",
      "      coffee}                  \n",
      "[3]  {whole milk}              \n",
      "[4]  {pip fruit,               \n",
      "      yogurt,                  \n",
      "      cream cheese ,           \n",
      "      meat spreads}            \n",
      "[5]  {other vegetables,        \n",
      "      whole milk,              \n",
      "      condensed milk,          \n",
      "      long life bakery product}\n",
      "[6]  {whole milk,              \n",
      "      butter,                  \n",
      "      yogurt,                  \n",
      "      rice,                    \n",
      "      abrasive cleaner}        \n",
      "[7]  {rolls/buns}              \n",
      "[8]  {other vegetables,        \n",
      "      UHT-milk,                \n",
      "      rolls/buns,              \n",
      "      bottled beer,            \n",
      "      liquor (appetizer)}      \n",
      "[9]  {pot plants}              \n",
      "[10] {whole milk,              \n",
      "      cereals}                 \n"
     ]
    }
   ],
   "source": [
    "data(Groceries)\n",
    "inspect(head(Groceries, 10))"
   ]
  },
  {
   "cell_type": "markdown",
   "metadata": {},
   "source": [
    "Check the number of items in the top five transactions."
   ]
  },
  {
   "cell_type": "code",
   "execution_count": 5,
   "metadata": {},
   "outputs": [
    {
     "data": {
      "text/html": [
       "<ol class=list-inline>\n",
       "\t<li>4</li>\n",
       "\t<li>3</li>\n",
       "\t<li>1</li>\n",
       "\t<li>4</li>\n",
       "\t<li>4</li>\n",
       "\t<li>5</li>\n",
       "\t<li>1</li>\n",
       "\t<li>5</li>\n",
       "\t<li>1</li>\n",
       "\t<li>2</li>\n",
       "</ol>\n"
      ],
      "text/latex": [
       "\\begin{enumerate*}\n",
       "\\item 4\n",
       "\\item 3\n",
       "\\item 1\n",
       "\\item 4\n",
       "\\item 4\n",
       "\\item 5\n",
       "\\item 1\n",
       "\\item 5\n",
       "\\item 1\n",
       "\\item 2\n",
       "\\end{enumerate*}\n"
      ],
      "text/markdown": [
       "1. 4\n",
       "2. 3\n",
       "3. 1\n",
       "4. 4\n",
       "5. 4\n",
       "6. 5\n",
       "7. 1\n",
       "8. 5\n",
       "9. 1\n",
       "10. 2\n",
       "\n",
       "\n"
      ],
      "text/plain": [
       " [1] 4 3 1 4 4 5 1 5 1 2"
      ]
     },
     "metadata": {},
     "output_type": "display_data"
    }
   ],
   "source": [
    "size(head(Groceries,10))"
   ]
  },
  {
   "cell_type": "code",
   "execution_count": 6,
   "metadata": {},
   "outputs": [
    {
     "name": "stdout",
     "output_type": "stream",
     "text": [
      "Apriori\n",
      "\n",
      "Parameter specification:\n",
      " confidence minval smax arem  aval originalSupport maxtime support minlen\n",
      "         NA    0.1    1 none FALSE            TRUE       5   0.001      1\n",
      " maxlen            target   ext\n",
      "      3 frequent itemsets FALSE\n",
      "\n",
      "Algorithmic control:\n",
      " filter tree heap memopt load sort verbose\n",
      "    0.1 TRUE TRUE  FALSE TRUE    2    TRUE\n",
      "\n",
      "Absolute minimum support count: 9 \n",
      "\n",
      "set item appearances ...[0 item(s)] done [0.00s].\n",
      "set transactions ...[169 item(s), 9835 transaction(s)] done [0.00s].\n",
      "sorting and recoding items ... [157 item(s)] done [0.00s].\n",
      "creating transaction tree ... done [0.00s].\n",
      "checking subsets of size 1 2 3"
     ]
    },
    {
     "name": "stderr",
     "output_type": "stream",
     "text": [
      "Warning message in apriori(Groceries, parameter = list(target = \"frequent itemsets\", :\n",
      "“Mining stopped (maxlen reached). Only patterns up to a length of 3 returned!”"
     ]
    },
    {
     "name": "stdout",
     "output_type": "stream",
     "text": [
      " done [0.00s].\n",
      "writing ... [9969 set(s)] done [0.00s].\n",
      "creating S4 object  ... done [0.00s].\n"
     ]
    }
   ],
   "source": [
    "ap_frequent_itemsets <- apriori(Groceries, parameter = list (target=\"frequent itemsets\", supp = 0.001, conf = 0.5, maxlen=3)) # maxlen = 3 limits the elements in a rule to 3"
   ]
  },
  {
   "cell_type": "code",
   "execution_count": 7,
   "metadata": {},
   "outputs": [
    {
     "name": "stdout",
     "output_type": "stream",
     "text": [
      "     items                    support     count\n",
      "[1]  {hair spray}             0.001118454 11   \n",
      "[2]  {flower soil/fertilizer} 0.001931876 19   \n",
      "[3]  {rubbing alcohol}        0.001016777 10   \n",
      "[4]  {frozen fruits}          0.001220132 12   \n",
      "[5]  {prosecco}               0.002033554 20   \n",
      "[6]  {honey}                  0.001525165 15   \n",
      "[7]  {cream}                  0.001321810 13   \n",
      "[8]  {decalcifier}            0.001525165 15   \n",
      "[9]  {organic products}       0.001626843 16   \n",
      "[10] {soap}                   0.002643620 26   \n"
     ]
    }
   ],
   "source": [
    "inspect(head(ap_frequent_itemsets,10))"
   ]
  },
  {
   "cell_type": "code",
   "execution_count": 8,
   "metadata": {},
   "outputs": [
    {
     "name": "stdout",
     "output_type": "stream",
     "text": [
      "Apriori\n",
      "\n",
      "Parameter specification:\n",
      " confidence minval smax arem  aval originalSupport maxtime support minlen\n",
      "        0.5    0.1    1 none FALSE            TRUE       5   0.001      1\n",
      " maxlen target   ext\n",
      "      3  rules FALSE\n",
      "\n",
      "Algorithmic control:\n",
      " filter tree heap memopt load sort verbose\n",
      "    0.1 TRUE TRUE  FALSE TRUE    2    TRUE\n",
      "\n",
      "Absolute minimum support count: 9 \n",
      "\n",
      "set item appearances ...[0 item(s)] done [0.00s].\n",
      "set transactions ...[169 item(s), 9835 transaction(s)] done [0.00s].\n",
      "sorting and recoding items ... [157 item(s)] done [0.00s].\n",
      "creating transaction tree ... done [0.00s].\n",
      "checking subsets of size 1 2 3"
     ]
    },
    {
     "name": "stderr",
     "output_type": "stream",
     "text": [
      "Warning message in apriori(Groceries, parameter = list(supp = 0.001, conf = 0.5, :\n",
      "“Mining stopped (maxlen reached). Only patterns up to a length of 3 returned!”"
     ]
    },
    {
     "name": "stdout",
     "output_type": "stream",
     "text": [
      " done [0.00s].\n",
      "writing ... [1472 rule(s)] done [0.00s].\n",
      "creating S4 object  ... done [0.00s].\n"
     ]
    }
   ],
   "source": [
    "# maxlen = 3 limits the elements in a rule to 3\n",
    "rules <- apriori(Groceries, parameter = list (supp = 0.001, conf = 0.5, maxlen=3)) "
   ]
  },
  {
   "cell_type": "code",
   "execution_count": 10,
   "metadata": {},
   "outputs": [
    {
     "name": "stdout",
     "output_type": "stream",
     "text": [
      "Eclat\n",
      "\n",
      "parameter specification:\n",
      " tidLists support minlen maxlen            target   ext\n",
      "    FALSE    0.07      1     15 frequent itemsets FALSE\n",
      "\n",
      "algorithmic control:\n",
      " sparse sort verbose\n",
      "      7   -2    TRUE\n",
      "\n",
      "Absolute minimum support count: 688 \n",
      "\n",
      "create itemset ... \n",
      "set transactions ...[169 item(s), 9835 transaction(s)] done [0.00s].\n",
      "sorting and recoding items ... [18 item(s)] done [0.00s].\n",
      "creating sparse bit matrix ... [18 row(s), 9835 column(s)] done [0.00s].\n",
      "writing  ... [19 set(s)] done [0.00s].\n",
      "Creating S4 object  ... done [0.00s].\n"
     ]
    }
   ],
   "source": [
    "frequentItems <- eclat (Groceries, parameter = list(supp = 0.07, maxlen = 15)) # calculates support for frequent items inspect(frequentItems)\n"
   ]
  },
  {
   "cell_type": "code",
   "execution_count": 11,
   "metadata": {},
   "outputs": [
    {
     "data": {
      "text/html": [
       "<ol>\n",
       "\t<li><ol class=list-inline>\n",
       "\t<li>'citrus fruit'</li>\n",
       "\t<li>'semi-finished bread'</li>\n",
       "\t<li>'margarine'</li>\n",
       "\t<li>'ready soups'</li>\n",
       "</ol>\n",
       "</li>\n",
       "\t<li><ol class=list-inline>\n",
       "\t<li>'tropical fruit'</li>\n",
       "\t<li>'yogurt'</li>\n",
       "\t<li>'coffee'</li>\n",
       "</ol>\n",
       "</li>\n",
       "\t<li>'whole milk'</li>\n",
       "</ol>\n"
      ],
      "text/latex": [
       "\\begin{enumerate}\n",
       "\\item \\begin{enumerate*}\n",
       "\\item 'citrus fruit'\n",
       "\\item 'semi-finished bread'\n",
       "\\item 'margarine'\n",
       "\\item 'ready soups'\n",
       "\\end{enumerate*}\n",
       "\n",
       "\\item \\begin{enumerate*}\n",
       "\\item 'tropical fruit'\n",
       "\\item 'yogurt'\n",
       "\\item 'coffee'\n",
       "\\end{enumerate*}\n",
       "\n",
       "\\item 'whole milk'\n",
       "\\end{enumerate}\n"
      ],
      "text/markdown": [
       "1. 1. 'citrus fruit'\n",
       "2. 'semi-finished bread'\n",
       "3. 'margarine'\n",
       "4. 'ready soups'\n",
       "\n",
       "\n",
       "\n",
       "2. 1. 'tropical fruit'\n",
       "2. 'yogurt'\n",
       "3. 'coffee'\n",
       "\n",
       "\n",
       "\n",
       "3. 'whole milk'\n",
       "\n",
       "\n"
      ],
      "text/plain": [
       "[[1]]\n",
       "[1] \"citrus fruit\"        \"semi-finished bread\" \"margarine\"          \n",
       "[4] \"ready soups\"        \n",
       "\n",
       "[[2]]\n",
       "[1] \"tropical fruit\" \"yogurt\"         \"coffee\"        \n",
       "\n",
       "[[3]]\n",
       "[1] \"whole milk\"\n"
      ]
     },
     "metadata": {},
     "output_type": "display_data"
    }
   ],
   "source": [
    "LIST(head(Groceries, 3))"
   ]
  },
  {
   "cell_type": "code",
   "execution_count": 12,
   "metadata": {},
   "outputs": [
    {
     "data": {
      "image/png": "[encoded data removed]",
      "text/plain": [
       "Plot with title “Item Frequency”"
      ]
     },
     "metadata": {},
     "output_type": "display_data"
    }
   ],
   "source": [
    "# plot frequent items\n",
    "itemFrequencyPlot(Groceries, names = FALSE, topN=100, type=\"absolute\", main=\"Item Frequency\") "
   ]
  },
  {
   "cell_type": "code",
   "execution_count": 13,
   "metadata": {},
   "outputs": [
    {
     "name": "stdout",
     "output_type": "stream",
     "text": [
      "Apriori\n",
      "\n",
      "Parameter specification:\n",
      " confidence minval smax arem  aval originalSupport maxtime support minlen\n",
      "        0.5    0.1    1 none FALSE            TRUE       5   0.001      1\n",
      " maxlen target   ext\n",
      "     10  rules FALSE\n",
      "\n",
      "Algorithmic control:\n",
      " filter tree heap memopt load sort verbose\n",
      "    0.1 TRUE TRUE  FALSE TRUE    2    TRUE\n",
      "\n",
      "Absolute minimum support count: 9 \n",
      "\n",
      "set item appearances ...[0 item(s)] done [0.00s].\n",
      "set transactions ...[169 item(s), 9835 transaction(s)] done [0.00s].\n",
      "sorting and recoding items ... [157 item(s)] done [0.00s].\n",
      "creating transaction tree ... done [0.00s].\n",
      "checking subsets of size 1 2 3 4 5 6 done [0.01s].\n",
      "writing ... [5668 rule(s)] done [0.00s].\n",
      "creating S4 object  ... done [0.00s].\n",
      "    lhs                     rhs                    support confidence     lift count\n",
      "[1] {rice,                                                                          \n",
      "     sugar}              => {whole milk}       0.001220132          1 3.913649    12\n",
      "[2] {canned fish,                                                                   \n",
      "     hygiene articles}   => {whole milk}       0.001118454          1 3.913649    11\n",
      "[3] {root vegetables,                                                               \n",
      "     butter,                                                                        \n",
      "     rice}               => {whole milk}       0.001016777          1 3.913649    10\n",
      "[4] {root vegetables,                                                               \n",
      "     whipped/sour cream,                                                            \n",
      "     flour}              => {whole milk}       0.001728521          1 3.913649    17\n",
      "[5] {butter,                                                                        \n",
      "     soft cheese,                                                                   \n",
      "     domestic eggs}      => {whole milk}       0.001016777          1 3.913649    10\n",
      "[6] {citrus fruit,                                                                  \n",
      "     root vegetables,                                                               \n",
      "     soft cheese}        => {other vegetables} 0.001016777          1 5.168156    10\n"
     ]
    }
   ],
   "source": [
    "# Min Support as 0.001, confidence as 0.8.\n",
    "rules <- apriori (Groceries, parameter = list(supp = 0.001, conf = 0.5)) \n",
    "\n",
    "# 'high-confidence' rules.\n",
    "rules_conf <- sort (rules, by=\"confidence\", decreasing=TRUE) \n",
    "inspect(head(rules_conf)) "
   ]
  },
  {
   "cell_type": "code",
   "execution_count": 14,
   "metadata": {},
   "outputs": [
    {
     "name": "stdout",
     "output_type": "stream",
     "text": [
      "    lhs                        rhs                  support confidence     lift count\n",
      "[1] {Instant food products,                                                          \n",
      "     soda}                  => {hamburger meat} 0.001220132  0.6315789 18.99565    12\n",
      "[2] {soda,                                                                           \n",
      "     popcorn}               => {salty snack}    0.001220132  0.6315789 16.69779    12\n",
      "[3] {flour,                                                                          \n",
      "     baking powder}         => {sugar}          0.001016777  0.5555556 16.40807    10\n",
      "[4] {ham,                                                                            \n",
      "     processed cheese}      => {white bread}    0.001931876  0.6333333 15.04549    19\n",
      "[5] {whole milk,                                                                     \n",
      "     Instant food products} => {hamburger meat} 0.001525165  0.5000000 15.03823    15\n",
      "[6] {other vegetables,                                                               \n",
      "     curd,                                                                           \n",
      "     yogurt,                                                                         \n",
      "     whipped/sour cream}    => {cream cheese }  0.001016777  0.5882353 14.83409    10\n"
     ]
    }
   ],
   "source": [
    "rules_lift <- sort (rules, by=\"lift\", decreasing=TRUE) # 'high-lift' rules.\n",
    "inspect(head(rules_lift)) # show the support, lift and confidence for all rules"
   ]
  },
  {
   "cell_type": "code",
   "execution_count": 15,
   "metadata": {},
   "outputs": [
    {
     "data": {
      "text/html": [
       "3913"
      ],
      "text/latex": [
       "3913"
      ],
      "text/markdown": [
       "3913"
      ],
      "text/plain": [
       "[1] 3913"
      ]
     },
     "metadata": {},
     "output_type": "display_data"
    }
   ],
   "source": [
    "subsetRules <- which(colSums(is.subset(rules, rules)) > 1) # get subset rules in vector\n",
    "length(subsetRules)  #> 3913\n",
    "rules <- rules[-subsetRules] # remove subset rules. "
   ]
  },
  {
   "cell_type": "markdown",
   "metadata": {},
   "source": [
    "This can be achieved by modifying the appearance parameter in the apriori() function. For example,\n",
    "\n",
    "To find what factors influenced purchase of product X\n",
    "\n",
    "To find out what customers had purchased before buying ‘Whole Milk’. This will help you understand the patterns that led to the purchase of ‘whole milk’."
   ]
  },
  {
   "cell_type": "code",
   "execution_count": 16,
   "metadata": {},
   "outputs": [
    {
     "name": "stdout",
     "output_type": "stream",
     "text": [
      "    lhs                     rhs              support confidence     lift count\n",
      "[1] {rice,                                                                    \n",
      "     sugar}              => {whole milk} 0.001220132          1 3.913649    12\n",
      "[2] {canned fish,                                                             \n",
      "     hygiene articles}   => {whole milk} 0.001118454          1 3.913649    11\n",
      "[3] {root vegetables,                                                         \n",
      "     butter,                                                                  \n",
      "     rice}               => {whole milk} 0.001016777          1 3.913649    10\n",
      "[4] {root vegetables,                                                         \n",
      "     whipped/sour cream,                                                      \n",
      "     flour}              => {whole milk} 0.001728521          1 3.913649    17\n",
      "[5] {butter,                                                                  \n",
      "     soft cheese,                                                             \n",
      "     domestic eggs}      => {whole milk} 0.001016777          1 3.913649    10\n",
      "[6] {pip fruit,                                                               \n",
      "     butter,                                                                  \n",
      "     hygiene articles}   => {whole milk} 0.001016777          1 3.913649    10\n"
     ]
    }
   ],
   "source": [
    "rules <- apriori (data=Groceries, parameter=list (supp=0.001,conf = 0.08), appearance = list (default=\"lhs\",rhs=\"whole milk\"), control = list (verbose=F)) # get rules that lead to buying 'whole milk'\n",
    "rules_conf <- sort (rules, by=\"confidence\", decreasing=TRUE) # 'high-confidence' rules.\n",
    "inspect(head(rules_conf))"
   ]
  },
  {
   "cell_type": "code",
   "execution_count": 17,
   "metadata": {},
   "outputs": [
    {
     "name": "stdout",
     "output_type": "stream",
     "text": [
      "    lhs             rhs                support    confidence lift      count\n",
      "[1] {whole milk} => {other vegetables} 0.07483477 0.2928770  1.5136341 736  \n",
      "[2] {whole milk} => {rolls/buns}       0.05663447 0.2216474  1.2050318 557  \n",
      "[3] {whole milk} => {yogurt}           0.05602440 0.2192598  1.5717351 551  \n",
      "[4] {whole milk} => {root vegetables}  0.04890696 0.1914047  1.7560310 481  \n",
      "[5] {whole milk} => {tropical fruit}   0.04229792 0.1655392  1.5775950 416  \n",
      "[6] {whole milk} => {soda}             0.04006101 0.1567847  0.8991124 394  \n"
     ]
    }
   ],
   "source": [
    "rules <- apriori (data=Groceries, parameter=list (supp=0.001,conf = 0.15,minlen=2), appearance = list(default=\"rhs\",lhs=\"whole milk\"), control = list (verbose=F)) # those who bought 'milk' also bought..\n",
    "rules_conf <- sort (rules, by=\"confidence\", decreasing=TRUE) # 'high-confidence' rules.\n",
    "inspect(head(rules_conf))"
   ]
  }
 ],
 "metadata": {
  "kernelspec": {
   "display_name": "Python 3.7.6 ('base')",
   "language": "python",
   "name": "python3"
  },
  "language_info": {
   "codemirror_mode": {
    "name": "ipython",
    "version": 3
   },
   "file_extension": ".py",
   "mimetype": "text/x-python",
   "name": "python",
   "nbconvert_exporter": "python",
   "pygments_lexer": "ipython3",
   "version": "3.7.6"
  },
  "vscode": {
   "interpreter": {
    "hash": "40d3a090f54c6569ab1632332b64b2c03c39dcf918b08424e98f38b5ae0af88f"
   }
  }
 },
 "nbformat": 4,
 "nbformat_minor": 4
}
