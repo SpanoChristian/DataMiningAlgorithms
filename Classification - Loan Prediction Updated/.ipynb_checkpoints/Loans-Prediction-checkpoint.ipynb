{
 "cells": [
  {
   "cell_type": "code",
   "execution_count": 1,
   "metadata": {},
   "outputs": [],
   "source": [
    "import numpy as np\n",
    "import pandas as pd\n",
    "\n",
    "import matplotlib.pyplot as plt\n",
    "%matplotlib inline\n",
    "\n",
    "from sklearn import linear_model, datasets\n",
    "from sklearn import model_selection\n",
    "import matplotlib.pyplot as plt\n",
    "from sklearn import linear_model, datasets, neighbors\n",
    "from sklearn import model_selection\n",
    "from sklearn.model_selection import StratifiedKFold\n",
    "from sklearn.model_selection import train_test_split\n",
    "from sklearn.naive_bayes import GaussianNB\n",
    "from sklearn.preprocessing import StandardScaler\n",
    "from sklearn.neighbors import KNeighborsClassifier\n",
    "import xgboost as xgb\n",
    "from sklearn.ensemble import AdaBoostClassifier\n",
    "from sklearn.ensemble import VotingClassifier\n",
    "\n",
    "\n",
    "# Libraries for the evaluation\n",
    "from sklearn import model_selection\n",
    "from sklearn.metrics import precision_score\n",
    "from sklearn.metrics import recall_score\n",
    "from sklearn.metrics import confusion_matrix\n",
    "from sklearn.metrics import precision_recall_curve\n",
    "from sklearn.metrics import average_precision_score\n",
    "from sklearn.metrics import precision_score\n",
    "from sklearn.metrics import recall_score\n",
    "from sklearn.metrics import accuracy_score\n",
    "from sklearn.metrics import roc_curve\n",
    "from sklearn.metrics import roc_auc_score\n",
    "from sklearn.metrics import f1_score"
   ]
  },
  {
   "cell_type": "code",
   "execution_count": 2,
   "metadata": {},
   "outputs": [],
   "source": [
    "def PrintConfusionMatrix(model, true_y, predicted_y, positive=1, negative=-1):\n",
    "    cm = confusion_matrix(true_y,predicted_y)\n",
    "    print(\"\\t\"+str(model.classes_[0])+\"\\t\"+str(model.classes_[1]))\n",
    "    print(str(model.classes_[0]) + \"\\t\",cm[0][0],\"\\t\",cm[0][1])\n",
    "    print(str(model.classes_[1]) + \"\\t\",cm[1][0],\"\\t\",cm[1][1])    \n",
    "\n",
    "def PrintSignificance(stat, c):\n",
    "    if (stat[1]<(1-c)):\n",
    "        print(\"The difference is statistically significant (cf %3.2f p-value=%.4f)\"%(c,stat[1]))\n",
    "    else:\n",
    "        print(\"The difference is not statistically significant (cf %3.2f p-value=%.4f)\"%(c,stat[1]))        "
   ]
  },
  {
   "cell_type": "markdown",
   "metadata": {},
   "source": [
    "## Load Data & Build Train/Test Sets"
   ]
  },
  {
   "cell_type": "code",
   "execution_count": 3,
   "metadata": {},
   "outputs": [],
   "source": [
    "loans = pd.read_csv('LoansNumerical.csv')\n",
    "target = 'safe_loans'\n",
    "features = loans.columns[loans.columns!=target]\n",
    "\n",
    "X = loans[features]\n",
    "y = loans[target]"
   ]
  },
  {
   "cell_type": "code",
   "execution_count": 4,
   "metadata": {},
   "outputs": [],
   "source": [
    "X_train, X_test, y_train, y_test = \\\n",
    "    train_test_split(X, y,\\\n",
    "    test_size= 1/3.0, random_state =1234, shuffle=True)"
   ]
  },
  {
   "cell_type": "markdown",
   "metadata": {},
   "source": [
    "## Baseline Performance (Majority Voting)"
   ]
  },
  {
   "cell_type": "code",
   "execution_count": 5,
   "metadata": {},
   "outputs": [
    {
     "data": {
      "text/plain": [
       " 1    0.81119\n",
       "-1    0.18881\n",
       "Name: safe_loans, dtype: float64"
      ]
     },
     "execution_count": 5,
     "metadata": {},
     "output_type": "execute_result"
    }
   ],
   "source": [
    "loans[target].value_counts()/loans[target].value_counts().sum()"
   ]
  },
  {
   "cell_type": "markdown",
   "metadata": {},
   "source": [
    "## Lasso"
   ]
  },
  {
   "cell_type": "code",
   "execution_count": 6,
   "metadata": {},
   "outputs": [
    {
     "name": "stdout",
     "output_type": "stream",
     "text": [
      "Accuracy 0.811\n",
      "Precision 0.821\n",
      "Recall 0.981\n",
      "\t-1\t1\n",
      "-1\t 667 \t 7082\n",
      "1\t 620 \t 32452\n",
      "CPU times: user 8.15 s, sys: 35.4 ms, total: 8.19 s\n",
      "Wall time: 7.9 s\n"
     ]
    }
   ],
   "source": [
    "%%time\n",
    "l1lr = linear_model.LogisticRegression(penalty=\"l1\",C=100, random_state=1234, max_iter=300, solver=\"liblinear\")\n",
    "l1lr.fit(X_train,y_train)\n",
    "y_test_predict_l1 = l1lr.predict(X_test)\n",
    "print(\"Accuracy %.3f\"%(accuracy_score(y_test, y_test_predict_l1)))\n",
    "print(\"Precision %.3f\"%precision_score(y_test, y_test_predict_l1))\n",
    "print(\"Recall %.3f\"%recall_score(y_test, y_test_predict_l1))\n",
    "PrintConfusionMatrix(l1lr, y_test, y_test_predict_l1)"
   ]
  },
  {
   "cell_type": "markdown",
   "metadata": {},
   "source": [
    "## Naive Bayes"
   ]
  },
  {
   "cell_type": "code",
   "execution_count": 7,
   "metadata": {},
   "outputs": [
    {
     "name": "stdout",
     "output_type": "stream",
     "text": [
      "Accuracy 0.775\n",
      "Precision 0.840\n",
      "Recall 0.891\n",
      "\t-1\t1\n",
      "-1\t 2138 \t 5611\n",
      "1\t 3589 \t 29483\n",
      "CPU times: user 686 ms, sys: 23.3 ms, total: 710 ms\n",
      "Wall time: 88.9 ms\n"
     ]
    }
   ],
   "source": [
    "%%time\n",
    "nb = GaussianNB()\n",
    "nb.fit(X_train,y_train)\n",
    "y_test_predict_nb = nb.predict(X_test)\n",
    "print(\"Accuracy %.3f\"%(accuracy_score(y_test, y_test_predict_nb)))\n",
    "print(\"Precision %.3f\"%precision_score(y_test, y_test_predict_nb))\n",
    "print(\"Recall %.3f\"%recall_score(y_test, y_test_predict_nb))\n",
    "PrintConfusionMatrix(nb, y_test, y_test_predict_nb)"
   ]
  },
  {
   "cell_type": "markdown",
   "metadata": {},
   "source": [
    "## KNN"
   ]
  },
  {
   "cell_type": "code",
   "execution_count": 8,
   "metadata": {},
   "outputs": [
    {
     "name": "stdout",
     "output_type": "stream",
     "text": [
      "Accuracy 0.782\n",
      "Precision 0.816\n",
      "Recall 0.944\n",
      "\t-1\t1\n",
      "-1\t 731 \t 7018\n",
      "1\t 1867 \t 31205\n",
      "CPU times: user 1.7 s, sys: 15 ms, total: 1.71 s\n",
      "Wall time: 1.58 s\n"
     ]
    }
   ],
   "source": [
    "%%time\n",
    "knn = KNeighborsClassifier(n_neighbors=5, algorithm='kd_tree');\n",
    "knn.fit(X_train,y_train)\n",
    "y_test_predict_knn = knn.predict(X_test)\n",
    "print(\"Accuracy %.3f\"%(accuracy_score(y_test, y_test_predict_knn)))\n",
    "print(\"Precision %.3f\"%precision_score(y_test, y_test_predict_knn))\n",
    "print(\"Recall %.3f\"%recall_score(y_test, y_test_predict_knn))\n",
    "PrintConfusionMatrix(nb, y_test, y_test_predict_knn)"
   ]
  },
  {
   "cell_type": "markdown",
   "metadata": {},
   "source": [
    "## Random Forests"
   ]
  },
  {
   "cell_type": "code",
   "execution_count": 9,
   "metadata": {},
   "outputs": [
    {
     "name": "stdout",
     "output_type": "stream",
     "text": [
      "Accuracy 0.819\n",
      "Precision 0.830\n",
      "Recall 0.976\n",
      "\t-1\t1\n",
      "-1\t 1150 \t 6599\n",
      "1\t 802 \t 32270\n",
      "CPU times: user 7.17 s, sys: 39.7 ms, total: 7.21 s\n",
      "Wall time: 7.21 s\n"
     ]
    }
   ],
   "source": [
    "%%time\n",
    "from sklearn.ensemble import RandomForestClassifier\n",
    "rf = RandomForestClassifier(n_estimators=50,warm_start=True,oob_score=True)\n",
    "rf.fit(X_train, y_train)\n",
    "y_test_predict_rf = rf.predict(X_test)\n",
    "print(\"Accuracy %.3f\"%(accuracy_score(y_test, y_test_predict_rf)))\n",
    "print(\"Precision %.3f\"%precision_score(y_test, y_test_predict_rf))\n",
    "print(\"Recall %.3f\"%recall_score(y_test, y_test_predict_rf))\n",
    "PrintConfusionMatrix(nb, y_test, y_test_predict_rf)"
   ]
  },
  {
   "cell_type": "markdown",
   "metadata": {},
   "source": [
    "## XGBoost "
   ]
  },
  {
   "cell_type": "code",
   "execution_count": 10,
   "metadata": {},
   "outputs": [
    {
     "name": "stdout",
     "output_type": "stream",
     "text": [
      "Accuracy 0.823\n",
      "Precision 0.830\n",
      "Recall 0.983\n",
      "\t-1\t1\n",
      "-1\t 1071 \t 6678\n",
      "1\t 550 \t 32522\n",
      "CPU times: user 3min 45s, sys: 185 ms, total: 3min 45s\n",
      "Wall time: 3min 43s\n"
     ]
    }
   ],
   "source": [
    "%%time\n",
    "xgb_model = xgb.XGBClassifier(objective=\"binary:logistic\", random_state=42, n_estimators=500, booster='dart')\n",
    "xgb_model.fit(X_train, y_train)\n",
    "y_test_predict_xgb = xgb_model.predict(X_test)\n",
    "print(\"Accuracy %.3f\"%(accuracy_score(y_test, y_test_predict_xgb)))\n",
    "print(\"Precision %.3f\"%precision_score(y_test, y_test_predict_xgb))\n",
    "print(\"Recall %.3f\"%recall_score(y_test, y_test_predict_xgb))\n",
    "PrintConfusionMatrix(nb, y_test, y_test_predict_xgb)"
   ]
  },
  {
   "cell_type": "markdown",
   "metadata": {},
   "source": [
    "## AdaBoost"
   ]
  },
  {
   "cell_type": "code",
   "execution_count": 11,
   "metadata": {},
   "outputs": [
    {
     "name": "stdout",
     "output_type": "stream",
     "text": [
      "Accuracy 0.814\n",
      "Precision 0.824\n",
      "Recall 0.980\n",
      "\t-1\t1\n",
      "-1\t 836 \t 6913\n",
      "1\t 667 \t 32405\n",
      "CPU times: user 3.52 s, sys: 11.2 ms, total: 3.53 s\n",
      "Wall time: 3.56 s\n"
     ]
    }
   ],
   "source": [
    "%%time\n",
    "ab = AdaBoostClassifier()\n",
    "ab.fit(X_train, y_train)\n",
    "y_test_predict_ab = ab.predict(X_test)\n",
    "print(\"Accuracy %.3f\"%(accuracy_score(y_test, y_test_predict_ab)))\n",
    "print(\"Precision %.3f\"%precision_score(y_test, y_test_predict_ab))\n",
    "print(\"Recall %.3f\"%recall_score(y_test, y_test_predict_ab))\n",
    "PrintConfusionMatrix(nb, y_test, y_test_predict_ab)"
   ]
  },
  {
   "cell_type": "markdown",
   "metadata": {},
   "source": [
    "## ROC Curve"
   ]
  },
  {
   "cell_type": "code",
   "execution_count": 12,
   "metadata": {},
   "outputs": [],
   "source": [
    "###\n",
    "yprob_l1lr = l1lr.predict_proba(X_test)\n",
    "yprob_nb = nb.predict_proba(X_test)\n",
    "yprob_knn = knn.predict_proba(X_test)\n",
    "yprob_rf = rf.predict_proba(X_test)\n",
    "yprob_xgb = xgb_model.predict_proba(X_test)\n",
    "yprob_ab = ab.predict_proba(X_test)"
   ]
  },
  {
   "cell_type": "code",
   "execution_count": 13,
   "metadata": {},
   "outputs": [
    {
     "data": {
      "image/png": "[encoded data removed]",
      "text/plain": [
       "<Figure size 576x576 with 1 Axes>"
      ]
     },
     "metadata": {
      "needs_background": "light"
     },
     "output_type": "display_data"
    }
   ],
   "source": [
    "fpr_nb, tpr_nb, thresholds = roc_curve(y_true=y_test, y_score = yprob_nb[:,1], pos_label=1)\n",
    "fpr_slr, tpr_slr, thresholds = roc_curve(y_true=y_test, y_score = yprob_l1lr[:,1], pos_label=1)\n",
    "fpr_knn, tpr_knn, thresholds = roc_curve(y_true=y_test, y_score = yprob_knn[:,1], pos_label=1)\n",
    "fpr_rf, tpr_rf, thresholds = roc_curve(y_true=y_test, y_score = yprob_rf[:,1], pos_label=1)\n",
    "fpr_xgb, tpr_xgb, thresholds = roc_curve(y_true=y_test, y_score = yprob_xgb[:,1], pos_label=1)\n",
    "fpr_ab, tpr_ab, thresholds = roc_curve(y_true=y_test, y_score = yprob_ab[:,1], pos_label=1)\n",
    "\n",
    "\n",
    "roc_auc_nb = roc_auc_score(y_true=y_test, y_score = yprob_nb[:,1])\n",
    "roc_auc_knn = roc_auc_score(y_true=y_test, y_score = yprob_knn[:,1])\n",
    "roc_auc_rf = roc_auc_score(y_true=y_test, y_score = yprob_rf[:,1])\n",
    "roc_auc_slr = roc_auc_score(y_true=y_test, y_score = yprob_l1lr[:,1])\n",
    "roc_auc_xgb = roc_auc_score(y_true=y_test, y_score = yprob_xgb[:,1])\n",
    "roc_auc_ab = roc_auc_score(y_true=y_test, y_score = yprob_ab[:,1])\n",
    "\n",
    "plt.figure(1, figsize=(8, 8));\n",
    "font = {'family':'sans', 'size':24};\n",
    "plt.rc('font', **font);\n",
    "plt.xlabel('FPR');\n",
    "plt.ylabel('TPR');\n",
    "plt.plot(fpr_slr,tpr_slr,label='SLR '+'%.2f'%roc_auc_slr)\n",
    "plt.plot(fpr_nb,tpr_nb,label='NB '+'%.2f'%roc_auc_nb)\n",
    "plt.plot(fpr_knn,tpr_knn,label='KNN '+'%.2f'%roc_auc_knn)\n",
    "plt.plot(fpr_rf,tpr_rf,label='RF '+'%.2f'%roc_auc_rf)\n",
    "plt.plot(fpr_xgb,tpr_xgb,label='XGB '+'%.2f'%roc_auc_xgb)\n",
    "plt.plot(fpr_ab,tpr_ab,label='AB '+'%.2f'%roc_auc_ab)\n",
    "\n",
    "\n",
    "# plt.plot(fpr,thresholds,label='Thresholds')\n",
    "plt.plot([0.0,1.0],[0.0,1.0],label='Baseline')\n",
    "plt.yticks(np.arange(0.0,1.01,.2))\n",
    "plt.title('ROC Curves')\n",
    "plt.ylim([0.0,1.0])\n",
    "plt.xlim([0.0,1.0])\n",
    "plt.legend()\n",
    "plt.show();"
   ]
  },
  {
   "cell_type": "markdown",
   "metadata": {},
   "source": [
    "### t-Test"
   ]
  },
  {
   "cell_type": "code",
   "execution_count": 14,
   "metadata": {},
   "outputs": [],
   "source": [
    "from scipy import stats"
   ]
  },
  {
   "cell_type": "code",
   "execution_count": 17,
   "metadata": {},
   "outputs": [
    {
     "name": "stdout",
     "output_type": "stream",
     "text": [
      "Accuracy 0.814\n",
      "Accuracy 0.776\n"
     ]
    }
   ],
   "source": [
    "### Crossvalidation\n",
    "l1lr_eval = model_selection.cross_val_score(l1lr, X_train, y_train, cv=StratifiedKFold(n_splits=10, shuffle=True,random_state=1234))\n",
    "print(\"Accuracy %.3f\"%l1lr_eval.mean())\n",
    "nb_eval = model_selection.cross_val_score(GaussianNB(), X_train, y_train, cv=StratifiedKFold(n_splits=10, shuffle=True,random_state=1234))\n",
    "print(\"Accuracy %.3f\"%nb_eval.mean())"
   ]
  },
  {
   "cell_type": "code",
   "execution_count": 18,
   "metadata": {},
   "outputs": [
    {
     "name": "stdout",
     "output_type": "stream",
     "text": [
      "Logistic Regression vs Naive Bayes: p-value = 0.000\n",
      "The difference is statistically significant (cf 0.95 p-value=0.0000)\n",
      "\n",
      "\n"
     ]
    }
   ],
   "source": [
    "unpaired_slr_nb = stats.ttest_ind(slr_eval, nb_eval)\n",
    "print(\"Logistic Regression vs Naive Bayes: p-value = %4.3f\"%unpaired_slr_nb[1])\n",
    "PrintSignificance(unpaired_slr_nb, 0.95)\n",
    "print(\"\\n\")"
   ]
  },
  {
   "cell_type": "markdown",
   "metadata": {},
   "source": [
    "## Z-Score Normalization"
   ]
  },
  {
   "cell_type": "code",
   "execution_count": 19,
   "metadata": {},
   "outputs": [],
   "source": [
    "sc = StandardScaler()"
   ]
  },
  {
   "cell_type": "code",
   "execution_count": 20,
   "metadata": {},
   "outputs": [
    {
     "data": {
      "text/plain": [
       "StandardScaler(copy=True, with_mean=True, with_std=True)"
      ]
     },
     "execution_count": 20,
     "metadata": {},
     "output_type": "execute_result"
    }
   ],
   "source": [
    "sc.fit(X)"
   ]
  },
  {
   "cell_type": "code",
   "execution_count": 21,
   "metadata": {},
   "outputs": [],
   "source": [
    "XS_train = sc.transform(X_train)\n",
    "XS_test = sc.transform(X_test)"
   ]
  },
  {
   "cell_type": "code",
   "execution_count": 25,
   "metadata": {},
   "outputs": [
    {
     "name": "stdout",
     "output_type": "stream",
     "text": [
      "Crossvalidation Accuracy 0.814 +/ 0.003\n",
      "Accuracy 0.811\n",
      "Precision 0.821\n",
      "Recall 0.981\n",
      "\t-1\t1\n",
      "-1\t 673 \t 7076\n",
      "1\t 625 \t 32447\n"
     ]
    }
   ],
   "source": [
    "nslr = linear_model.LogisticRegression(C=10e10, random_state=1234, max_iter=300, solver=\"liblinear\")\n",
    "acc_nslr = model_selection.cross_val_score(nslr, XS_train, y_train, cv=StratifiedKFold(n_splits=10, shuffle=True,random_state=1234))\n",
    "print(\"Crossvalidation Accuracy %.3f +/ %.3f\"%(acc_nslr.mean(),acc_nslr.std()))\n",
    "nslr.fit(XS_train, y_train)\n",
    "nys_test_predict = nslr.predict(XS_test)\n",
    "print(\"Accuracy %.3f\"%(accuracy_score(y_test, nys_test_predict)))\n",
    "print(\"Precision %.3f\"%precision_score(y_test, nys_test_predict))\n",
    "print(\"Recall %.3f\"%recall_score(y_test, nys_test_predict))\n",
    "PrintConfusionMatrix(nslr, y_test, nys_test_predict)"
   ]
  },
  {
   "cell_type": "markdown",
   "metadata": {},
   "source": [
    "## Voting Classifier"
   ]
  },
  {
   "cell_type": "code",
   "execution_count": 26,
   "metadata": {},
   "outputs": [
    {
     "name": "stdout",
     "output_type": "stream",
     "text": [
      "Accuracy 0.807\n",
      "Precision 0.822\n",
      "Recall 0.972\n",
      "\t-1\t1\n",
      "-1\t 787 \t 6962\n",
      "1\t 917 \t 32155\n",
      "CPU times: user 11 s, sys: 72.7 ms, total: 11.1 s\n",
      "Wall time: 9.93 s\n"
     ]
    }
   ],
   "source": [
    "%%time\n",
    "# estimators = [('xgb',xgb_model), ('knn',knn), ('nb',nb), ('rf',rf), ('ab',ab), ('slr',l1lr)]\n",
    "estimators = [('knn',knn), ('nb',nb), ('slr',l1lr)]\n",
    "voting_hard = VotingClassifier(estimators=estimators, voting='hard')\n",
    "voting_hard.fit(X_train, y_train)\n",
    "y_test_pred = voting_hard.predict(X_test)\n",
    "print(\"Accuracy %.3f\"%(accuracy_score(y_test, y_test_pred)))\n",
    "print(\"Precision %.3f\"%precision_score(y_test, y_test_pred))\n",
    "print(\"Recall %.3f\"%recall_score(y_test, y_test_pred))\n",
    "PrintConfusionMatrix(nb, y_test, y_test_pred)"
   ]
  },
  {
   "cell_type": "code",
   "execution_count": 27,
   "metadata": {},
   "outputs": [
    {
     "name": "stdout",
     "output_type": "stream",
     "text": [
      "Accuracy 0.807\n",
      "Precision 0.826\n",
      "Recall 0.964\n",
      "\t-1\t1\n",
      "-1\t 1038 \t 6711\n",
      "1\t 1186 \t 31886\n",
      "CPU times: user 9.44 s, sys: 69.4 ms, total: 9.51 s\n",
      "Wall time: 9.2 s\n"
     ]
    }
   ],
   "source": [
    "%%time\n",
    "# estimators = [('xgb',xgb_model), ('knn',knn), ('nb',nb), ('rf',rf), ('ab',ab), ('slr',l1lr)]\n",
    "estimators = [('knn',knn), ('nb',nb), ('slr',l1lr)]\n",
    "voting = VotingClassifier(estimators=estimators, voting='soft')\n",
    "voting.fit(X_train, y_train)\n",
    "y_test_pred = voting.predict(X_test)\n",
    "print(\"Accuracy %.3f\"%(accuracy_score(y_test, y_test_pred)))\n",
    "print(\"Precision %.3f\"%precision_score(y_test, y_test_pred))\n",
    "print(\"Recall %.3f\"%recall_score(y_test, y_test_pred))\n",
    "PrintConfusionMatrix(nb, y_test, y_test_pred)"
   ]
  },
  {
   "cell_type": "code",
   "execution_count": 28,
   "metadata": {},
   "outputs": [
    {
     "name": "stdout",
     "output_type": "stream",
     "text": [
      "Accuracy 0.807\n",
      "Precision 0.826\n",
      "Recall 0.965\n",
      "\t-1\t1\n",
      "-1\t 1021 \t 6728\n",
      "1\t 1151 \t 31921\n",
      "CPU times: user 11.6 s, sys: 91.6 ms, total: 11.7 s\n",
      "Wall time: 10.6 s\n"
     ]
    }
   ],
   "source": [
    "%%time\n",
    "# estimators = [('xgb',xgb_model), ('knn',knn), ('nb',nb), ('rf',rf), ('ab',ab), ('slr',l1lr)]\n",
    "estimators = [('knn',knn), ('nb',nb), ('slr',l1lr)]\n",
    "voting = VotingClassifier(estimators=estimators, voting='soft',flatten_transform=True,weights=[0.78,0.77,0.81])\n",
    "voting.fit(X_train, y_train)\n",
    "y_test_pred = voting.predict(X_test)\n",
    "print(\"Accuracy %.3f\"%(accuracy_score(y_test, y_test_pred)))\n",
    "print(\"Precision %.3f\"%precision_score(y_test, y_test_pred))\n",
    "print(\"Recall %.3f\"%recall_score(y_test, y_test_pred))\n",
    "PrintConfusionMatrix(nb, y_test, y_test_pred)"
   ]
  },
  {
   "cell_type": "markdown",
   "metadata": {},
   "source": [
    "## Stacking\n",
    "- http://rasbt.github.io/mlxtend/user_guide/classifier/StackingClassifier/\n",
    "- https://medium.com/@rrfd/boosting-bagging-and-stacking-ensemble-methods-with-sklearn-and-mlens-a455c0c982de"
   ]
  },
  {
   "cell_type": "code",
   "execution_count": 29,
   "metadata": {},
   "outputs": [],
   "source": [
    "learners = pd.DataFrame()"
   ]
  },
  {
   "cell_type": "code",
   "execution_count": 30,
   "metadata": {},
   "outputs": [],
   "source": [
    "knn.fit(X_train,y_train)\n",
    "learners['knn'] = knn.predict(X_train)"
   ]
  },
  {
   "cell_type": "code",
   "execution_count": 31,
   "metadata": {},
   "outputs": [],
   "source": [
    "nb.fit(X_train,y_train)\n",
    "learners['nb'] = nb.predict(X_train)"
   ]
  },
  {
   "cell_type": "code",
   "execution_count": 32,
   "metadata": {},
   "outputs": [],
   "source": [
    "l1lr.fit(X_train,y_train)\n",
    "learners['slr'] = l1lr.predict(X_train)"
   ]
  },
  {
   "cell_type": "code",
   "execution_count": 33,
   "metadata": {},
   "outputs": [
    {
     "name": "stderr",
     "output_type": "stream",
     "text": [
      "/Users/pierlucalanzi/opt/anaconda3/lib/python3.7/site-packages/sklearn/ensemble/forest.py:307: UserWarning: Warm-start fitting without increasing n_estimators does not fit new trees.\n",
      "  warn(\"Warm-start fitting without increasing n_estimators does not \"\n"
     ]
    }
   ],
   "source": [
    "rf.fit(X_train,y_train)\n",
    "learners['rf'] = rf.predict(X_train)"
   ]
  },
  {
   "cell_type": "code",
   "execution_count": 34,
   "metadata": {},
   "outputs": [],
   "source": [
    "ab.fit(X_train,y_train)\n",
    "learners['ab'] = ab.predict(X_train)"
   ]
  },
  {
   "cell_type": "code",
   "execution_count": 35,
   "metadata": {},
   "outputs": [],
   "source": [
    "xgb_model.fit(X_train,y_train)\n",
    "learners['xgb'] = xgb_model.predict(X_train)"
   ]
  },
  {
   "cell_type": "code",
   "execution_count": 36,
   "metadata": {},
   "outputs": [],
   "source": [
    "meta = linear_model.LogisticRegression(penalty=\"l1\",C=100, random_state=1234, max_iter=300, solver=\"liblinear\")"
   ]
  },
  {
   "cell_type": "code",
   "execution_count": 37,
   "metadata": {},
   "outputs": [
    {
     "data": {
      "text/plain": [
       "LogisticRegression(C=100, class_weight=None, dual=False, fit_intercept=True,\n",
       "                   intercept_scaling=1, l1_ratio=None, max_iter=300,\n",
       "                   multi_class='warn', n_jobs=None, penalty='l1',\n",
       "                   random_state=1234, solver='liblinear', tol=0.0001, verbose=0,\n",
       "                   warm_start=False)"
      ]
     },
     "execution_count": 37,
     "metadata": {},
     "output_type": "execute_result"
    }
   ],
   "source": [
    "meta.fit(learners,y_train)"
   ]
  },
  {
   "cell_type": "code",
   "execution_count": 38,
   "metadata": {},
   "outputs": [],
   "source": [
    "learners_test = pd.DataFrame()\n",
    "learners_test['knn'] = knn.predict(X_test)\n",
    "learners_test['nb'] = nb.predict(X_test)\n",
    "learners_test['slr'] = l1lr.predict(X_test)\n",
    "learners_test['rf'] = rf.predict(X_test)\n",
    "learners_test['ab'] = ab.predict(X_test)\n",
    "learners_test['xgb'] = xgb_model.predict(X_test)"
   ]
  },
  {
   "cell_type": "code",
   "execution_count": 39,
   "metadata": {},
   "outputs": [],
   "source": [
    "y_test_pred = meta.predict(learners_test)"
   ]
  },
  {
   "cell_type": "code",
   "execution_count": 40,
   "metadata": {},
   "outputs": [
    {
     "name": "stdout",
     "output_type": "stream",
     "text": [
      "Accuracy 0.819\n",
      "Precision 0.830\n",
      "Recall 0.976\n",
      "\t-1\t1\n",
      "-1\t 1150 \t 6599\n",
      "1\t 802 \t 32270\n"
     ]
    }
   ],
   "source": [
    "print(\"Accuracy %.3f\"%(accuracy_score(y_test, y_test_pred)))\n",
    "print(\"Precision %.3f\"%precision_score(y_test, y_test_pred))\n",
    "print(\"Recall %.3f\"%recall_score(y_test, y_test_pred))\n",
    "PrintConfusionMatrix(nb, y_test, y_test_pred)"
   ]
  },
  {
   "cell_type": "code",
   "execution_count": null,
   "metadata": {},
   "outputs": [],
   "source": []
  }
 ],
 "metadata": {
  "kernelspec": {
   "display_name": "Python 3",
   "language": "python",
   "name": "python3"
  },
  "language_info": {
   "codemirror_mode": {
    "name": "ipython",
    "version": 3
   },
   "file_extension": ".py",
   "mimetype": "text/x-python",
   "name": "python",
   "nbconvert_exporter": "python",
   "pygments_lexer": "ipython3",
   "version": "3.7.5"
  }
 },
 "nbformat": 4,
 "nbformat_minor": 4
}
