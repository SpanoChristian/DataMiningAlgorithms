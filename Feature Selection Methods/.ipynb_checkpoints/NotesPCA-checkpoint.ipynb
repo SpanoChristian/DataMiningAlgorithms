{
 "cells": [
  {
   "cell_type": "markdown",
   "metadata": {},
   "source": [
    "# Notes on PCA"
   ]
  },
  {
   "cell_type": "code",
   "execution_count": 7,
   "metadata": {},
   "outputs": [
    {
     "name": "stdout",
     "output_type": "stream",
     "text": [
      "[1.00000000e+00 5.67730619e-32]\n",
      "[[-0.4472136  -0.89442719]\n",
      " [ 0.89442719 -0.4472136 ]]\n"
     ]
    }
   ],
   "source": [
    "import numpy as np\n",
    "from sklearn.decomposition import PCA\n",
    "\n",
    "X = np.random.randn(1000,1)\n",
    "X = np.concatenate((X,2*X+1),axis=1)\n",
    "\n",
    "pca = PCA()\n",
    "model = pca.fit(X)\n",
    "\n",
    "print (model.explained_variance_ratio_)\n",
    "print (model.components_)\n"
   ]
  },
  {
   "cell_type": "code",
   "execution_count": 30,
   "metadata": {},
   "outputs": [
    {
     "name": "stdout",
     "output_type": "stream",
     "text": [
      "[[ 1.         -0.52195859]\n",
      " [-0.52195859  1.        ]]\n",
      "[[ 1.         -0.52195859]\n",
      " [-0.52195859  1.        ]]\n",
      "[9.99999323e-01 6.77189982e-07]\n",
      "[ 5.03567432e-04 -9.99999873e-01]\n"
     ]
    }
   ],
   "source": [
    "X = np.random.multivariate_normal([1, 1], [[1,-0.5],[-0.5, 1]], 1000 )\n",
    "pca = PCA()\n",
    "print (np.corrcoef(X,rowvar=False))\n",
    "X[:,1] = X[:,1] * 1000\n",
    "model = pca.fit(X)\n",
    "\n",
    "\n",
    "\n",
    "print (model.explained_variance_ratio_)\n",
    "print (model.components_[0])"
   ]
  },
  {
   "cell_type": "code",
   "execution_count": null,
   "metadata": {},
   "outputs": [],
   "source": []
  },
  {
   "cell_type": "code",
   "execution_count": null,
   "metadata": {},
   "outputs": [],
   "source": []
  }
 ],
 "metadata": {
  "kernelspec": {
   "display_name": "Python 3",
   "language": "python",
   "name": "python3"
  },
  "language_info": {
   "codemirror_mode": {
    "name": "ipython",
    "version": 3
   },
   "file_extension": ".py",
   "mimetype": "text/x-python",
   "name": "python",
   "nbconvert_exporter": "python",
   "pygments_lexer": "ipython3",
   "version": "3.7.3"
  }
 },
 "nbformat": 4,
 "nbformat_minor": 2
}
