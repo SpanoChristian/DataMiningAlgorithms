{
 "cells": [
  {
   "cell_type": "markdown",
   "metadata": {},
   "source": [
    "# Feature Selection\n",
    "The purpose of feature selection (or dimensionality reduction) is to (i) avoid the curse of dimensionality, (ii) reduce the amount of time and memory required by the data mining algorithms, (iii) help eliminating irrelevant features, (iv) reduce noise, and possibly (v) allow data to be more easily visualized.\n",
    "\n",
    "Feature selection methods can be categorized in three main classes:\n",
    "* Embedded approaches\n",
    "* Filter approaches\n",
    "* Wrapper approaches\n",
    "\n",
    "In **embedded approaches**, feature selection naturally occurs as part of the data mining algorithm. Lasso and Ridge regression are examples of algorithms that embed feature selection. With **filter approaches**, the features are selected using a procedure that is independent from a specific data mining algorithm. For example, Principal Component Analysis (PCA) is an example of feature selection based on a filter approach. Another example is the selection of attributes based on a correlation measure. **Wrapper approaches** apply a data mining algorithm as a black box to find best subset of attributes. For example, we might apply greedy-search or a genetic algorithm to find the best set of features for a decision tree. Alternatively, we might apply a **brute-force** approach and try all possible feature subsets to find the best one for a specific mining algorithm. \n",
    "\n",
    "In this notebook we discuss some examples of embedded, filter, and wrapper approaches to feature selection. There are other notebooks that deal with wrapper approaches. We will use the Boston Housing dataset. For further details on the function used we refer you to the Scikit-Learn page on [feature selection](http://scikit-learn.org/stable/modules/feature_selection.html).\n",
    "\n",
    "\n",
    "As usual, we begin by importing all the necessary libraries, we load the data, and set the random seed."
   ]
  },
  {
   "cell_type": "code",
   "execution_count": 1,
   "metadata": {},
   "outputs": [],
   "source": [
    "import numpy as np\n",
    "import pandas as pd\n",
    "import random\n",
    "\n",
    "from sklearn import datasets\n",
    "from sklearn import linear_model\n",
    "from sklearn import naive_bayes\n",
    "from sklearn import neighbors\n",
    "from sklearn.linear_model import LinearRegression\n",
    "from sklearn.linear_model import Lasso\n",
    "from sklearn.ensemble import ExtraTreesRegressor\n",
    "\n",
    "from sklearn.feature_selection import SelectFromModel\n",
    "from sklearn.feature_selection import VarianceThreshold\n",
    "from sklearn.feature_selection import RFE\n",
    "\n",
    "from sklearn.decomposition import PCA\n",
    "\n",
    "from sklearn.model_selection import StratifiedKFold\n",
    "from sklearn.model_selection import KFold\n",
    "from sklearn.model_selection import cross_val_score\n",
    "\n",
    "import seaborn as sns\n",
    "import matplotlib.pyplot as plt\n",
    "import matplotlib as mpl\n",
    "\n",
    "\n",
    "plt.style.use('fivethirtyeight') \n",
    "mpl.rcParams['lines.linewidth'] = 2\n",
    "# mpl.rcParams['axes.labelsize'] = 14\n",
    "# mpl.rcParams['xtick.labelsize'] = 12\n",
    "# mpl.rcParams['ytick.labelsize'] = 12\n",
    "mpl.rcParams['text.color'] = 'k'\n",
    "\n",
    "%matplotlib inline"
   ]
  },
  {
   "cell_type": "code",
   "execution_count": 2,
   "metadata": {},
   "outputs": [
    {
     "data": {
      "text/html": [
       "<div>\n",
       "<style scoped>\n",
       "    .dataframe tbody tr th:only-of-type {\n",
       "        vertical-align: middle;\n",
       "    }\n",
       "\n",
       "    .dataframe tbody tr th {\n",
       "        vertical-align: top;\n",
       "    }\n",
       "\n",
       "    .dataframe thead th {\n",
       "        text-align: right;\n",
       "    }\n",
       "</style>\n",
       "<table border=\"1\" class=\"dataframe\">\n",
       "  <thead>\n",
       "    <tr style=\"text-align: right;\">\n",
       "      <th></th>\n",
       "      <th>CRIM</th>\n",
       "      <th>ZN</th>\n",
       "      <th>INDUS</th>\n",
       "      <th>CHAS</th>\n",
       "      <th>NOX</th>\n",
       "      <th>RM</th>\n",
       "      <th>AGE</th>\n",
       "      <th>DIS</th>\n",
       "      <th>RAD</th>\n",
       "      <th>TAX</th>\n",
       "      <th>PTRATIO</th>\n",
       "      <th>B</th>\n",
       "      <th>LSTAT</th>\n",
       "      <th>MEDV</th>\n",
       "    </tr>\n",
       "  </thead>\n",
       "  <tbody>\n",
       "    <tr>\n",
       "      <th>0</th>\n",
       "      <td>0.00632</td>\n",
       "      <td>18.0</td>\n",
       "      <td>2.31</td>\n",
       "      <td>0.0</td>\n",
       "      <td>0.538</td>\n",
       "      <td>6.575</td>\n",
       "      <td>65.2</td>\n",
       "      <td>4.0900</td>\n",
       "      <td>1.0</td>\n",
       "      <td>296.0</td>\n",
       "      <td>15.3</td>\n",
       "      <td>396.90</td>\n",
       "      <td>4.98</td>\n",
       "      <td>24.0</td>\n",
       "    </tr>\n",
       "    <tr>\n",
       "      <th>1</th>\n",
       "      <td>0.02731</td>\n",
       "      <td>0.0</td>\n",
       "      <td>7.07</td>\n",
       "      <td>0.0</td>\n",
       "      <td>0.469</td>\n",
       "      <td>6.421</td>\n",
       "      <td>78.9</td>\n",
       "      <td>4.9671</td>\n",
       "      <td>2.0</td>\n",
       "      <td>242.0</td>\n",
       "      <td>17.8</td>\n",
       "      <td>396.90</td>\n",
       "      <td>9.14</td>\n",
       "      <td>21.6</td>\n",
       "    </tr>\n",
       "    <tr>\n",
       "      <th>2</th>\n",
       "      <td>0.02729</td>\n",
       "      <td>0.0</td>\n",
       "      <td>7.07</td>\n",
       "      <td>0.0</td>\n",
       "      <td>0.469</td>\n",
       "      <td>7.185</td>\n",
       "      <td>61.1</td>\n",
       "      <td>4.9671</td>\n",
       "      <td>2.0</td>\n",
       "      <td>242.0</td>\n",
       "      <td>17.8</td>\n",
       "      <td>392.83</td>\n",
       "      <td>4.03</td>\n",
       "      <td>34.7</td>\n",
       "    </tr>\n",
       "    <tr>\n",
       "      <th>3</th>\n",
       "      <td>0.03237</td>\n",
       "      <td>0.0</td>\n",
       "      <td>2.18</td>\n",
       "      <td>0.0</td>\n",
       "      <td>0.458</td>\n",
       "      <td>6.998</td>\n",
       "      <td>45.8</td>\n",
       "      <td>6.0622</td>\n",
       "      <td>3.0</td>\n",
       "      <td>222.0</td>\n",
       "      <td>18.7</td>\n",
       "      <td>394.63</td>\n",
       "      <td>2.94</td>\n",
       "      <td>33.4</td>\n",
       "    </tr>\n",
       "    <tr>\n",
       "      <th>4</th>\n",
       "      <td>0.06905</td>\n",
       "      <td>0.0</td>\n",
       "      <td>2.18</td>\n",
       "      <td>0.0</td>\n",
       "      <td>0.458</td>\n",
       "      <td>7.147</td>\n",
       "      <td>54.2</td>\n",
       "      <td>6.0622</td>\n",
       "      <td>3.0</td>\n",
       "      <td>222.0</td>\n",
       "      <td>18.7</td>\n",
       "      <td>396.90</td>\n",
       "      <td>5.33</td>\n",
       "      <td>36.2</td>\n",
       "    </tr>\n",
       "  </tbody>\n",
       "</table>\n",
       "</div>"
      ],
      "text/plain": [
       "      CRIM    ZN  INDUS  CHAS    NOX     RM   AGE     DIS  RAD    TAX  \\\n",
       "0  0.00632  18.0   2.31   0.0  0.538  6.575  65.2  4.0900  1.0  296.0   \n",
       "1  0.02731   0.0   7.07   0.0  0.469  6.421  78.9  4.9671  2.0  242.0   \n",
       "2  0.02729   0.0   7.07   0.0  0.469  7.185  61.1  4.9671  2.0  242.0   \n",
       "3  0.03237   0.0   2.18   0.0  0.458  6.998  45.8  6.0622  3.0  222.0   \n",
       "4  0.06905   0.0   2.18   0.0  0.458  7.147  54.2  6.0622  3.0  222.0   \n",
       "\n",
       "   PTRATIO       B  LSTAT  MEDV  \n",
       "0     15.3  396.90   4.98  24.0  \n",
       "1     17.8  396.90   9.14  21.6  \n",
       "2     17.8  392.83   4.03  34.7  \n",
       "3     18.7  394.63   2.94  33.4  \n",
       "4     18.7  396.90   5.33  36.2  "
      ]
     },
     "execution_count": 2,
     "metadata": {},
     "output_type": "execute_result"
    }
   ],
   "source": [
    "data = datasets.load_boston()\n",
    "\n",
    "X = data[\"data\"]\n",
    "y = data[\"target\"]\n",
    "\n",
    "input_variables = data.feature_names\n",
    "target_variable = 'MEDV'\n",
    "\n",
    "seed = 1234\n",
    "\n",
    "# let's create also a pandas data frame\n",
    "df = pd.DataFrame(data.data, columns=data.feature_names)\n",
    "df['MEDV'] = y\n",
    "df.head()"
   ]
  },
  {
   "cell_type": "markdown",
   "metadata": {},
   "source": [
    "Since we are using regression approaches that are sensitive to the variable range, we need to normalized the input variables."
   ]
  },
  {
   "cell_type": "code",
   "execution_count": 3,
   "metadata": {},
   "outputs": [
    {
     "data": {
      "text/html": [
       "<div>\n",
       "<style scoped>\n",
       "    .dataframe tbody tr th:only-of-type {\n",
       "        vertical-align: middle;\n",
       "    }\n",
       "\n",
       "    .dataframe tbody tr th {\n",
       "        vertical-align: top;\n",
       "    }\n",
       "\n",
       "    .dataframe thead th {\n",
       "        text-align: right;\n",
       "    }\n",
       "</style>\n",
       "<table border=\"1\" class=\"dataframe\">\n",
       "  <thead>\n",
       "    <tr style=\"text-align: right;\">\n",
       "      <th></th>\n",
       "      <th>CRIM</th>\n",
       "      <th>ZN</th>\n",
       "      <th>INDUS</th>\n",
       "      <th>CHAS</th>\n",
       "      <th>NOX</th>\n",
       "      <th>RM</th>\n",
       "      <th>AGE</th>\n",
       "      <th>DIS</th>\n",
       "      <th>RAD</th>\n",
       "      <th>TAX</th>\n",
       "      <th>PTRATIO</th>\n",
       "      <th>B</th>\n",
       "      <th>LSTAT</th>\n",
       "      <th>MEDV</th>\n",
       "    </tr>\n",
       "  </thead>\n",
       "  <tbody>\n",
       "    <tr>\n",
       "      <th>0</th>\n",
       "      <td>-0.419782</td>\n",
       "      <td>0.284830</td>\n",
       "      <td>-1.287909</td>\n",
       "      <td>-0.272599</td>\n",
       "      <td>-0.144217</td>\n",
       "      <td>0.413672</td>\n",
       "      <td>-0.120013</td>\n",
       "      <td>0.140214</td>\n",
       "      <td>-0.982843</td>\n",
       "      <td>-0.666608</td>\n",
       "      <td>-1.459000</td>\n",
       "      <td>0.441052</td>\n",
       "      <td>-1.075562</td>\n",
       "      <td>24.0</td>\n",
       "    </tr>\n",
       "    <tr>\n",
       "      <th>1</th>\n",
       "      <td>-0.417339</td>\n",
       "      <td>-0.487722</td>\n",
       "      <td>-0.593381</td>\n",
       "      <td>-0.272599</td>\n",
       "      <td>-0.740262</td>\n",
       "      <td>0.194274</td>\n",
       "      <td>0.367166</td>\n",
       "      <td>0.557160</td>\n",
       "      <td>-0.867883</td>\n",
       "      <td>-0.987329</td>\n",
       "      <td>-0.303094</td>\n",
       "      <td>0.441052</td>\n",
       "      <td>-0.492439</td>\n",
       "      <td>21.6</td>\n",
       "    </tr>\n",
       "    <tr>\n",
       "      <th>2</th>\n",
       "      <td>-0.417342</td>\n",
       "      <td>-0.487722</td>\n",
       "      <td>-0.593381</td>\n",
       "      <td>-0.272599</td>\n",
       "      <td>-0.740262</td>\n",
       "      <td>1.282714</td>\n",
       "      <td>-0.265812</td>\n",
       "      <td>0.557160</td>\n",
       "      <td>-0.867883</td>\n",
       "      <td>-0.987329</td>\n",
       "      <td>-0.303094</td>\n",
       "      <td>0.396427</td>\n",
       "      <td>-1.208727</td>\n",
       "      <td>34.7</td>\n",
       "    </tr>\n",
       "    <tr>\n",
       "      <th>3</th>\n",
       "      <td>-0.416750</td>\n",
       "      <td>-0.487722</td>\n",
       "      <td>-1.306878</td>\n",
       "      <td>-0.272599</td>\n",
       "      <td>-0.835284</td>\n",
       "      <td>1.016303</td>\n",
       "      <td>-0.809889</td>\n",
       "      <td>1.077737</td>\n",
       "      <td>-0.752922</td>\n",
       "      <td>-1.106115</td>\n",
       "      <td>0.113032</td>\n",
       "      <td>0.416163</td>\n",
       "      <td>-1.361517</td>\n",
       "      <td>33.4</td>\n",
       "    </tr>\n",
       "    <tr>\n",
       "      <th>4</th>\n",
       "      <td>-0.412482</td>\n",
       "      <td>-0.487722</td>\n",
       "      <td>-1.306878</td>\n",
       "      <td>-0.272599</td>\n",
       "      <td>-0.835284</td>\n",
       "      <td>1.228577</td>\n",
       "      <td>-0.511180</td>\n",
       "      <td>1.077737</td>\n",
       "      <td>-0.752922</td>\n",
       "      <td>-1.106115</td>\n",
       "      <td>0.113032</td>\n",
       "      <td>0.441052</td>\n",
       "      <td>-1.026501</td>\n",
       "      <td>36.2</td>\n",
       "    </tr>\n",
       "  </tbody>\n",
       "</table>\n",
       "</div>"
      ],
      "text/plain": [
       "       CRIM        ZN     INDUS      CHAS       NOX        RM       AGE  \\\n",
       "0 -0.419782  0.284830 -1.287909 -0.272599 -0.144217  0.413672 -0.120013   \n",
       "1 -0.417339 -0.487722 -0.593381 -0.272599 -0.740262  0.194274  0.367166   \n",
       "2 -0.417342 -0.487722 -0.593381 -0.272599 -0.740262  1.282714 -0.265812   \n",
       "3 -0.416750 -0.487722 -1.306878 -0.272599 -0.835284  1.016303 -0.809889   \n",
       "4 -0.412482 -0.487722 -1.306878 -0.272599 -0.835284  1.228577 -0.511180   \n",
       "\n",
       "        DIS       RAD       TAX   PTRATIO         B     LSTAT  MEDV  \n",
       "0  0.140214 -0.982843 -0.666608 -1.459000  0.441052 -1.075562  24.0  \n",
       "1  0.557160 -0.867883 -0.987329 -0.303094  0.441052 -0.492439  21.6  \n",
       "2  0.557160 -0.867883 -0.987329 -0.303094  0.396427 -1.208727  34.7  \n",
       "3  1.077737 -0.752922 -1.106115  0.113032  0.416163 -1.361517  33.4  \n",
       "4  1.077737 -0.752922 -1.106115  0.113032  0.441052 -1.026501  36.2  "
      ]
     },
     "execution_count": 3,
     "metadata": {},
     "output_type": "execute_result"
    }
   ],
   "source": [
    "from sklearn.preprocessing import StandardScaler\n",
    "\n",
    "scaler = StandardScaler()\n",
    "\n",
    "Xs = scaler.fit_transform(data[\"data\"])\n",
    "\n",
    "dfs = pd.DataFrame(Xs, columns=data.feature_names)\n",
    "dfs['MEDV'] = y\n",
    "dfs.head()"
   ]
  },
  {
   "cell_type": "markdown",
   "metadata": {},
   "source": [
    "## Baseline Performance\n",
    "Let's begin by computing a baseline for the dataset containing all the features. We will use this baseline performance to compare the predictive power of the feature subsets computed by all the methods discussed in this notebook.\n",
    "\n",
    "The performance of basic linear regression using a ten-fold crossvalidation is 0.682."
   ]
  },
  {
   "cell_type": "code",
   "execution_count": 4,
   "metadata": {},
   "outputs": [
    {
     "name": "stdout",
     "output_type": "stream",
     "text": [
      "R2 Mean 0.682 StdDev 0.125\n"
     ]
    }
   ],
   "source": [
    "kfolds = KFold(10,shuffle=True,random_state=seed)\n",
    "\n",
    "model = linear_model.LinearRegression()\n",
    "scores = cross_val_score(model, X, y, cv=kfolds)\n",
    "\n",
    "print(\"R2 Mean %.3f StdDev %.3f\"%(scores.mean(),scores.std()))"
   ]
  },
  {
   "cell_type": "markdown",
   "metadata": {},
   "source": [
    "## Reduced Variance Feature Selection\n",
    "This feature selection algorithm computes the variance of all the variables and eliminates the variables with a variance below a certain threshold. The rationale is that, if the variance is very low, the values of the feature are very similar to each other so we may eliminate the variable. \n",
    "\n",
    "In the example below, the threshold is set as the variance of a Bernoulli distribution of a given probability (0.8 in this example)."
   ]
  },
  {
   "cell_type": "code",
   "execution_count": 5,
   "metadata": {},
   "outputs": [
    {
     "name": "stdout",
     "output_type": "stream",
     "text": [
      "Reduced data set shape =  (506, 11)\n",
      "     Selected features =  ['CRIM' 'ZN' 'INDUS' 'RM' 'AGE' 'DIS' 'RAD' 'TAX' 'PTRATIO' 'B' 'LSTAT']\n",
      "      Deleted Features =  ['CHAS' 'NOX']\n"
     ]
    }
   ],
   "source": [
    "feature_selection_variance_model = VarianceThreshold(threshold=(.8 * (1 - .8)))\n",
    "X_selected_features_variance = feature_selection_variance_model.fit_transform(X)\n",
    "\n",
    "\n",
    "mask = feature_selection_variance_model.get_support() #list of booleans\n",
    "print(\"Reduced data set shape = \", X_selected_features_variance.shape)\n",
    "print(\"     Selected features = \", data.feature_names[mask])\n",
    "print(\"      Deleted Features = \", data.feature_names[~mask])"
   ]
  },
  {
   "cell_type": "code",
   "execution_count": 6,
   "metadata": {},
   "outputs": [
    {
     "data": {
      "text/plain": [
       "Text(0.5, 1.0, 'Variable NOX')"
      ]
     },
     "execution_count": 6,
     "metadata": {},
     "output_type": "execute_result"
    },
    {
     "data": {
      "image/png": "[encoded data removed]",
      "text/plain": [
       "<Figure size 1152x432 with 2 Axes>"
      ]
     },
     "metadata": {
      "needs_background": "light"
     },
     "output_type": "display_data"
    }
   ],
   "source": [
    "plt.subplots(1,2,figsize=(16,6))\n",
    "\n",
    "plt.subplot(1,2,1)\n",
    "plt.hist(df['CHAS'],label='CHAS')\n",
    "plt.title(\"Variable CHAS\")\n",
    "\n",
    "plt.subplot(1,2,2)\n",
    "plt.hist(df['NOX'],label='NOX')\n",
    "plt.title(\"Variable NOX\")"
   ]
  },
  {
   "cell_type": "code",
   "execution_count": 7,
   "metadata": {},
   "outputs": [
    {
     "name": "stdout",
     "output_type": "stream",
     "text": [
      "Variance Model R2 Mean 0.664 StdDev 0.140\n"
     ]
    }
   ],
   "source": [
    "variance_model = LinearRegression()\n",
    "variance_scores = cross_val_score(variance_model, X[:,mask], y, cv=kfolds)\n",
    "print(\"Variance Model R2 Mean %.3f StdDev %.3f\"%(variance_scores.mean(),variance_scores.std()))"
   ]
  },
  {
   "cell_type": "markdown",
   "metadata": {},
   "source": [
    "As we note, eliminating two of the features we have a small decrease in the performance from 0.682 to 0.664. We should check if such difference is significant."
   ]
  },
  {
   "cell_type": "markdown",
   "metadata": {},
   "source": [
    "## Univariate Feature Selection \n",
    "Univariate feature selection works by selecting the best features based on univariate statistical tests. In the example below, we apply *mutual_info_regression* that estimates mutual information for a continuous target variable."
   ]
  },
  {
   "cell_type": "code",
   "execution_count": 8,
   "metadata": {},
   "outputs": [
    {
     "name": "stdout",
     "output_type": "stream",
     "text": [
      "Reduced data set shape =  (506, 4)\n",
      "     Selected features =  ['INDUS' 'NOX' 'RM' 'LSTAT']\n",
      "      Deleted Features =  ['CRIM' 'ZN' 'CHAS' 'AGE' 'DIS' 'RAD' 'TAX' 'PTRATIO' 'B']\n"
     ]
    }
   ],
   "source": [
    "from sklearn.feature_selection import SelectKBest\n",
    "from sklearn.feature_selection import mutual_info_regression\n",
    "\n",
    "# apply the procedure to take the best k variables based on mutual_info_regression\n",
    "feature_selection_univariate_model = SelectKBest(mutual_info_regression, k=4)\n",
    "\n",
    "# fit the feature selection model and select the four variables\n",
    "X_selected_features_univariate = feature_selection_univariate_model.fit_transform(X,y)\n",
    "\n",
    "mask = feature_selection_univariate_model.get_support() #list of booleans\n",
    "print(\"Reduced data set shape = \",X_selected_features_univariate.shape)\n",
    "print(\"     Selected features = \",data.feature_names[mask])\n",
    "print(\"      Deleted Features = \", data.feature_names[~mask])"
   ]
  },
  {
   "cell_type": "code",
   "execution_count": 9,
   "metadata": {},
   "outputs": [
    {
     "name": "stdout",
     "output_type": "stream",
     "text": [
      "Univariate Model R2 Mean 0.585 StdDev 0.147\n"
     ]
    }
   ],
   "source": [
    "univariate_model = linear_model.LinearRegression()\n",
    "univariate_scores = cross_val_score(univariate_model, X[:,mask], y, cv=kfolds)\n",
    "print(\"Univariate Model R2 Mean %.3f StdDev %.3f\"%(univariate_scores.mean(),univariate_scores.std()))"
   ]
  },
  {
   "cell_type": "markdown",
   "metadata": {},
   "source": [
    "This approach dramatically reduces the number of attributes but, at the same time, the reduced data set has a much lower performance. Interestingly, the feature that were eliminated are not very informative as well: in fact, if we compute the performance using the features that have been droppped we note that the performance is even lower. "
   ]
  },
  {
   "cell_type": "code",
   "execution_count": 10,
   "metadata": {},
   "outputs": [
    {
     "name": "stdout",
     "output_type": "stream",
     "text": [
      "Univariate Model R2 Mean 0.435 StdDev 0.106\n"
     ]
    }
   ],
   "source": [
    "mask = np.invert(mask)\n",
    "univariate_model = linear_model.LinearRegression()\n",
    "univariate_scores = cross_val_score(univariate_model, X[:,mask], y, cv=kfolds)\n",
    "print(\"Univariate Model R2 Mean %.3f StdDev %.3f\"%(univariate_scores.mean(),univariate_scores.std()))"
   ]
  },
  {
   "cell_type": "markdown",
   "metadata": {},
   "source": [
    "## Principal Component Analysis\n",
    "Given a data set described by n features (dimensions), Principal component analysis (PCA) finds k≤n orthogonal vectors (also called dimensions or basis) that best capture the variance of the data. The orthogonal vector that captures the most variance is called the *first principal component*. The orthogonal direction that captures the second largest projected variance is called the second principal component, and so on.\n",
    "\n",
    "We now apply principal component analysis. Since we need to decide how many component to select and for this purpose we apply PCA and plot the explained variance ratio and the cumulative explained variance. Note that to apply PCA we first need to normalize the data, which in this case we do by applying z-score normalization."
   ]
  },
  {
   "cell_type": "code",
   "execution_count": 11,
   "metadata": {},
   "outputs": [],
   "source": [
    "from sklearn.preprocessing import StandardScaler\n",
    "full_pca_model = PCA()\n",
    "X_std = StandardScaler().fit_transform(X)\n",
    "full_fitted_model = full_pca_model.fit(X_std)"
   ]
  },
  {
   "cell_type": "markdown",
   "metadata": {},
   "source": [
    "We can now plot the percentage of explained variance that every feature explains. In the plot below, we note that the first feature (the first principal components) explains 47.1% of the overall (100%) variance while the second feature (the second principal component) explains the 11.0% of the variance."
   ]
  },
  {
   "cell_type": "code",
   "execution_count": 12,
   "metadata": {},
   "outputs": [
    {
     "data": {
      "text/plain": [
       "array([0.47129606, 0.11025193, 0.0955859 , 0.06596732, 0.06421661,\n",
       "       0.05056978, 0.04118124, 0.03046902, 0.02130333, 0.01694137,\n",
       "       0.0143088 , 0.01302331, 0.00488533])"
      ]
     },
     "execution_count": 12,
     "metadata": {},
     "output_type": "execute_result"
    }
   ],
   "source": [
    "full_fitted_model.explained_variance_ratio_"
   ]
  },
  {
   "cell_type": "code",
   "execution_count": 13,
   "metadata": {},
   "outputs": [
    {
     "data": {
      "image/png": "[encoded data removed]",
      "text/plain": [
       "<Figure size 432x288 with 1 Axes>"
      ]
     },
     "metadata": {
      "needs_background": "light"
     },
     "output_type": "display_data"
    }
   ],
   "source": [
    "plt.plot(full_fitted_model.explained_variance_ratio_, '--o');\n",
    "plt.xticks(np.arange(0,13,1),labels=np.arange(1,14,1));\n",
    "plt.xlabel(\"Feature\");\n",
    "plt.ylabel(\"Percentage of explained variance\");\n",
    "plt.xticks(np.arange(0,13,1),labels=np.arange(1,14,1));\n",
    "plt.yticks(np.arange(0.0,0.51,.1),labels=[\"%.0f%%\"%(x*100) for x in np.arange(0.0,0.51,.1)]);\n",
    "plt.ylim([0.0,0.51]);"
   ]
  },
  {
   "cell_type": "markdown",
   "metadata": {},
   "source": [
    "The plot above reports how much variance each component explains. When selecting the number of components we are typically interested in selecting enough dimensions to explain a target value of variance. For instance, we might be interested in selecting enough variables to explain 90% of the variance. Accordingly, we usually check the cumulative explained variance ratio reported below. As can be noted, the first 5 dimensions explain 80% of the variance while we need 7 dimensions to explain 90% of the variance."
   ]
  },
  {
   "cell_type": "code",
   "execution_count": 14,
   "metadata": {},
   "outputs": [
    {
     "data": {
      "image/png": "[encoded data removed]",
      "text/plain": [
       "<Figure size 432x288 with 1 Axes>"
      ]
     },
     "metadata": {
      "needs_background": "light"
     },
     "output_type": "display_data"
    }
   ],
   "source": [
    "plt.plot(full_fitted_model.explained_variance_ratio_.cumsum(), '--o');\n",
    "plt.xticks(np.arange(0,13,1),labels=np.arange(1,14,1));\n",
    "plt.yticks(np.arange(0.4,1.1,.1),labels=[\"%.0f%%\"%(x*100) for x in np.arange(0.4,1.1,.1)]);\n",
    "plt.ylim([0.4,1.05]);\n",
    "plt.plot([0,12],[.9,.9],':');\n",
    "plt.plot([0,12],[.8,.8],':');\n",
    "plt.xlabel(\"Number of Features Considered\");\n",
    "plt.ylabel(\"Cumulative Explained Variance Ratio\");"
   ]
  },
  {
   "cell_type": "markdown",
   "metadata": {},
   "source": [
    "Five components can actually explain 80% of the variance in the data so we apply PCA and select the first five components."
   ]
  },
  {
   "cell_type": "code",
   "execution_count": 15,
   "metadata": {},
   "outputs": [
    {
     "name": "stdout",
     "output_type": "stream",
     "text": [
      "    Explained Variance = 0.807\n",
      "Reduced data set shape = (506, 5)\n"
     ]
    }
   ],
   "source": [
    "feature_selection_pca_model = PCA(n_components=5)\n",
    "fitted_model = feature_selection_pca_model.fit(X_std)\n",
    "\n",
    "X_selected_features_pca = fitted_model.transform(X_std)\n",
    "print(\"    Explained Variance = %.3f\" % fitted_model.explained_variance_ratio_.cumsum()[-1])\n",
    "print(\"Reduced data set shape =\",X_selected_features_pca.shape)"
   ]
  },
  {
   "cell_type": "code",
   "execution_count": 16,
   "metadata": {},
   "outputs": [
    {
     "name": "stdout",
     "output_type": "stream",
     "text": [
      "PCA Model R2 Mean 0.648 StdDev 0.176\n"
     ]
    }
   ],
   "source": [
    "pca_model = linear_model.LinearRegression()\n",
    "pca_scores = cross_val_score(pca_model, X_selected_features_pca, y, cv=kfolds)\n",
    "pca_scores.mean()\n",
    "print(\"PCA Model R2 Mean %.3f StdDev %.3f\"%(pca_scores.mean(),pca_scores.std()))"
   ]
  },
  {
   "cell_type": "markdown",
   "metadata": {},
   "source": [
    "With using just the first five principal components as input variables, we reach the same performance as the one obtained with all the variables. However, the standard deviation is much higher than in the previous cases. The components are linear combinations of the original variables accordingly, when building a model using these new features we lose the connection with the original variables. For this purpose, it might interesting to check the weights that each component assigns to each original variable."
   ]
  },
  {
   "cell_type": "code",
   "execution_count": 17,
   "metadata": {},
   "outputs": [
    {
     "data": {
      "text/plain": [
       "<Figure size 864x864 with 0 Axes>"
      ]
     },
     "metadata": {},
     "output_type": "display_data"
    },
    {
     "data": {
      "image/png": "[encoded data removed]",
      "text/plain": [
       "<Figure size 748.8x288 with 2 Axes>"
      ]
     },
     "metadata": {
      "needs_background": "light"
     },
     "output_type": "display_data"
    }
   ],
   "source": [
    "number_of_components = feature_selection_pca_model.components_.shape[0]\n",
    "number_of_variables = feature_selection_pca_model.components_.shape[1]\n",
    "component_ticks = np.arange(0,number_of_components,1)\n",
    "component_labels = ['Component '+str(x+1) for x in component_ticks]\n",
    "\n",
    "plt.figure(figsize=(12,12));\n",
    "plt.matshow(feature_selection_pca_model.components_);\n",
    "\n",
    "# avoid issue that cuts the first and last row \n",
    "plt.ylim(-0.5, len(feature_selection_pca_model.components_)-0.5)\n",
    "\n",
    "plt.yticks(component_ticks, labels=component_labels);\n",
    "plt.colorbar();\n",
    "plt.grid(False);\n",
    "plt.xticks(range(len(input_variables)),input_variables,rotation=90,ha='left');\n",
    "for (i, j), z in np.ndenumerate(feature_selection_pca_model.components_):\n",
    "    plt.text(j, i, '{:0.2f}'.format(z), ha='center', va='center',color=\"white\");\n",
    "plt.show();"
   ]
  },
  {
   "cell_type": "markdown",
   "metadata": {},
   "source": [
    "## Embedded Approaches\n",
    "In Lasso, feature selection naturally occurs as part of the learning process. Thus, it is an example of an **embedded approaches** to feature selection. We now apply Lasso with a regularization coefficient (alpha) of 0.1 and evaluate its performance using 10-fold crossvalidation."
   ]
  },
  {
   "cell_type": "code",
   "execution_count": 18,
   "metadata": {},
   "outputs": [
    {
     "name": "stdout",
     "output_type": "stream",
     "text": [
      "Lasso R2 Mean 0.667 StdDev 0.133\n"
     ]
    }
   ],
   "source": [
    "lasso_model = Lasso(alpha=0.1,max_iter=300,random_state=seed)\n",
    "lasso_scores = cross_val_score(lasso_model, X, y, cv=kfolds)\n",
    "\n",
    "print(\"Lasso R2 Mean %.3f StdDev %.3f\"%(lasso_scores.mean(),lasso_scores.std()))"
   ]
  },
  {
   "cell_type": "markdown",
   "metadata": {},
   "source": [
    "As can be noted the performance is slightly lower than the one obtained by the previous feature sets. The standard deviations is also higher than the one we had with all the features. Lasso performs feature selection by zeroing out the weights of less important variables. We can visualize the weights to understand "
   ]
  },
  {
   "cell_type": "code",
   "execution_count": 19,
   "metadata": {},
   "outputs": [
    {
     "data": {
      "image/png": "[encoded data removed]",
      "text/plain": [
       "<Figure size 432x288 with 1 Axes>"
      ]
     },
     "metadata": {
      "needs_background": "light"
     },
     "output_type": "display_data"
    }
   ],
   "source": [
    "lasso_model.fit(X,y)\n",
    "lr_coefficients = pd.DataFrame({'Variable':input_variables, 'Coefficient':lasso_model.coef_}).sort_values(by=['Coefficient'],ascending=False)\n",
    "sns.barplot(x='Variable',y='Coefficient',data=lr_coefficients);\n",
    "plt.xticks(rotation=90);"
   ]
  },
  {
   "cell_type": "markdown",
   "metadata": {},
   "source": [
    "By modifying the regularization term alpha we can increase or decrease the amount of feature selection that Lasso performs."
   ]
  },
  {
   "cell_type": "markdown",
   "metadata": {},
   "source": [
    "## Recursive Feature Elimination\n",
    "The previous approaches are all filter approaches in that they are not using the class information for the attribute selection. We start with a very simple one that starts from all the features and recursively consider smaller and smaller sets of features."
   ]
  },
  {
   "cell_type": "code",
   "execution_count": 20,
   "metadata": {},
   "outputs": [
    {
     "name": "stdout",
     "output_type": "stream",
     "text": [
      "Reduced data set shape =  (506, 5)\n",
      "     Selected features =  ['CHAS' 'NOX' 'RM' 'DIS' 'PTRATIO']\n",
      "      Deleted Features =  ['CRIM' 'ZN' 'INDUS' 'AGE' 'RAD' 'TAX' 'B' 'LSTAT']\n"
     ]
    }
   ],
   "source": [
    "rfe = RFE(LinearRegression(), n_features_to_select=5,step=1)\n",
    "rfe = rfe.fit(X, y)\n",
    "\n",
    "X_selected_features_rfe = X[:,rfe.support_]\n",
    "\n",
    "mask = rfe.get_support()\n",
    "print(\"Reduced data set shape = \", X_selected_features_rfe.shape)\n",
    "print(\"     Selected features = \", data.feature_names[mask])\n",
    "print(\"      Deleted Features = \", data.feature_names[~mask])"
   ]
  },
  {
   "cell_type": "code",
   "execution_count": 21,
   "metadata": {},
   "outputs": [
    {
     "name": "stdout",
     "output_type": "stream",
     "text": [
      "RFE R2 Mean 0.574 StdDev 0.235\n"
     ]
    }
   ],
   "source": [
    "rfe_model = LinearRegression()\n",
    "rfe_scores = cross_val_score(rfe_model, X[:,mask], y, cv=kfolds)\n",
    "print(\"RFE R2 Mean %.3f StdDev %.3f\"%(rfe_scores.mean(),rfe_scores.std()))"
   ]
  },
  {
   "cell_type": "markdown",
   "metadata": {},
   "source": [
    "Note that the reported performance is much lower than in the previous cases and the standard deviation is much higher than in the previous cases."
   ]
  },
  {
   "cell_type": "markdown",
   "metadata": {},
   "source": [
    "## Random Forest\n",
    "We now apply a random forest and use its scoring to select the attributes."
   ]
  },
  {
   "cell_type": "code",
   "execution_count": 22,
   "metadata": {},
   "outputs": [
    {
     "data": {
      "text/plain": [
       "ExtraTreesRegressor(n_estimators=250, random_state=0)"
      ]
     },
     "execution_count": 22,
     "metadata": {},
     "output_type": "execute_result"
    }
   ],
   "source": [
    "forest = ExtraTreesRegressor(n_estimators=250, random_state=0)\n",
    "forest.fit(X, y)"
   ]
  },
  {
   "cell_type": "markdown",
   "metadata": {},
   "source": [
    "Let's plot the feature importance."
   ]
  },
  {
   "cell_type": "code",
   "execution_count": 23,
   "metadata": {},
   "outputs": [
    {
     "name": "stdout",
     "output_type": "stream",
     "text": [
      "Feature ranking:\n",
      " 1. feature  5      RM (0.344)\n",
      " 2. feature 12   LSTAT (0.340)\n",
      " 3. feature 10 PTRATIO (0.056)\n",
      " 4. feature  9     TAX (0.044)\n",
      " 5. feature  4     NOX (0.041)\n",
      " 6. feature  2   INDUS (0.035)\n",
      " 7. feature  7     DIS (0.032)\n",
      " 8. feature  0    CRIM (0.030)\n",
      " 9. feature  8     RAD (0.022)\n",
      "10. feature  6     AGE (0.020)\n",
      "11. feature 11       B (0.019)\n",
      "12. feature  3    CHAS (0.013)\n",
      "13. feature  1      ZN (0.004)\n"
     ]
    },
    {
     "data": {
      "image/png": "[encoded data removed]",
      "text/plain": [
       "<Figure size 432x288 with 1 Axes>"
      ]
     },
     "metadata": {
      "needs_background": "light"
     },
     "output_type": "display_data"
    }
   ],
   "source": [
    "importances = forest.feature_importances_\n",
    "std = np.std([tree.feature_importances_ for tree in forest.estimators_],\n",
    "             axis=0)\n",
    "indices = np.argsort(importances)[::-1]\n",
    "\n",
    "# Print the feature ranking\n",
    "print(\"Feature ranking:\")\n",
    "\n",
    "for f in range(X.shape[1]):\n",
    "    print(\"%2d. feature %2d %7s (%.3f)\" % (f + 1, indices[f], data.feature_names[indices[f]], importances[indices[f]]))\n",
    "\n",
    "# Plot the feature importances of the forest\n",
    "plt.figure()\n",
    "plt.title(\"Feature importances\")\n",
    "plt.bar(range(X.shape[1]), importances[indices],\n",
    "       color=\"r\", yerr=std[indices], align=\"center\")\n",
    "plt.xticks(range(X.shape[1]), data.feature_names[indices],rotation=90)\n",
    "plt.xlim([-1, X.shape[1]])\n",
    "plt.show()"
   ]
  },
  {
   "cell_type": "code",
   "execution_count": 24,
   "metadata": {},
   "outputs": [],
   "source": [
    "feature_selection_model = SelectFromModel(forest, prefit=True)"
   ]
  },
  {
   "cell_type": "code",
   "execution_count": 25,
   "metadata": {},
   "outputs": [
    {
     "data": {
      "text/plain": [
       "(506, 2)"
      ]
     },
     "execution_count": 25,
     "metadata": {},
     "output_type": "execute_result"
    }
   ],
   "source": [
    "X_selected_features_forest = feature_selection_model.transform(X)\n",
    "X_selected_features_forest.shape"
   ]
  },
  {
   "cell_type": "markdown",
   "metadata": {},
   "source": [
    "At this point, it would be interesting to compare the performance of our target regression algorithm on the reduced datasets. Note that, for wrapper feature selection the target algorithm and the algorithm used for selection usually coincide since wrapper approaches target selection for a specific algorithm and this should be the same later used for mining."
   ]
  },
  {
   "cell_type": "code",
   "execution_count": 26,
   "metadata": {},
   "outputs": [
    {
     "name": "stdout",
     "output_type": "stream",
     "text": [
      "RF Selected Features Model R2 Mean 0.590 StdDev 0.145\n"
     ]
    }
   ],
   "source": [
    "forest_model = linear_model.LinearRegression()\n",
    "forest_scores = cross_val_score(forest_model, X_selected_features_forest, y, cv=kfolds)\n",
    "print(\"RF Selected Features Model R2 Mean %.3f StdDev %.3f\"%(forest_scores.mean(),forest_scores.std()))"
   ]
  },
  {
   "cell_type": "markdown",
   "metadata": {},
   "source": [
    "Also in this case the performance of the model using a subset of features is much lower than our baseling while the standard deviation is higher."
   ]
  },
  {
   "cell_type": "markdown",
   "metadata": {},
   "source": [
    "## Discussion\n",
    "We applied several methods for feature selection some implementing a *filter* approach, one an embedded approach (Lasso), and some implementing a wrapper approach. As we noted, sometimes feature selection can improve the performance of a predictor by getting rid of less important variables or lead a similar performance as the one obtained using the original set of variables; in other cases, the smaller set of feature corresponds to a reduced performance. \n",
    "\n",
    "Performing feature selection is similar to tuning a hyperparameter of the algorithm accordingly we should apply the same procedures (using a train/validation/test partition) to guarantee a reliable evaluation of the performance. At the end, we should have compared the results we obtained to check whether the difference in performance was statistically significant. The quite high values of standard deviation associated with our crossvalidation suggest that probably none of the differences we recored will turn out to be significant. But this is left as an exercise to you."
   ]
  },
  {
   "cell_type": "code",
   "execution_count": null,
   "metadata": {},
   "outputs": [],
   "source": []
  }
 ],
 "metadata": {
  "kernelspec": {
   "display_name": "Python 3 (ipykernel)",
   "language": "python",
   "name": "python3"
  },
  "language_info": {
   "codemirror_mode": {
    "name": "ipython",
    "version": 3
   },
   "file_extension": ".py",
   "mimetype": "text/x-python",
   "name": "python",
   "nbconvert_exporter": "python",
   "pygments_lexer": "ipython3",
   "version": "3.8.11"
  }
 },
 "nbformat": 4,
 "nbformat_minor": 4
}
