{
 "cells": [
  {
   "cell_type": "markdown",
   "metadata": {
    "id": "Epy6_xfZB3Aq"
   },
   "source": [
    "# Feature Selection\n",
    "The purpose of feature selection (or dimensionality reduction) methods is to (i) avoid the curse of dimensionality, (ii) reduce the amount of time and memory required by the data mining algorithms, (iii) help eliminating irrelevant features, (iv) reduce noise, and possibly (v) allow data to be more easily visualized.\n",
    "\n",
    "There are several methods that can be used to perform feature selection that can be categorized in three main classes:\n",
    "* Embedded approaches\n",
    "* Filter approaches\n",
    "* Wrapper approaches\n",
    "\n",
    "In **embedded approaches**, feature selection naturally occurs as part of the data mining algorithm. Lasso and Ridge regression are examples of algorithms that embed feature selection. Also Decision-Trees can be thought as an embedded approach: the variables that are not in the model are not somehow relevant. With **filter approaches**, the features are selected using a procedure that is independent from a specific data mining algorithm. For example, Principal Component Analysis (PCA) is an example of feature selection based on a filter approach. Another example is the selection of attributes based on a correlation measure. **Wrapper approaches** apply a data mining algorithm as a black box to find best subset of attributes. For example, we might apply greedy-search or a genetic algorithm to find the best set of features for a decision tree. Alternatively, we might apply a **brute-force** approach and try all possible feature subsets to find the best one for a specific mining algorithm. \n",
    "\n",
    "In this notebook we discuss some examples of filter and wrapper methods for feature selection. For this purpose, we will use the Boston Housing dataset. For further details on the function used we refer you to the Scikit-Learn page on [feature selection](http://scikit-learn.org/stable/modules/feature_selection.html).\n",
    "\n",
    "If a variable has many values equal then its standard deviation is very low, thus statistically not relevant. \n",
    "\n",
    "\n",
    "As usual, we begin by importing all the necessary libraries, we load the data, and set the random seed."
   ]
  },
  {
   "cell_type": "code",
   "execution_count": 1,
   "metadata": {
    "executionInfo": {
     "elapsed": 627,
     "status": "ok",
     "timestamp": 1669195846356,
     "user": {
      "displayName": "Daniele Loiacono",
      "userId": "03206643914008722225"
     },
     "user_tz": -60
    },
    "id": "1im34XJDB3Ay"
   },
   "outputs": [],
   "source": [
    "import numpy as np\n",
    "import pandas as pd\n",
    "import random\n",
    "\n",
    "from sklearn import datasets\n",
    "from sklearn import linear_model\n",
    "from sklearn import naive_bayes\n",
    "from sklearn import neighbors\n",
    "from sklearn.linear_model import LinearRegression\n",
    "from sklearn.linear_model import Lasso\n",
    "from sklearn.ensemble import ExtraTreesRegressor\n",
    "\n",
    "from sklearn.feature_selection import SelectFromModel\n",
    "from sklearn.feature_selection import VarianceThreshold\n",
    "from sklearn.feature_selection import RFE\n",
    "\n",
    "from sklearn.decomposition import PCA\n",
    "\n",
    "from sklearn.model_selection import StratifiedKFold\n",
    "from sklearn.model_selection import KFold\n",
    "from sklearn.model_selection import cross_val_score\n",
    "\n",
    "import seaborn as sns\n",
    "import matplotlib.pyplot as plt\n",
    "import matplotlib as mpl\n",
    "\n",
    "\n",
    "plt.style.use('fivethirtyeight') \n",
    "mpl.rcParams['lines.linewidth'] = 2\n",
    "# mpl.rcParams['axes.labelsize'] = 14\n",
    "# mpl.rcParams['xtick.labelsize'] = 12\n",
    "# mpl.rcParams['ytick.labelsize'] = 12\n",
    "mpl.rcParams['text.color'] = 'k'\n",
    "\n",
    "%matplotlib inline"
   ]
  },
  {
   "cell_type": "code",
   "execution_count": 2,
   "metadata": {
    "colab": {
     "base_uri": "https://localhost:8080/",
     "height": 1000
    },
    "executionInfo": {
     "elapsed": 451,
     "status": "ok",
     "timestamp": 1669195847071,
     "user": {
      "displayName": "Daniele Loiacono",
      "userId": "03206643914008722225"
     },
     "user_tz": -60
    },
    "id": "_4W7wbH-B3A0",
    "outputId": "e4c554b6-3ec1-4309-946b-02f0d871e51e"
   },
   "outputs": [
    {
     "data": {
      "text/html": [
       "<div>\n",
       "<style scoped>\n",
       "    .dataframe tbody tr th:only-of-type {\n",
       "        vertical-align: middle;\n",
       "    }\n",
       "\n",
       "    .dataframe tbody tr th {\n",
       "        vertical-align: top;\n",
       "    }\n",
       "\n",
       "    .dataframe thead th {\n",
       "        text-align: right;\n",
       "    }\n",
       "</style>\n",
       "<table border=\"1\" class=\"dataframe\">\n",
       "  <thead>\n",
       "    <tr style=\"text-align: right;\">\n",
       "      <th></th>\n",
       "      <th>CRIM</th>\n",
       "      <th>ZN</th>\n",
       "      <th>INDUS</th>\n",
       "      <th>CHAS</th>\n",
       "      <th>NOX</th>\n",
       "      <th>RM</th>\n",
       "      <th>AGE</th>\n",
       "      <th>DIS</th>\n",
       "      <th>RAD</th>\n",
       "      <th>TAX</th>\n",
       "      <th>PTRATIO</th>\n",
       "      <th>B</th>\n",
       "      <th>LSTAT</th>\n",
       "      <th>MEDV</th>\n",
       "    </tr>\n",
       "  </thead>\n",
       "  <tbody>\n",
       "    <tr>\n",
       "      <th>count</th>\n",
       "      <td>506.000000</td>\n",
       "      <td>506.000000</td>\n",
       "      <td>506.000000</td>\n",
       "      <td>506.000000</td>\n",
       "      <td>506.000000</td>\n",
       "      <td>506.000000</td>\n",
       "      <td>506.000000</td>\n",
       "      <td>506.000000</td>\n",
       "      <td>506.000000</td>\n",
       "      <td>506.000000</td>\n",
       "      <td>506.000000</td>\n",
       "      <td>506.000000</td>\n",
       "      <td>506.000000</td>\n",
       "      <td>506.000000</td>\n",
       "    </tr>\n",
       "    <tr>\n",
       "      <th>mean</th>\n",
       "      <td>3.613524</td>\n",
       "      <td>11.363636</td>\n",
       "      <td>11.136779</td>\n",
       "      <td>0.069170</td>\n",
       "      <td>0.554695</td>\n",
       "      <td>6.284634</td>\n",
       "      <td>68.574901</td>\n",
       "      <td>3.795043</td>\n",
       "      <td>9.549407</td>\n",
       "      <td>408.237154</td>\n",
       "      <td>18.455534</td>\n",
       "      <td>356.674032</td>\n",
       "      <td>12.653063</td>\n",
       "      <td>22.532806</td>\n",
       "    </tr>\n",
       "    <tr>\n",
       "      <th>std</th>\n",
       "      <td>8.601545</td>\n",
       "      <td>23.322453</td>\n",
       "      <td>6.860353</td>\n",
       "      <td>0.253994</td>\n",
       "      <td>0.115878</td>\n",
       "      <td>0.702617</td>\n",
       "      <td>28.148861</td>\n",
       "      <td>2.105710</td>\n",
       "      <td>8.707259</td>\n",
       "      <td>168.537116</td>\n",
       "      <td>2.164946</td>\n",
       "      <td>91.294864</td>\n",
       "      <td>7.141062</td>\n",
       "      <td>9.197104</td>\n",
       "    </tr>\n",
       "    <tr>\n",
       "      <th>min</th>\n",
       "      <td>0.006320</td>\n",
       "      <td>0.000000</td>\n",
       "      <td>0.460000</td>\n",
       "      <td>0.000000</td>\n",
       "      <td>0.385000</td>\n",
       "      <td>3.561000</td>\n",
       "      <td>2.900000</td>\n",
       "      <td>1.129600</td>\n",
       "      <td>1.000000</td>\n",
       "      <td>187.000000</td>\n",
       "      <td>12.600000</td>\n",
       "      <td>0.320000</td>\n",
       "      <td>1.730000</td>\n",
       "      <td>5.000000</td>\n",
       "    </tr>\n",
       "    <tr>\n",
       "      <th>25%</th>\n",
       "      <td>0.082045</td>\n",
       "      <td>0.000000</td>\n",
       "      <td>5.190000</td>\n",
       "      <td>0.000000</td>\n",
       "      <td>0.449000</td>\n",
       "      <td>5.885500</td>\n",
       "      <td>45.025000</td>\n",
       "      <td>2.100175</td>\n",
       "      <td>4.000000</td>\n",
       "      <td>279.000000</td>\n",
       "      <td>17.400000</td>\n",
       "      <td>375.377500</td>\n",
       "      <td>6.950000</td>\n",
       "      <td>17.025000</td>\n",
       "    </tr>\n",
       "    <tr>\n",
       "      <th>50%</th>\n",
       "      <td>0.256510</td>\n",
       "      <td>0.000000</td>\n",
       "      <td>9.690000</td>\n",
       "      <td>0.000000</td>\n",
       "      <td>0.538000</td>\n",
       "      <td>6.208500</td>\n",
       "      <td>77.500000</td>\n",
       "      <td>3.207450</td>\n",
       "      <td>5.000000</td>\n",
       "      <td>330.000000</td>\n",
       "      <td>19.050000</td>\n",
       "      <td>391.440000</td>\n",
       "      <td>11.360000</td>\n",
       "      <td>21.200000</td>\n",
       "    </tr>\n",
       "    <tr>\n",
       "      <th>75%</th>\n",
       "      <td>3.677083</td>\n",
       "      <td>12.500000</td>\n",
       "      <td>18.100000</td>\n",
       "      <td>0.000000</td>\n",
       "      <td>0.624000</td>\n",
       "      <td>6.623500</td>\n",
       "      <td>94.075000</td>\n",
       "      <td>5.188425</td>\n",
       "      <td>24.000000</td>\n",
       "      <td>666.000000</td>\n",
       "      <td>20.200000</td>\n",
       "      <td>396.225000</td>\n",
       "      <td>16.955000</td>\n",
       "      <td>25.000000</td>\n",
       "    </tr>\n",
       "    <tr>\n",
       "      <th>max</th>\n",
       "      <td>88.976200</td>\n",
       "      <td>100.000000</td>\n",
       "      <td>27.740000</td>\n",
       "      <td>1.000000</td>\n",
       "      <td>0.871000</td>\n",
       "      <td>8.780000</td>\n",
       "      <td>100.000000</td>\n",
       "      <td>12.126500</td>\n",
       "      <td>24.000000</td>\n",
       "      <td>711.000000</td>\n",
       "      <td>22.000000</td>\n",
       "      <td>396.900000</td>\n",
       "      <td>37.970000</td>\n",
       "      <td>50.000000</td>\n",
       "    </tr>\n",
       "  </tbody>\n",
       "</table>\n",
       "</div>"
      ],
      "text/plain": [
       "             CRIM          ZN       INDUS        CHAS         NOX          RM  \\\n",
       "count  506.000000  506.000000  506.000000  506.000000  506.000000  506.000000   \n",
       "mean     3.613524   11.363636   11.136779    0.069170    0.554695    6.284634   \n",
       "std      8.601545   23.322453    6.860353    0.253994    0.115878    0.702617   \n",
       "min      0.006320    0.000000    0.460000    0.000000    0.385000    3.561000   \n",
       "25%      0.082045    0.000000    5.190000    0.000000    0.449000    5.885500   \n",
       "50%      0.256510    0.000000    9.690000    0.000000    0.538000    6.208500   \n",
       "75%      3.677083   12.500000   18.100000    0.000000    0.624000    6.623500   \n",
       "max     88.976200  100.000000   27.740000    1.000000    0.871000    8.780000   \n",
       "\n",
       "              AGE         DIS         RAD         TAX     PTRATIO           B  \\\n",
       "count  506.000000  506.000000  506.000000  506.000000  506.000000  506.000000   \n",
       "mean    68.574901    3.795043    9.549407  408.237154   18.455534  356.674032   \n",
       "std     28.148861    2.105710    8.707259  168.537116    2.164946   91.294864   \n",
       "min      2.900000    1.129600    1.000000  187.000000   12.600000    0.320000   \n",
       "25%     45.025000    2.100175    4.000000  279.000000   17.400000  375.377500   \n",
       "50%     77.500000    3.207450    5.000000  330.000000   19.050000  391.440000   \n",
       "75%     94.075000    5.188425   24.000000  666.000000   20.200000  396.225000   \n",
       "max    100.000000   12.126500   24.000000  711.000000   22.000000  396.900000   \n",
       "\n",
       "            LSTAT        MEDV  \n",
       "count  506.000000  506.000000  \n",
       "mean    12.653063   22.532806  \n",
       "std      7.141062    9.197104  \n",
       "min      1.730000    5.000000  \n",
       "25%      6.950000   17.025000  \n",
       "50%     11.360000   21.200000  \n",
       "75%     16.955000   25.000000  \n",
       "max     37.970000   50.000000  "
      ]
     },
     "execution_count": 2,
     "metadata": {},
     "output_type": "execute_result"
    }
   ],
   "source": [
    "data = datasets.load_boston()\n",
    "\n",
    "X = data[\"data\"]\n",
    "y = data[\"target\"]\n",
    "\n",
    "input_variables = data.feature_names\n",
    "target_variable = 'MEDV'\n",
    "\n",
    "seed = 1234\n",
    "\n",
    "# let's create also a pandas data frame\n",
    "df = pd.DataFrame(data.data, columns=data.feature_names)\n",
    "df['MEDV'] = y\n",
    "df.describe()"
   ]
  },
  {
   "cell_type": "markdown",
   "metadata": {
    "id": "wUck8kDIB3A2"
   },
   "source": [
    "## Baseline Performance\n",
    "Let's begin by computing a baseline for the dataset containing all the features. We will use this baseline performance to compare the predictive power of the feature subsets computed by all the methods discussed in this notebook.\n",
    "\n",
    "The performance of basic linear regression using a ten-fold crossvalidation is 0.682."
   ]
  },
  {
   "cell_type": "markdown",
   "metadata": {},
   "source": [
    "Let's say we want to do some Regression. At first, we are interested to know how do we perform if taking all the variables. Removing a feature may be beneficial, since it may happens that in our dataset we have useless variables that do not bring any information to the problem to be solved. Moreover, there may be some spurius correlation among some variables."
   ]
  },
  {
   "cell_type": "code",
   "execution_count": 18,
   "metadata": {
    "colab": {
     "base_uri": "https://localhost:8080/"
    },
    "executionInfo": {
     "elapsed": 67,
     "status": "ok",
     "timestamp": 1669195847101,
     "user": {
      "displayName": "Daniele Loiacono",
      "userId": "03206643914008722225"
     },
     "user_tz": -60
    },
    "id": "ZTCZw6PiB3A3",
    "outputId": "6c28463d-8905-4d86-d092-20240763371d"
   },
   "outputs": [
    {
     "name": "stdout",
     "output_type": "stream",
     "text": [
      "R2 Mean 0.682 StdDev 0.125\n"
     ]
    }
   ],
   "source": [
    "kfolds = KFold(10, shuffle=True, random_state=seed)\n",
    "\n",
    "model = linear_model.LinearRegression()\n",
    "orig_scores = cross_val_score(model, X, y, cv=kfolds) \n",
    "\n",
    "print(\"R2 Mean %.3f StdDev %.3f\"%(orig_scores.mean(), orig_scores.std()))"
   ]
  },
  {
   "attachments": {},
   "cell_type": "markdown",
   "metadata": {
    "id": "-tWy2JC7B3A3"
   },
   "source": [
    "## Reduced Variance Feature Selection\n",
    "This feature selection algorithm computes the variance of all the variables and eliminates the variables with a variance below a certain threshold. The rationale is that, if the variance is very low, the values of the feature are very similar to each other so we may eliminate the variable. \n",
    "\n",
    "**The target must not be added to the feature selection algorithm, since it may happens that it is deleted.**\n",
    "\n"
   ]
  },
  {
   "cell_type": "code",
   "execution_count": 11,
   "metadata": {
    "colab": {
     "base_uri": "https://localhost:8080/"
    },
    "executionInfo": {
     "elapsed": 67,
     "status": "ok",
     "timestamp": 1669195847104,
     "user": {
      "displayName": "Daniele Loiacono",
      "userId": "03206643914008722225"
     },
     "user_tz": -60
    },
    "id": "VzrOWnAKB3A4",
    "outputId": "30fc3330-c1c9-4a4a-fa97-6a9c9ce40aea"
   },
   "outputs": [
    {
     "name": "stdout",
     "output_type": "stream",
     "text": [
      "Original data set shape =  (506, 13)\n",
      "Reduced data set shape  =  (506, 9)\n",
      "     Selected features  =  ['ZN' 'INDUS' 'CHAS' 'NOX' 'AGE' 'RAD' 'TAX' 'PTRATIO' 'B']\n",
      "      Deleted Features  =  ['CRIM' 'RM' 'DIS' 'LSTAT']\n"
     ]
    }
   ],
   "source": [
    "from sklearn.preprocessing import MinMaxScaler\n",
    "scaler = MinMaxScaler()\n",
    "\n",
    "Xs = scaler.fit_transform(df[input_variables])\n",
    "\n",
    "feature_selection_variance_model = VarianceThreshold(threshold=0.05)\n",
    "X_selected_features_variance = feature_selection_variance_model.fit_transform(Xs)\n",
    "\n",
    "mask = feature_selection_variance_model.get_support() # list of booleans\n",
    "print(\"Original data set shape = \", X.shape)\n",
    "print(\"Reduced data set shape  = \", X_selected_features_variance.shape)\n",
    "print(\"     Selected features  = \", data.feature_names[mask])\n",
    "print(\"      Deleted Features  = \", data.feature_names[~mask])"
   ]
  },
  {
   "cell_type": "code",
   "execution_count": 31,
   "metadata": {
    "colab": {
     "base_uri": "https://localhost:8080/",
     "height": 297
    },
    "executionInfo": {
     "elapsed": 69,
     "status": "ok",
     "timestamp": 1669195847109,
     "user": {
      "displayName": "Daniele Loiacono",
      "userId": "03206643914008722225"
     },
     "user_tz": -60
    },
    "id": "Q7U3svQLB3A5",
    "outputId": "a1e0dc0c-452a-4892-856d-f64317ddd054"
   },
   "outputs": [
    {
     "data": {
      "text/plain": [
       "Text(0.5, 1.0, 'Variable CRIM')"
      ]
     },
     "execution_count": 31,
     "metadata": {},
     "output_type": "execute_result"
    },
    {
     "data": {
      "image/png": "[encoded data removed]",
      "text/plain": [
       "<Figure size 432x288 with 1 Axes>"
      ]
     },
     "metadata": {
      "needs_background": "light"
     },
     "output_type": "display_data"
    }
   ],
   "source": [
    "#plt.subplots(1,2,figsize=(16,6))\n",
    "feat = 'CRIM'\n",
    "plt.hist(df[feat], label=feat)\n",
    "plt.title(\"Variable \" + feat)"
   ]
  },
  {
   "cell_type": "markdown",
   "metadata": {},
   "source": [
    "A t-test we can use would be paired since it is in general more robust. "
   ]
  },
  {
   "cell_type": "code",
   "execution_count": 16,
   "metadata": {
    "colab": {
     "base_uri": "https://localhost:8080/"
    },
    "executionInfo": {
     "elapsed": 257,
     "status": "ok",
     "timestamp": 1669195847300,
     "user": {
      "displayName": "Daniele Loiacono",
      "userId": "03206643914008722225"
     },
     "user_tz": -60
    },
    "id": "0IhF1m6kB3A5",
    "outputId": "e5fc7c34-1397-4d1f-e5c3-bc23fc71108d"
   },
   "outputs": [
    {
     "name": "stdout",
     "output_type": "stream",
     "text": [
      "Variance Model R2 Mean 0.395 StdDev 0.125\n"
     ]
    }
   ],
   "source": [
    "variance_model = LinearRegression()\n",
    "variance_scores = cross_val_score(variance_model, X[:,mask], y, cv=kfolds)\n",
    "print(\"Variance Model R2 Mean %.3f StdDev %.3f\"%(variance_scores.mean(), variance_scores.std()))"
   ]
  },
  {
   "cell_type": "markdown",
   "metadata": {
    "id": "4TAIZlALh7lm"
   },
   "source": [
    "In the example below, the threshold is set as the variance of a Bernoulli distribution of a given probability (0.8 in this example). "
   ]
  },
  {
   "cell_type": "code",
   "execution_count": 34,
   "metadata": {
    "colab": {
     "base_uri": "https://localhost:8080/",
     "height": 350
    },
    "executionInfo": {
     "elapsed": 19,
     "status": "ok",
     "timestamp": 1669195847305,
     "user": {
      "displayName": "Daniele Loiacono",
      "userId": "03206643914008722225"
     },
     "user_tz": -60
    },
    "id": "gB5zyLCphoBv",
    "outputId": "3b637f00-6d84-4e59-c7a2-bd0465479a3d"
   },
   "outputs": [
    {
     "name": "stdout",
     "output_type": "stream",
     "text": [
      "Reduced data set shape =  (506, 11)\n",
      "     Selected features =  ['CRIM' 'ZN' 'INDUS' 'RM' 'AGE' 'DIS' 'RAD' 'TAX' 'PTRATIO' 'B' 'LSTAT']\n",
      "      Deleted Features =  ['CHAS' 'NOX']\n"
     ]
    },
    {
     "data": {
      "text/plain": [
       "Text(0.5, 1.0, 'Variable CHAS')"
      ]
     },
     "execution_count": 34,
     "metadata": {},
     "output_type": "execute_result"
    },
    {
     "data": {
      "image/png": "[encoded data removed]",
      "text/plain": [
       "<Figure size 432x288 with 1 Axes>"
      ]
     },
     "metadata": {
      "needs_background": "light"
     },
     "output_type": "display_data"
    }
   ],
   "source": [
    "feature_selection_variance_model = VarianceThreshold(threshold=0.8*(1-0.8))\n",
    "X_selected_features_variance = feature_selection_variance_model.fit_transform(X)\n",
    "\n",
    "\n",
    "mask2 = feature_selection_variance_model.get_support() #list of booleans\n",
    "print(\"Reduced data set shape = \", X_selected_features_variance.shape)\n",
    "print(\"     Selected features = \", data.feature_names[mask2])\n",
    "print(\"      Deleted Features = \", data.feature_names[~mask2])\n",
    "\n",
    "# plt.subplots(1,2,figsize=(16,6))\n",
    "feat = 'CHAS'\n",
    "plt.hist(df[feat],label=feat)\n",
    "plt.title(\"Variable \" + feat)"
   ]
  },
  {
   "cell_type": "code",
   "execution_count": 36,
   "metadata": {
    "colab": {
     "base_uri": "https://localhost:8080/"
    },
    "executionInfo": {
     "elapsed": 17,
     "status": "ok",
     "timestamp": 1669195847306,
     "user": {
      "displayName": "Daniele Loiacono",
      "userId": "03206643914008722225"
     },
     "user_tz": -60
    },
    "id": "g2ChyYAPj0to",
    "outputId": "d3baaa1f-1844-4f64-e510-e5747a652e88"
   },
   "outputs": [
    {
     "name": "stdout",
     "output_type": "stream",
     "text": [
      "Reduced data set shape =  (506, 11)\n",
      "     Selected features =  ['CRIM' 'ZN' 'INDUS' 'RM' 'AGE' 'DIS' 'RAD' 'TAX' 'PTRATIO' 'B' 'LSTAT']\n",
      "      Deleted Features =  ['CHAS' 'NOX']\n",
      "Variance Model R2 Mean 0.664 StdDev 0.140\n"
     ]
    }
   ],
   "source": [
    "chas_idx = df.columns.get_loc(\"CHAS\")\n",
    "mask2[chas_idx] = False\n",
    "\n",
    "print(\"Reduced data set shape = \", X_selected_features_variance.shape)\n",
    "print(\"     Selected features = \", data.feature_names[mask2])\n",
    "print(\"      Deleted Features = \", data.feature_names[~mask2])\n",
    "\n",
    "    \n",
    "variance_model = LinearRegression()\n",
    "variance_scores = cross_val_score(variance_model, X[:,mask2], y, cv=kfolds)\n",
    "print(\"Variance Model R2 Mean %.3f StdDev %.3f\"%(variance_scores.mean(), variance_scores.std()))"
   ]
  },
  {
   "cell_type": "markdown",
   "metadata": {
    "id": "yhMQypYIB3A6"
   },
   "source": [
    "## Univariate Feature Selection \n",
    "Univariate feature selection works by selecting the best features based on univariate statistical tests. In the example below, we apply *mutual_info_regression* that estimates mutual information for a continuous target variable.\n",
    "\n",
    "In this case we also pass the value of the target because it is used to see how much each variable is bonded to the target. To find the best value of $k$ we can start with $k=1$, then $k=2$ and so on. Afterwards, knee-elbow analysis can be used or we can stop the search of $k$ when a threshold is met."
   ]
  },
  {
   "cell_type": "code",
   "execution_count": 37,
   "metadata": {
    "colab": {
     "base_uri": "https://localhost:8080/"
    },
    "executionInfo": {
     "elapsed": 375,
     "status": "ok",
     "timestamp": 1669195847666,
     "user": {
      "displayName": "Daniele Loiacono",
      "userId": "03206643914008722225"
     },
     "user_tz": -60
    },
    "id": "aZyRHlwKB3A7",
    "outputId": "04f4697f-2524-4061-c63e-8bf31276785c"
   },
   "outputs": [
    {
     "name": "stdout",
     "output_type": "stream",
     "text": [
      "Reduced data set shape =  (506, 4)\n",
      "     Selected features =  ['INDUS' 'NOX' 'RM' 'LSTAT']\n",
      "      Deleted Features =  ['CRIM' 'ZN' 'CHAS' 'AGE' 'DIS' 'RAD' 'TAX' 'PTRATIO' 'B']\n"
     ]
    }
   ],
   "source": [
    "from sklearn.feature_selection import SelectKBest\n",
    "from sklearn.feature_selection import mutual_info_regression\n",
    "\n",
    "# apply the procedure to take the best k variables based on mutual_info_regression\n",
    "feature_selection_univariate_model = SelectKBest(mutual_info_regression, k=4)\n",
    "\n",
    "# fit the feature selection model and select the four variables\n",
    "\n",
    "# !! In this case we also have the value of the target !!\n",
    "X_selected_features_univariate = feature_selection_univariate_model.fit_transform(X, y)\n",
    "\n",
    "mask = feature_selection_univariate_model.get_support() #list of booleans\n",
    "print(\"Reduced data set shape = \", X_selected_features_univariate.shape)\n",
    "print(\"     Selected features = \", data.feature_names[mask])\n",
    "print(\"      Deleted Features = \", data.feature_names[~mask])"
   ]
  },
  {
   "cell_type": "code",
   "execution_count": 39,
   "metadata": {
    "colab": {
     "base_uri": "https://localhost:8080/"
    },
    "executionInfo": {
     "elapsed": 16,
     "status": "ok",
     "timestamp": 1669195847667,
     "user": {
      "displayName": "Daniele Loiacono",
      "userId": "03206643914008722225"
     },
     "user_tz": -60
    },
    "id": "4Toow_hLB3A7",
    "outputId": "1995a41c-f497-46cc-a2b7-32fbb8de9715"
   },
   "outputs": [
    {
     "name": "stdout",
     "output_type": "stream",
     "text": [
      "Univariate Model R2 Mean 0.585 StdDev 0.147\n"
     ]
    }
   ],
   "source": [
    "univariate_model = linear_model.LinearRegression()\n",
    "univariate_scores = cross_val_score(univariate_model, X[:,mask], y, cv=kfolds)\n",
    "print(\"Univariate Model R2 Mean %.3f StdDev %.3f\"%(univariate_scores.mean(), univariate_scores.std()))"
   ]
  },
  {
   "cell_type": "markdown",
   "metadata": {
    "id": "utCdOGBNB3A8"
   },
   "source": [
    "This approach dramatically reduces the number of attributes but, at the same time, the reduced data set has a much lower performance. Interestingly, the feature that were eliminated are not very informative as well: in fact, if we compute the performance using the features that have been droppped we note that the performance is even lower. "
   ]
  },
  {
   "cell_type": "code",
   "execution_count": 40,
   "metadata": {
    "colab": {
     "base_uri": "https://localhost:8080/"
    },
    "executionInfo": {
     "elapsed": 13,
     "status": "ok",
     "timestamp": 1669195847668,
     "user": {
      "displayName": "Daniele Loiacono",
      "userId": "03206643914008722225"
     },
     "user_tz": -60
    },
    "id": "st7ZUNz5B3A8",
    "outputId": "196191ea-bc84-42b0-80f4-c5a736971023"
   },
   "outputs": [
    {
     "name": "stdout",
     "output_type": "stream",
     "text": [
      "Univariate Model R2 Mean 0.435 StdDev 0.106\n"
     ]
    }
   ],
   "source": [
    "mask = np.invert(mask)\n",
    "univariate_model = linear_model.LinearRegression()\n",
    "univariate_scores = cross_val_score(univariate_model, X[:,mask], y, cv=kfolds)\n",
    "print(\"Univariate Model R2 Mean %.3f StdDev %.3f\"%(univariate_scores.mean(),univariate_scores.std()))"
   ]
  },
  {
   "cell_type": "markdown",
   "metadata": {
    "id": "qyEvkloaB3A8"
   },
   "source": [
    "## Principal Component Analysis\n",
    "Given a data set described by n features (dimensions), Principal component analysis (PCA) finds k≤n orthogonal vectors (also called dimensions or basis) that best capture the variance of the data. The orthogonal vector that captures the most variance is called the *first principal component*. The orthogonal direction that captures the second largest projected variance is called the second principal component, and so on.\n",
    "\n",
    "We now apply principal component analysis. Since we need to decide how many component to select and for this purpose we apply PCA and plot the explained variance ratio and the cumulative explained variance. Note that to apply PCA we first need to normalize the data, which in this case we do by applying z-score normalization."
   ]
  },
  {
   "cell_type": "code",
   "execution_count": 41,
   "metadata": {
    "executionInfo": {
     "elapsed": 11,
     "status": "ok",
     "timestamp": 1669195847669,
     "user": {
      "displayName": "Daniele Loiacono",
      "userId": "03206643914008722225"
     },
     "user_tz": -60
    },
    "id": "nDZxaqL1B3A_"
   },
   "outputs": [],
   "source": [
    "from sklearn.preprocessing import StandardScaler\n",
    "full_pca_model = PCA()\n",
    "X_std = StandardScaler().fit_transform(X)\n",
    "full_fitted_model = full_pca_model.fit(X_std)"
   ]
  },
  {
   "cell_type": "markdown",
   "metadata": {
    "id": "_pyX1pUkB3A_"
   },
   "source": [
    "We can now plot the percentage of explained variance that every feature explains. In the plot below, we note that the first feature (the first principal components) explains 47.1% of the overall (100%) variance while the second feature (the second principal component) explains the secon"
   ]
  },
  {
   "cell_type": "code",
   "execution_count": 47,
   "metadata": {
    "colab": {
     "base_uri": "https://localhost:8080/",
     "height": 279
    },
    "executionInfo": {
     "elapsed": 882,
     "status": "ok",
     "timestamp": 1669195848541,
     "user": {
      "displayName": "Daniele Loiacono",
      "userId": "03206643914008722225"
     },
     "user_tz": -60
    },
    "id": "nWr5xjgDB3BA",
    "outputId": "ac8ef1a4-5cfe-4adc-e312-647c3d6d91de"
   },
   "outputs": [
    {
     "data": {
      "image/png": "[encoded data removed]",
      "text/plain": [
       "<Figure size 432x288 with 1 Axes>"
      ]
     },
     "metadata": {
      "needs_background": "light"
     },
     "output_type": "display_data"
    }
   ],
   "source": [
    "plt.plot(full_fitted_model.explained_variance_ratio_, '--o');\n",
    "plt.xlabel(\"Feature\");\n",
    "plt.ylabel(\"Percentage of explained variance\");\n",
    "plt.xticks(np.arange(0,13,1),labels=np.arange(1,14,1));\n",
    "plt.yticks(np.arange(0.0,0.51,.1),labels=[\"%.0f%%\"%(x*100) for x in np.arange(0.0,0.51,.1)]);\n",
    "plt.ylim([0.0,0.51]);"
   ]
  },
  {
   "cell_type": "markdown",
   "metadata": {
    "id": "WO1WWj1DB3BA"
   },
   "source": [
    "The plot above reports how much variance each component explains. When selecting the number of components we are typically interested in selecting enough dimensions to explain a target value of variance. For instance, we might be interested in selecting enough variables to explain 90% of the variance. Accordingly, we usually check the cumulative explained variance ratio reported below. As can be noted, the first 5 dimensions explain 80% of the variance while we need 7 dimensions to explain 90% of the variance."
   ]
  },
  {
   "cell_type": "code",
   "execution_count": 40,
   "metadata": {
    "colab": {
     "base_uri": "https://localhost:8080/",
     "height": 281
    },
    "executionInfo": {
     "elapsed": 41,
     "status": "ok",
     "timestamp": 1669195848545,
     "user": {
      "displayName": "Daniele Loiacono",
      "userId": "03206643914008722225"
     },
     "user_tz": -60
    },
    "id": "MYtkqrJQB3BA",
    "outputId": "1d58dceb-1db0-42f9-b922-cb981f8a0eb6"
   },
   "outputs": [
    {
     "data": {
      "image/png": "[encoded data removed]",
      "text/plain": [
       "<Figure size 432x288 with 1 Axes>"
      ]
     },
     "metadata": {
      "needs_background": "light"
     },
     "output_type": "display_data"
    }
   ],
   "source": [
    "plt.plot(full_fitted_model.explained_variance_ratio_.cumsum(), '--o');\n",
    "plt.xticks(np.arange(0,13,1),labels=np.arange(1,14,1));\n",
    "plt.yticks(np.arange(0.4,1.1,.1),labels=[\"%.0f%%\"%(x*100) for x in np.arange(0.4,1.1,.1)]);\n",
    "plt.ylim([0.4,1.05]);\n",
    "plt.plot([0,12],[.9,.9],':');\n",
    "plt.plot([0,12],[.8,.8],':');\n",
    "plt.xlabel(\"Number of Features Considered\");\n",
    "plt.ylabel(\"Cumulative Explained Variance Ratio\");"
   ]
  },
  {
   "cell_type": "markdown",
   "metadata": {
    "id": "Be-1M0VcB3BB"
   },
   "source": [
    "Five components can actually explain 80% of the variance in the data so we apply PCA and select the first five components."
   ]
  },
  {
   "cell_type": "code",
   "execution_count": 70,
   "metadata": {
    "colab": {
     "base_uri": "https://localhost:8080/"
    },
    "executionInfo": {
     "elapsed": 42,
     "status": "ok",
     "timestamp": 1669195848549,
     "user": {
      "displayName": "Daniele Loiacono",
      "userId": "03206643914008722225"
     },
     "user_tz": -60
    },
    "id": "Ayz_04u8B3BB",
    "outputId": "ef49a886-ec41-4b76-c695-bc5210d1a43a"
   },
   "outputs": [
    {
     "name": "stdout",
     "output_type": "stream",
     "text": [
      "    Explained Variance = 0.807\n",
      "Reduced data set shape = (506, 5)\n"
     ]
    }
   ],
   "source": [
    "feature_selection_pca_model = PCA(n_components=5)\n",
    "fitted_model = feature_selection_pca_model.fit(X_std)\n",
    "\n",
    "X_selected_features_pca = fitted_model.transform(X_std)\n",
    "print(\"    Explained Variance = %.3f\" % fitted_model.explained_variance_ratio_.cumsum()[-1])\n",
    "print(\"Reduced data set shape =\", X_selected_features_pca.shape)"
   ]
  },
  {
   "cell_type": "code",
   "execution_count": 72,
   "metadata": {
    "colab": {
     "base_uri": "https://localhost:8080/"
    },
    "executionInfo": {
     "elapsed": 35,
     "status": "ok",
     "timestamp": 1669195848550,
     "user": {
      "displayName": "Daniele Loiacono",
      "userId": "03206643914008722225"
     },
     "user_tz": -60
    },
    "id": "UBy6PwsSB3BB",
    "outputId": "a690a151-0d9f-43d9-a0a0-e52c620f1d41"
   },
   "outputs": [
    {
     "name": "stdout",
     "output_type": "stream",
     "text": [
      "PCA Model R2 Mean 0.648 StdDev 0.176\n"
     ]
    }
   ],
   "source": [
    "pca_model = linear_model.LinearRegression()\n",
    "pca_scores = cross_val_score(pca_model, X_selected_features_pca, y, cv=kfolds)\n",
    "pca_scores.mean()\n",
    "print(\"PCA Model R2 Mean %.3f StdDev %.3f\"%(pca_scores.mean(),pca_scores.std()))"
   ]
  },
  {
   "cell_type": "markdown",
   "metadata": {
    "id": "WTVAvAHWB3BC"
   },
   "source": [
    "With using just the first five principal components as input variables, we reach the same performance as the one obtained with all the variables. However The standard deviation is much higher than in the previous cases. The components are linear combinations of the original variables accordingly, when building a model using these new features we lose the connection with the original variables. For this purpose, it might interesting to check the weights that each component assigns to each original variable.\n",
    "\n",
    "The five features are not anymore the original ones. PCA keeps the information of the original variables, but it changes the way the variables are expressed."
   ]
  },
  {
   "cell_type": "code",
   "execution_count": 43,
   "metadata": {
    "colab": {
     "base_uri": "https://localhost:8080/",
     "height": 277
    },
    "executionInfo": {
     "elapsed": 660,
     "status": "ok",
     "timestamp": 1669195849180,
     "user": {
      "displayName": "Daniele Loiacono",
      "userId": "03206643914008722225"
     },
     "user_tz": -60
    },
    "id": "-RvYY4fGB3BC",
    "outputId": "d99a3134-6c7c-479e-b188-0269bbda2873"
   },
   "outputs": [
    {
     "data": {
      "image/png": "[encoded data removed]",
      "text/plain": [
       "<Figure size 748.8x288 with 2 Axes>"
      ]
     },
     "metadata": {
      "needs_background": "light"
     },
     "output_type": "display_data"
    }
   ],
   "source": [
    "number_of_components = feature_selection_pca_model.components_.shape[0]\n",
    "number_of_variables = feature_selection_pca_model.components_.shape[1]\n",
    "component_ticks = np.arange(0,number_of_components,1)\n",
    "component_labels = ['Component '+str(x+1) for x in component_ticks]\n",
    "\n",
    "# plt.figure(figsize=(number_of_components*3,number_of_variables*3));\n",
    "plt.matshow(feature_selection_pca_model.components_);\n",
    "plt.yticks(component_ticks, labels=component_labels);\n",
    "plt.colorbar();\n",
    "plt.grid(False);\n",
    "plt.xticks(range(len(input_variables)),input_variables,rotation=90,ha='left');\n",
    "for (i, j), z in np.ndenumerate(feature_selection_pca_model.components_):\n",
    "    plt.text(j, i, '{:0.2f}'.format(z), ha='center', va='center',color=\"white\");\n",
    "plt.show();# "
   ]
  },
  {
   "cell_type": "markdown",
   "metadata": {
    "id": "51VmaIC9B3BC"
   },
   "source": [
    "## Embedded Approaches\n",
    "In Lasso, feature selection naturally occurs as part of the learning process (the features selected by Lasso are the \"best\" one to be removed only if using Lasso). Thus, it is an example of an **embedded approaches** to feature selection. We now apply Lasso with a regularization coefficient (alpha) of 0.1 and evaluate its performance using 10-fold crossvalidation."
   ]
  },
  {
   "cell_type": "code",
   "execution_count": 76,
   "metadata": {
    "colab": {
     "base_uri": "https://localhost:8080/"
    },
    "executionInfo": {
     "elapsed": 37,
     "status": "ok",
     "timestamp": 1669195849190,
     "user": {
      "displayName": "Daniele Loiacono",
      "userId": "03206643914008722225"
     },
     "user_tz": -60
    },
    "id": "DKhVxFyqB3BD",
    "outputId": "eceffeb5-46fd-4978-f432-730da3f32119"
   },
   "outputs": [
    {
     "name": "stdout",
     "output_type": "stream",
     "text": [
      "Lasso R2 Mean 0.681 StdDev 0.127\n"
     ]
    }
   ],
   "source": [
    "lasso_model = Lasso(alpha=0.01, max_iter=300, random_state=seed)\n",
    "lasso_scores = cross_val_score(lasso_model, X, y, cv=kfolds)\n",
    "\n",
    "print(\"Lasso R2 Mean %.3f StdDev %.3f\"%(lasso_scores.mean(),lasso_scores.std()))"
   ]
  },
  {
   "cell_type": "markdown",
   "metadata": {
    "id": "dI_CmRsSB3BD"
   },
   "source": [
    "As can be noted the performance is slightly lower than the one obtained by the previous feature sets. The standard deviations is also higher than the one we had with all the features. Lasso performs feature selection by zeroing out the weights of less important variables. We can visualize the weights to understand "
   ]
  },
  {
   "cell_type": "code",
   "execution_count": 77,
   "metadata": {
    "colab": {
     "base_uri": "https://localhost:8080/",
     "height": 310
    },
    "executionInfo": {
     "elapsed": 34,
     "status": "ok",
     "timestamp": 1669195849196,
     "user": {
      "displayName": "Daniele Loiacono",
      "userId": "03206643914008722225"
     },
     "user_tz": -60
    },
    "id": "XnWbTivVB3BD",
    "outputId": "961e40d9-7184-4b1d-ea80-fc24f0d30f78"
   },
   "outputs": [
    {
     "data": {
      "text/plain": [
       "(array([ 0,  1,  2,  3,  4,  5,  6,  7,  8,  9, 10, 11, 12]),\n",
       " <a list of 13 Text xticklabel objects>)"
      ]
     },
     "execution_count": 77,
     "metadata": {},
     "output_type": "execute_result"
    },
    {
     "data": {
      "image/png": "[encoded data removed]",
      "text/plain": [
       "<Figure size 432x288 with 1 Axes>"
      ]
     },
     "metadata": {
      "needs_background": "light"
     },
     "output_type": "display_data"
    }
   ],
   "source": [
    "lasso_model.fit(X, y)\n",
    "lr_coefficients = pd.DataFrame({'Variable': input_variables, 'Coefficient': lasso_model.coef_}).sort_values(by=['Coefficient'], ascending=False)\n",
    "sns.barplot(x='Variable', y='Coefficient', data=lr_coefficients)\n",
    "plt.xticks(rotation=90)"
   ]
  },
  {
   "cell_type": "code",
   "execution_count": 104,
   "metadata": {},
   "outputs": [
    {
     "name": "stdout",
     "output_type": "stream",
     "text": [
      "0.6820136037110974 0.12341694955482127\n"
     ]
    }
   ],
   "source": [
    "lasso_features = lr_coefficients[np.abs(lr_coefficients['Coefficient']) > 0.01].index.values\n",
    "lasso_scores = cross_val_score(lasso_model, X[:, lasso_features], y, cv=kfolds)\n",
    "\n",
    "print(lasso_scores.mean(), lasso_scores.std())"
   ]
  },
  {
   "cell_type": "markdown",
   "metadata": {
    "id": "u91Dht-WB3BG"
   },
   "source": [
    "By modifying the regularization term alpha we can increase or decrease the amount of feature selection that Lasso performs."
   ]
  },
  {
   "cell_type": "markdown",
   "metadata": {
    "id": "3lIOXzGmB3BG"
   },
   "source": [
    "## Recursive Feature Elimination\n",
    "The previous approaches are all filter approaches in that they are not using the class information for the attribute selection. We start with a very simple one that starts from all the features and recursively consider smaller and smaller sets of features.\n",
    "\n",
    "It does not find the best features in general, but only with respect the task (e.g., Linear Regression)."
   ]
  },
  {
   "cell_type": "code",
   "execution_count": 46,
   "metadata": {
    "colab": {
     "base_uri": "https://localhost:8080/"
    },
    "executionInfo": {
     "elapsed": 17,
     "status": "ok",
     "timestamp": 1669195849520,
     "user": {
      "displayName": "Daniele Loiacono",
      "userId": "03206643914008722225"
     },
     "user_tz": -60
    },
    "id": "-su_b_ymB3BH",
    "outputId": "bceae63c-9ffd-49ff-cf56-0e48b8773000"
   },
   "outputs": [
    {
     "name": "stdout",
     "output_type": "stream",
     "text": [
      "Reduced data set shape =  (506, 5)\n",
      "     Selected features =  ['CHAS' 'NOX' 'RM' 'DIS' 'PTRATIO']\n",
      "      Deleted Features =  ['CRIM' 'ZN' 'INDUS' 'AGE' 'RAD' 'TAX' 'B' 'LSTAT']\n"
     ]
    }
   ],
   "source": [
    "rfe = RFE(LinearRegression(), n_features_to_select=5, step=1)\n",
    "rfe = rfe.fit(X, y)\n",
    "\n",
    "X_selected_features_rfe = X[:, rfe.support_]\n",
    "\n",
    "mask = rfe.get_support()\n",
    "print(\"Reduced data set shape = \", X_selected_features_rfe.shape)\n",
    "print(\"     Selected features = \", data.feature_names[mask])\n",
    "print(\"      Deleted Features = \", data.feature_names[~mask])"
   ]
  },
  {
   "cell_type": "code",
   "execution_count": 47,
   "metadata": {
    "colab": {
     "base_uri": "https://localhost:8080/"
    },
    "executionInfo": {
     "elapsed": 14,
     "status": "ok",
     "timestamp": 1669195849521,
     "user": {
      "displayName": "Daniele Loiacono",
      "userId": "03206643914008722225"
     },
     "user_tz": -60
    },
    "id": "gHIpfsthB3BH",
    "outputId": "98be7df4-cb32-4cf6-db94-fc56434ff4e1"
   },
   "outputs": [
    {
     "name": "stdout",
     "output_type": "stream",
     "text": [
      "RFE R2 Mean 0.574 StdDev 0.235\n"
     ]
    }
   ],
   "source": [
    "rfe_model = LinearRegression()\n",
    "rfe_scores = cross_val_score(rfe_model, X[:,mask], y, cv=kfolds)\n",
    "print(\"RFE R2 Mean %.3f StdDev %.3f\"%(rfe_scores.mean(),rfe_scores.std()))"
   ]
  },
  {
   "cell_type": "markdown",
   "metadata": {
    "id": "XJzBL-YqB3BH"
   },
   "source": [
    "Note that the reported performance is much lower than in the previous cases and the standard deviation is much higher than in the previous cases."
   ]
  },
  {
   "cell_type": "markdown",
   "metadata": {
    "id": "mIBhBKNiB3BH"
   },
   "source": [
    "## Random Forest\n",
    "We now apply a random forest and use its scoring to select the attributes."
   ]
  },
  {
   "cell_type": "code",
   "execution_count": 105,
   "metadata": {
    "colab": {
     "base_uri": "https://localhost:8080/"
    },
    "executionInfo": {
     "elapsed": 376,
     "status": "ok",
     "timestamp": 1669195849886,
     "user": {
      "displayName": "Daniele Loiacono",
      "userId": "03206643914008722225"
     },
     "user_tz": -60
    },
    "id": "1YsFOMIJB3BH",
    "outputId": "d526e316-8276-4bd4-fd74-0182866292d6"
   },
   "outputs": [
    {
     "data": {
      "text/plain": [
       "ExtraTreesRegressor(bootstrap=False, ccp_alpha=0.0, criterion='mse',\n",
       "                    max_depth=None, max_features='auto', max_leaf_nodes=None,\n",
       "                    max_samples=None, min_impurity_decrease=0.0,\n",
       "                    min_impurity_split=None, min_samples_leaf=1,\n",
       "                    min_samples_split=2, min_weight_fraction_leaf=0.0,\n",
       "                    n_estimators=250, n_jobs=None, oob_score=False,\n",
       "                    random_state=0, verbose=0, warm_start=False)"
      ]
     },
     "execution_count": 105,
     "metadata": {},
     "output_type": "execute_result"
    }
   ],
   "source": [
    "forest = ExtraTreesRegressor(n_estimators=250, random_state=0)\n",
    "forest.fit(X, y)"
   ]
  },
  {
   "cell_type": "markdown",
   "metadata": {
    "id": "F36OncqLB3BH"
   },
   "source": [
    "Let's plot the feature importance."
   ]
  },
  {
   "cell_type": "code",
   "execution_count": 106,
   "metadata": {
    "colab": {
     "base_uri": "https://localhost:8080/",
     "height": 560
    },
    "executionInfo": {
     "elapsed": 306,
     "status": "ok",
     "timestamp": 1669195850188,
     "user": {
      "displayName": "Daniele Loiacono",
      "userId": "03206643914008722225"
     },
     "user_tz": -60
    },
    "id": "-DuCX1-YB3BI",
    "outputId": "f4ef11e8-3193-42f2-c27c-bd214703a8b3"
   },
   "outputs": [
    {
     "name": "stdout",
     "output_type": "stream",
     "text": [
      "Feature ranking:\n",
      " 1. feature  5      RM (0.344)\n",
      " 2. feature 12   LSTAT (0.338)\n",
      " 3. feature 10 PTRATIO (0.056)\n",
      " 4. feature  9     TAX (0.043)\n",
      " 5. feature  4     NOX (0.040)\n",
      " 6. feature  2   INDUS (0.035)\n",
      " 7. feature  7     DIS (0.032)\n",
      " 8. feature  0    CRIM (0.031)\n",
      " 9. feature  8     RAD (0.022)\n",
      "10. feature  6     AGE (0.021)\n",
      "11. feature 11       B (0.019)\n",
      "12. feature  3    CHAS (0.014)\n",
      "13. feature  1      ZN (0.005)\n"
     ]
    },
    {
     "data": {
      "image/png": "[encoded data removed]",
      "text/plain": [
       "<Figure size 432x288 with 1 Axes>"
      ]
     },
     "metadata": {
      "needs_background": "light"
     },
     "output_type": "display_data"
    }
   ],
   "source": [
    "importances = forest.feature_importances_\n",
    "std = np.std([tree.feature_importances_ for tree in forest.estimators_],\n",
    "             axis=0)\n",
    "indices = np.argsort(importances)[::-1]\n",
    "\n",
    "# Print the feature ranking\n",
    "print(\"Feature ranking:\")\n",
    "\n",
    "for f in range(X.shape[1]):\n",
    "    print(\"%2d. feature %2d %7s (%.3f)\" % (f + 1, indices[f], data.feature_names[indices[f]], importances[indices[f]]))\n",
    "\n",
    "# Plot the feature importances of the forest\n",
    "plt.figure()\n",
    "plt.title(\"Feature importances\")\n",
    "plt.bar(range(X.shape[1]), importances[indices],\n",
    "       color=\"r\", yerr=std[indices], align=\"center\")\n",
    "plt.xticks(range(X.shape[1]), data.feature_names[indices],rotation=90)\n",
    "plt.xlim([-1, X.shape[1]])\n",
    "plt.show()"
   ]
  },
  {
   "cell_type": "markdown",
   "metadata": {},
   "source": [
    "These are the best features in the case of Random Forest."
   ]
  },
  {
   "cell_type": "code",
   "execution_count": 50,
   "metadata": {
    "executionInfo": {
     "elapsed": 20,
     "status": "ok",
     "timestamp": 1669195850189,
     "user": {
      "displayName": "Daniele Loiacono",
      "userId": "03206643914008722225"
     },
     "user_tz": -60
    },
    "id": "01rEqC1DB3BI"
   },
   "outputs": [],
   "source": [
    "feature_selection_model = SelectFromModel(forest, prefit=True)"
   ]
  },
  {
   "cell_type": "code",
   "execution_count": 1,
   "metadata": {
    "colab": {
     "base_uri": "https://localhost:8080/"
    },
    "executionInfo": {
     "elapsed": 21,
     "status": "ok",
     "timestamp": 1669195850190,
     "user": {
      "displayName": "Daniele Loiacono",
      "userId": "03206643914008722225"
     },
     "user_tz": -60
    },
    "id": "QPQpXz0eB3BI",
    "outputId": "8f96d923-08e9-4d14-cdc4-922d636a8f16"
   },
   "outputs": [
    {
     "ename": "NameError",
     "evalue": "name 'feature_selection_model' is not defined",
     "output_type": "error",
     "traceback": [
      "\u001b[0;31m---------------------------------------------------------------------------\u001b[0m",
      "\u001b[0;31mNameError\u001b[0m                                 Traceback (most recent call last)",
      "\u001b[0;32m<ipython-input-1-8d76d8f33f36>\u001b[0m in \u001b[0;36m<module>\u001b[0;34m\u001b[0m\n\u001b[0;32m----> 1\u001b[0;31m \u001b[0mX_selected_features_forest\u001b[0m \u001b[0;34m=\u001b[0m \u001b[0mfeature_selection_model\u001b[0m\u001b[0;34m.\u001b[0m\u001b[0mtransform\u001b[0m\u001b[0;34m(\u001b[0m\u001b[0mX\u001b[0m\u001b[0;34m)\u001b[0m\u001b[0;34m\u001b[0m\u001b[0;34m\u001b[0m\u001b[0m\n\u001b[0m\u001b[1;32m      2\u001b[0m \u001b[0mX_selected_features_forest\u001b[0m\u001b[0;34m.\u001b[0m\u001b[0mshape\u001b[0m\u001b[0;34m\u001b[0m\u001b[0;34m\u001b[0m\u001b[0m\n",
      "\u001b[0;31mNameError\u001b[0m: name 'feature_selection_model' is not defined"
     ]
    }
   ],
   "source": [
    "X_selected_features_forest = feature_selection_model.transform(X)\n",
    "X_selected_features_forest.shape"
   ]
  },
  {
   "cell_type": "markdown",
   "metadata": {
    "id": "Jp-AbbtoB3BI"
   },
   "source": [
    "At this point, it would be interesting to compare the performance of our target regression algorithm on the reduced datasets. Note that, for wrapper feature selection the target algorithm and the algorithm used for selection usually coincide since wrapper approaches target selection for a specific algorithm and this should be the same later used for mining."
   ]
  },
  {
   "cell_type": "code",
   "execution_count": 52,
   "metadata": {
    "colab": {
     "base_uri": "https://localhost:8080/"
    },
    "executionInfo": {
     "elapsed": 20,
     "status": "ok",
     "timestamp": 1669195850192,
     "user": {
      "displayName": "Daniele Loiacono",
      "userId": "03206643914008722225"
     },
     "user_tz": -60
    },
    "id": "aLFrbZ81B3BI",
    "outputId": "52db82d8-1ddd-470d-8cc0-af98e80116cf"
   },
   "outputs": [
    {
     "name": "stdout",
     "output_type": "stream",
     "text": [
      "RF Selected Features Model R2 Mean 0.590 StdDev 0.145\n"
     ]
    }
   ],
   "source": [
    "forest_model = linear_model.LinearRegression()\n",
    "forest_scores = cross_val_score(forest_model, X_selected_features_forest, y, cv=kfolds)\n",
    "print(\"RF Selected Features Model R2 Mean %.3f StdDev %.3f\"%(forest_scores.mean(),forest_scores.std()))"
   ]
  },
  {
   "cell_type": "markdown",
   "metadata": {
    "id": "oHZkGjAoB3BI"
   },
   "source": [
    "Also in this case the performance of the model using a subset of features is much lower than our baseling while the standard deviation is higher."
   ]
  },
  {
   "cell_type": "markdown",
   "metadata": {
    "id": "TlziaYBQB3BJ"
   },
   "source": [
    "## Discussion\n",
    "We applied several methods for feature selection some implementing a *filter* approach, one an embedded approach (Lasso), and some implementing a wrapper approach. As we noted, sometimes feature selection can improve the performance of a predictor by getting rid of less important variables or lead a similar performance as the one obtained using the original set of variables; in other cases, the smaller set of feature corresponds to a reduced performance. \n",
    "\n",
    "Performing feature selection is similar to tuning a hyperparameter of the algorithm accordingly we should apply the same procedures to guarantee a reliable evaluation of the performance. At the end, we should have compared the results we obtained to check whether the difference in performance was statistically significant. The quite high values of standard deviation associated with our crossvalidation suggest that probably none of the differences we recored will turn out to be significant. But this is left as an exercise to you.\n",
    "\n",
    "We need to separate, initially, a part of training from test"
   ]
  },
  {
   "attachments": {},
   "cell_type": "markdown",
   "metadata": {},
   "source": [
    "* **Embedded approaches**: Lasso regression, Random Forest\n",
    "* **Filter approaches**: Reduced Variance Feature Selection, Univariate Feature Selection, PCA\n",
    "* **Wrapper approaches**: Recursive Feature Elimination (RFE), Genetic Algorithm, Hill-Climbing"
   ]
  }
 ],
 "metadata": {
  "colab": {
   "provenance": []
  },
  "kernelspec": {
   "display_name": "base",
   "language": "python",
   "name": "python3"
  },
  "language_info": {
   "codemirror_mode": {
    "name": "ipython",
    "version": 3
   },
   "file_extension": ".py",
   "mimetype": "text/x-python",
   "name": "python",
   "nbconvert_exporter": "python",
   "pygments_lexer": "ipython3",
   "version": "3.7.6"
  },
  "vscode": {
   "interpreter": {
    "hash": "40d3a090f54c6569ab1632332b64b2c03c39dcf918b08424e98f38b5ae0af88f"
   }
  }
 },
 "nbformat": 4,
 "nbformat_minor": 4
}
