{
 "cells": [
  {
   "cell_type": "markdown",
   "metadata": {},
   "source": [
    "# Logistic Regression on Loan Data - Example 1\n",
    "We are going to experiment with logistic regression using the data available from the <a href=\"https://www.lendingclub.com/info/download-data.action\">Lending Club Corporation</a>. The company provides files containing complete loan data for all loans issued through a certain time period, including the current loan status (Current, Late, Fully Paid, etc.) and latest payment information.\n",
    "\n",
    "We are going to use a small subset of the available data which were previously preprocessed.\n",
    "\n",
    "As the very first step, we load all the relevant libraries."
   ]
  },
  {
   "cell_type": "code",
   "execution_count": 1,
   "metadata": {
    "collapsed": false
   },
   "outputs": [],
   "source": [
    "import pandas as pd\n",
    "import numpy as np\n",
    "from sklearn import linear_model\n",
    "from sklearn import model_selection\n",
    "import matplotlib.pyplot as plt\n",
    "%matplotlib inline"
   ]
  },
  {
   "cell_type": "markdown",
   "metadata": {},
   "source": [
    "Then, we load the data."
   ]
  },
  {
   "cell_type": "code",
   "execution_count": 2,
   "metadata": {
    "collapsed": false
   },
   "outputs": [],
   "source": [
    "loans = pd.read_csv('LoansData01.csv')"
   ]
  },
  {
   "cell_type": "code",
   "execution_count": 3,
   "metadata": {
    "collapsed": false
   },
   "outputs": [
    {
     "data": {
      "text/plain": [
       "Index(['sub_grade_num', 'short_emp', 'emp_length_num', 'dti',\n",
       "       'payment_inc_ratio', 'delinq_2yrs', 'delinq_2yrs_zero',\n",
       "       'inq_last_6mths', 'last_delinq_none', 'last_major_derog_none',\n",
       "       'open_acc', 'pub_rec', 'pub_rec_zero', 'revol_util',\n",
       "       'total_rec_late_fee', 'int_rate', 'total_rec_int', 'annual_inc',\n",
       "       'funded_amnt', 'funded_amnt_inv', 'installment', 'num_term',\n",
       "       'grade_num', 'loan_amnt'],\n",
       "      dtype='object')"
      ]
     },
     "execution_count": 3,
     "metadata": {},
     "output_type": "execute_result"
    }
   ],
   "source": [
    "target = 'safe_loans'\n",
    "features = loans.columns[loans.columns!=target]\n",
    "\n",
    "features"
   ]
  },
  {
   "cell_type": "markdown",
   "metadata": {},
   "source": [
    "From the data dictionary available on the <a href=\"https://www.lendingclub.com/info/download-data.action\">Lending Club Corporation</a> website, we have the description of the variables: \n",
    "\n",
    "- <b>sub_grade_num</b>, the sub-grade of the loan as a number from 0 to 1\n",
    "- <b>short_emp</b>, one year or less of employment\n",
    "- emp_length_num, number of years of employment\n",
    "- <b>dti</b>, debt to income ratio\n",
    "- <b>payment_inc_ratio</b>, ratio of the monthly payment to income\n",
    "- <b>delinq_2yrs</b>, number of delinquincies\n",
    "- <b>delinq_2yrs_zero</b>, no delinquincies in last 2 years\n",
    "- <b>inq_last_6mths</b>, number of creditor inquiries in last 6 months\n",
    "- <b>last_delinq_none</b>, has borrower had a delinquincy\n",
    "- <b>last_major_derog_none</b>, has borrower had 90 day or worse rating\n",
    "- <b>open_acc</b>, number of open credit accounts\n",
    "- <b>pub_rec</b>, number of derogatory public records\n",
    "- <b>pub_rec_zero</b>, no derogatory public records\n",
    "- <b>revol_util</b>, percent of available credit being used\n",
    "- <b>total_rec_late_fee</b>, total late fees received to day\n",
    "- <b>int_rate</b>, interest rate of the loan\n",
    "- <b>total_rec_int</b>, interest received to date\n",
    "- <b>annual_inc</b>,  annual income of borrower\n",
    "- <b>funded_amnt</b>, amount committed to the loan\n",
    "- <b>funded_amnt_inv</b>, amount committed by investors for the loan\n",
    "- <b>installment</b>, monthly payment owed by the borrower\n",
    "- <b>num_term</b>, number of payments on the loan. Values are in months and can be either 36 or 60\n",
    "- <b>grade_num</b>, LC assigned loan grade as a number\n",
    "- <b>loan_amnt</b>, the listed amount of the loan applied for by the borrower. If at some point in time, the credit department reduces the loan amount, then it will be reflected in this value.\n",
    "\n",
    "The target variable (the class) is <b>safe_loans</b> that is +1 if the loan is safe -1 if it is risky"
   ]
  },
  {
   "cell_type": "markdown",
   "metadata": {},
   "source": [
    "The input variables x are the columns corresponding to the features, the output variable y is the column corresponding to the target variable."
   ]
  },
  {
   "cell_type": "code",
   "execution_count": 4,
   "metadata": {
    "collapsed": true
   },
   "outputs": [],
   "source": [
    "x = loans[features]\n",
    "y = loans[target]"
   ]
  },
  {
   "cell_type": "markdown",
   "metadata": {},
   "source": [
    "First we apply plain logistic regression without regularization (thus $\\alpha$ is zero). The Scikit-learn function does not allow to specify $\\alpha$ but it uses a parameter C=1/$\\alpha$. Accordingly, to have no regularization we need to specify a huge value of C."
   ]
  },
  {
   "cell_type": "code",
   "execution_count": 5,
   "metadata": {
    "collapsed": false
   },
   "outputs": [
    {
     "data": {
      "text/plain": [
       "LogisticRegression(C=100000000000.0, class_weight=None, dual=False,\n",
       "          fit_intercept=True, intercept_scaling=1, max_iter=100,\n",
       "          multi_class='ovr', n_jobs=1, penalty='l2', random_state=None,\n",
       "          solver='liblinear', tol=0.0001, verbose=0, warm_start=False)"
      ]
     },
     "execution_count": 5,
     "metadata": {},
     "output_type": "execute_result"
    }
   ],
   "source": [
    "simple_logistic = linear_model.LogisticRegression(C=10e10)\n",
    "simple_logistic.fit(x,y)"
   ]
  },
  {
   "cell_type": "markdown",
   "metadata": {},
   "source": [
    "We evaluate the model using cross validation."
   ]
  },
  {
   "cell_type": "code",
   "execution_count": 6,
   "metadata": {
    "collapsed": false
   },
   "outputs": [
    {
     "name": "stdout",
     "output_type": "stream",
     "text": [
      "Simple Logistic Regression\t0.63\t0.05\n"
     ]
    }
   ],
   "source": [
    "simple_eval = model_selection.cross_val_score(simple_logistic, x, y, cv=10)\n",
    "print(\"Simple Logistic Regression\\t%3.2f\\t%3.2f\" % (np.average(simple_eval), np.std(simple_eval)))"
   ]
  },
  {
   "cell_type": "markdown",
   "metadata": {},
   "source": [
    "We now apply L1 and L2 regularization with default parameters."
   ]
  },
  {
   "cell_type": "code",
   "execution_count": 7,
   "metadata": {
    "collapsed": false
   },
   "outputs": [],
   "source": [
    "logistic_l1 = linear_model.LogisticRegression(penalty='l1')\n",
    "logistic_l1.fit(x,y)\n",
    "eval_l1 = model_selection.cross_val_score(logistic_l1, x, y, cv=10)\n",
    "\n",
    "logistic_l2 = linear_model.LogisticRegression(penalty='l2')\n",
    "logistic_l2.fit(x,y)\n",
    "eval_l2 = model_selection.cross_val_score(logistic_l2, x, y, cv=10)"
   ]
  },
  {
   "cell_type": "code",
   "execution_count": 8,
   "metadata": {
    "collapsed": false
   },
   "outputs": [
    {
     "name": "stdout",
     "output_type": "stream",
     "text": [
      "Logistic Regression (L1)  \t0.63\t0.07\n",
      "Logistic Regression (L2)  \t0.64\t0.05\n"
     ]
    }
   ],
   "source": [
    "print(\"Logistic Regression (L1)  \\t%3.2f\\t%3.2f\" % (np.average(eval_l1), np.std(eval_l1)))\n",
    "print(\"Logistic Regression (L2)  \\t%3.2f\\t%3.2f\" % (np.average(eval_l2), np.std(eval_l2)))"
   ]
  },
  {
   "cell_type": "code",
   "execution_count": 9,
   "metadata": {
    "collapsed": false
   },
   "outputs": [
    {
     "data": {
      "image/png": "[encoded data removed]",
      "text/plain": [
       "<matplotlib.figure.Figure at 0x1158ee2e8>"
      ]
     },
     "metadata": {},
     "output_type": "display_data"
    }
   ],
   "source": [
    "plt.bar(np.arange(len(features)), simple_logistic.coef_[0], color='green',width=0.25);\n",
    "plt.bar(np.arange(len(features))+0.25, logistic_l1.coef_[0], color='blue',width=0.25);\n",
    "plt.bar(np.arange(len(features))+0.50, logistic_l2.coef_[0], color='red',width=0.25);\n",
    "plt.xticks(range(len(features)), features, rotation=90);"
   ]
  },
  {
   "cell_type": "markdown",
   "metadata": {},
   "source": [
    "## Question\n",
    "- Which method performs best?\n",
    "- Do you see any sign of overfitting?\n",
    "- Is this a good result\n",
    "- How can we modify this procedure to select the best $\\alpha$ for L1 and L2 regularization?"
   ]
  }
 ],
 "metadata": {
  "kernelspec": {
   "display_name": "Python 3",
   "language": "python",
   "name": "python3"
  },
  "language_info": {
   "codemirror_mode": {
    "name": "ipython",
    "version": 3
   },
   "file_extension": ".py",
   "mimetype": "text/x-python",
   "name": "python",
   "nbconvert_exporter": "python",
   "pygments_lexer": "ipython3",
   "version": "3.6.0"
  }
 },
 "nbformat": 4,
 "nbformat_minor": 2
}
