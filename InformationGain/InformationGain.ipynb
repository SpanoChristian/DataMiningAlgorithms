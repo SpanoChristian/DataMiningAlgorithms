{
 "cells": [
  {
   "cell_type": "markdown",
   "metadata": {},
   "source": [
    "# Information Gain, Information Gain Ratio, & Gini Index"
   ]
  },
  {
   "cell_type": "code",
   "execution_count": 1,
   "metadata": {},
   "outputs": [],
   "source": [
    "import numpy as np\n",
    "import pandas as pd\n",
    "import math\n",
    "import matplotlib.pyplot as plt\n",
    "%matplotlib inline"
   ]
  },
  {
   "cell_type": "code",
   "execution_count": 2,
   "metadata": {},
   "outputs": [],
   "source": [
    "df = pd.read_csv('Weather.csv')"
   ]
  },
  {
   "cell_type": "code",
   "execution_count": 3,
   "metadata": {},
   "outputs": [
    {
     "data": {
      "text/html": [
       "<div>\n",
       "<style scoped>\n",
       "    .dataframe tbody tr th:only-of-type {\n",
       "        vertical-align: middle;\n",
       "    }\n",
       "\n",
       "    .dataframe tbody tr th {\n",
       "        vertical-align: top;\n",
       "    }\n",
       "\n",
       "    .dataframe thead th {\n",
       "        text-align: right;\n",
       "    }\n",
       "</style>\n",
       "<table border=\"1\" class=\"dataframe\">\n",
       "  <thead>\n",
       "    <tr style=\"text-align: right;\">\n",
       "      <th></th>\n",
       "      <th>Outlook</th>\n",
       "      <th>Temperature</th>\n",
       "      <th>Humidity</th>\n",
       "      <th>Windy</th>\n",
       "      <th>Play</th>\n",
       "    </tr>\n",
       "  </thead>\n",
       "  <tbody>\n",
       "    <tr>\n",
       "      <th>count</th>\n",
       "      <td>14</td>\n",
       "      <td>14</td>\n",
       "      <td>14</td>\n",
       "      <td>14</td>\n",
       "      <td>14</td>\n",
       "    </tr>\n",
       "    <tr>\n",
       "      <th>unique</th>\n",
       "      <td>3</td>\n",
       "      <td>3</td>\n",
       "      <td>2</td>\n",
       "      <td>2</td>\n",
       "      <td>2</td>\n",
       "    </tr>\n",
       "    <tr>\n",
       "      <th>top</th>\n",
       "      <td>sunny</td>\n",
       "      <td>mild</td>\n",
       "      <td>high</td>\n",
       "      <td>False</td>\n",
       "      <td>yes</td>\n",
       "    </tr>\n",
       "    <tr>\n",
       "      <th>freq</th>\n",
       "      <td>5</td>\n",
       "      <td>6</td>\n",
       "      <td>7</td>\n",
       "      <td>8</td>\n",
       "      <td>9</td>\n",
       "    </tr>\n",
       "  </tbody>\n",
       "</table>\n",
       "</div>"
      ],
      "text/plain": [
       "       Outlook Temperature Humidity  Windy Play\n",
       "count       14          14       14     14   14\n",
       "unique       3           3        2      2    2\n",
       "top      sunny        mild     high  False  yes\n",
       "freq         5           6        7      8    9"
      ]
     },
     "execution_count": 3,
     "metadata": {},
     "output_type": "execute_result"
    }
   ],
   "source": [
    "df.describe()"
   ]
  },
  {
   "cell_type": "code",
   "execution_count": 4,
   "metadata": {},
   "outputs": [
    {
     "data": {
      "text/html": [
       "<div>\n",
       "<style scoped>\n",
       "    .dataframe tbody tr th:only-of-type {\n",
       "        vertical-align: middle;\n",
       "    }\n",
       "\n",
       "    .dataframe tbody tr th {\n",
       "        vertical-align: top;\n",
       "    }\n",
       "\n",
       "    .dataframe thead th {\n",
       "        text-align: right;\n",
       "    }\n",
       "</style>\n",
       "<table border=\"1\" class=\"dataframe\">\n",
       "  <thead>\n",
       "    <tr style=\"text-align: right;\">\n",
       "      <th></th>\n",
       "      <th>Outlook</th>\n",
       "      <th>Temperature</th>\n",
       "      <th>Humidity</th>\n",
       "      <th>Windy</th>\n",
       "      <th>Play</th>\n",
       "    </tr>\n",
       "  </thead>\n",
       "  <tbody>\n",
       "    <tr>\n",
       "      <th>0</th>\n",
       "      <td>sunny</td>\n",
       "      <td>hot</td>\n",
       "      <td>high</td>\n",
       "      <td>False</td>\n",
       "      <td>no</td>\n",
       "    </tr>\n",
       "    <tr>\n",
       "      <th>1</th>\n",
       "      <td>sunny</td>\n",
       "      <td>hot</td>\n",
       "      <td>high</td>\n",
       "      <td>True</td>\n",
       "      <td>no</td>\n",
       "    </tr>\n",
       "    <tr>\n",
       "      <th>2</th>\n",
       "      <td>overcast</td>\n",
       "      <td>hot</td>\n",
       "      <td>high</td>\n",
       "      <td>False</td>\n",
       "      <td>yes</td>\n",
       "    </tr>\n",
       "    <tr>\n",
       "      <th>3</th>\n",
       "      <td>rainy</td>\n",
       "      <td>mild</td>\n",
       "      <td>high</td>\n",
       "      <td>False</td>\n",
       "      <td>yes</td>\n",
       "    </tr>\n",
       "    <tr>\n",
       "      <th>4</th>\n",
       "      <td>rainy</td>\n",
       "      <td>cool</td>\n",
       "      <td>normal</td>\n",
       "      <td>False</td>\n",
       "      <td>yes</td>\n",
       "    </tr>\n",
       "  </tbody>\n",
       "</table>\n",
       "</div>"
      ],
      "text/plain": [
       "    Outlook Temperature Humidity  Windy Play\n",
       "0     sunny         hot     high  False   no\n",
       "1     sunny         hot     high   True   no\n",
       "2  overcast         hot     high  False  yes\n",
       "3     rainy        mild     high  False  yes\n",
       "4     rainy        cool   normal  False  yes"
      ]
     },
     "execution_count": 4,
     "metadata": {},
     "output_type": "execute_result"
    }
   ],
   "source": [
    "df.head()"
   ]
  },
  {
   "cell_type": "code",
   "execution_count": 5,
   "metadata": {},
   "outputs": [],
   "source": [
    "target_variable = 'Play'\n",
    "input_variables = df.columns[df.columns!=target_variable]"
   ]
  },
  {
   "cell_type": "code",
   "execution_count": 6,
   "metadata": {},
   "outputs": [],
   "source": [
    "def DistributionEntropy(fc):\n",
    "    \"\"\"Computes the entropy given a frequency count fc\n",
    "       represented using an numpy array\n",
    "    \n",
    "        [10, 0] corresponds to a distribution of [1.0, 0.0]\n",
    "        which corresponds to an entropy of 0.0\n",
    "        \n",
    "        distribution [0.5 0.5] has entropy 1.0\n",
    "    \"\"\"\n",
    "    \n",
    "    d = fc/sum(fc)\n",
    "    \n",
    "    return sum([ - x * math.log(x,2) for x in d[d!=0] ])"
   ]
  },
  {
   "cell_type": "code",
   "execution_count": 7,
   "metadata": {},
   "outputs": [],
   "source": [
    "entropy = [DistributionEntropy(np.array(fc)) for fc in zip(np.arange(0,1.05,0.05), 1- np.arange(0,1.05,0.05))]"
   ]
  },
  {
   "cell_type": "code",
   "execution_count": 8,
   "metadata": {},
   "outputs": [
    {
     "data": {
      "text/plain": [
       "[0.0,\n",
       " 0.28639695711595625,\n",
       " 0.4689955935892812,\n",
       " 0.6098403047164005,\n",
       " 0.7219280948873623,\n",
       " 0.8112781244591328,\n",
       " 0.8812908992306927,\n",
       " 0.9340680553754912,\n",
       " 0.9709505944546686,\n",
       " 0.9927744539878084,\n",
       " 1.0,\n",
       " 0.9927744539878084,\n",
       " 0.9709505944546687,\n",
       " 0.934068055375491,\n",
       " 0.8812908992306925,\n",
       " 0.8112781244591328,\n",
       " 0.7219280948873623,\n",
       " 0.6098403047164002,\n",
       " 0.46899559358928117,\n",
       " 0.2863969571159558,\n",
       " 0.0]"
      ]
     },
     "execution_count": 8,
     "metadata": {},
     "output_type": "execute_result"
    }
   ],
   "source": [
    "entropy"
   ]
  },
  {
   "cell_type": "code",
   "execution_count": 9,
   "metadata": {},
   "outputs": [
    {
     "data": {
      "image/png": "[encoded data removed]",
      "text/plain": [
       "<Figure size 432x288 with 1 Axes>"
      ]
     },
     "metadata": {
      "needs_background": "light"
     },
     "output_type": "display_data"
    }
   ],
   "source": [
    "x = np.arange(0,1.05,0.05)\n",
    "plt.plot(x,entropy)\n",
    "plt.grid()"
   ]
  },
  {
   "cell_type": "code",
   "execution_count": 10,
   "metadata": {},
   "outputs": [
    {
     "data": {
      "text/plain": [
       "0.9402859586706309"
      ]
     },
     "execution_count": 10,
     "metadata": {},
     "output_type": "execute_result"
    }
   ],
   "source": [
    "DistributionEntropy(df['Play'].value_counts())"
   ]
  },
  {
   "cell_type": "code",
   "execution_count": 11,
   "metadata": {},
   "outputs": [
    {
     "data": {
      "text/plain": [
       "[0, 1, 2, 3, 4]"
      ]
     },
     "execution_count": 11,
     "metadata": {},
     "output_type": "execute_result"
    }
   ],
   "source": [
    "[x for x in range(5)]"
   ]
  },
  {
   "cell_type": "code",
   "execution_count": 12,
   "metadata": {},
   "outputs": [],
   "source": [
    "def AttributeEntropy(attribute,target):\n",
    "    # distribution corresponding to each attribute value\n",
    "    # weighted sum\n",
    "    \n",
    "    weights = attribute.value_counts()/sum(attribute.value_counts())\n",
    "    attribute_values = attribute.value_counts().index\n",
    "    \n",
    "    entropy = 0\n",
    "    \n",
    "    for i,value in enumerate(attribute_values):\n",
    "        mask = attribute==value\n",
    "        entropy = entropy + weights[i] * DistributionEntropy(target[mask].value_counts())\n",
    "        \n",
    "    return entropy"
   ]
  },
  {
   "cell_type": "code",
   "execution_count": 13,
   "metadata": {},
   "outputs": [],
   "source": [
    "def InformationGain(attribute,target):\n",
    "    # original entropy\n",
    "    original_entropy = DistributionEntropy(target.value_counts())\n",
    "    \n",
    "    # attribute entropy \n",
    "    attribute_entropy = AttributeEntropy(attribute,target)\n",
    "    \n",
    "    # return the difference\n",
    "    return original_entropy - attribute_entropy"
   ]
  },
  {
   "cell_type": "code",
   "execution_count": 14,
   "metadata": {},
   "outputs": [
    {
     "data": {
      "text/plain": [
       "0.2467498197744391"
      ]
     },
     "execution_count": 14,
     "metadata": {},
     "output_type": "execute_result"
    }
   ],
   "source": [
    "InformationGain(df['Outlook'],df['Play'])"
   ]
  },
  {
   "cell_type": "code",
   "execution_count": 15,
   "metadata": {},
   "outputs": [],
   "source": [
    "def IntrinsicInfo(attribute):\n",
    "    return DistributionEntropy(attribute.value_counts())"
   ]
  },
  {
   "cell_type": "code",
   "execution_count": 16,
   "metadata": {},
   "outputs": [],
   "source": [
    "def InformationGainRatio(attribute, target):\n",
    "    return InformationGain(attribute, target)/IntrinsicInfo(attribute)\n"
   ]
  },
  {
   "cell_type": "code",
   "execution_count": 17,
   "metadata": {},
   "outputs": [
    {
     "name": "stdout",
     "output_type": "stream",
     "text": [
      "Outlook 0.15642756242117517\n",
      "Temperature 0.01877264622241867\n",
      "Humidity 0.15183550136234136\n",
      "Windy 0.048848615511520595\n"
     ]
    }
   ],
   "source": [
    "for attribute in input_variables:\n",
    "    print(attribute + \" \" + str(InformationGainRatio(df[attribute], df[target_variable])))"
   ]
  },
  {
   "cell_type": "code",
   "execution_count": 18,
   "metadata": {},
   "outputs": [
    {
     "data": {
      "text/plain": [
       "1.577406282852345"
      ]
     },
     "execution_count": 18,
     "metadata": {},
     "output_type": "execute_result"
    }
   ],
   "source": [
    "IntrinsicInfo(df['Outlook'])"
   ]
  },
  {
   "cell_type": "code",
   "execution_count": 19,
   "metadata": {},
   "outputs": [
    {
     "data": {
      "text/plain": [
       "0.2467498197744391"
      ]
     },
     "execution_count": 19,
     "metadata": {},
     "output_type": "execute_result"
    }
   ],
   "source": [
    "InformationGain(df['Outlook'], df['Play'])"
   ]
  },
  {
   "cell_type": "code",
   "execution_count": 20,
   "metadata": {},
   "outputs": [],
   "source": [
    "def GiniIndex(fc):\n",
    "    d = np.array(fc/sum(fc))\n",
    "    return 1 - np.dot(d,d)"
   ]
  },
  {
   "cell_type": "code",
   "execution_count": 21,
   "metadata": {},
   "outputs": [],
   "source": [
    "def AttributeGiniIndex(attribute,target):\n",
    "    # distribution corresponding to each attribute value\n",
    "    # weighted sum\n",
    "    \n",
    "    weights = attribute.value_counts()/sum(attribute.value_counts())\n",
    "    attribute_values = attribute.value_counts().index\n",
    "    \n",
    "    gini = 0\n",
    "    \n",
    "    for i,value in enumerate(attribute_values):\n",
    "        mask = attribute==value\n",
    "        gini = gini + weights[i] * GiniIndex(target[mask].value_counts())\n",
    "        \n",
    "    return gini"
   ]
  },
  {
   "cell_type": "code",
   "execution_count": 22,
   "metadata": {},
   "outputs": [],
   "source": [
    "gini = [GiniIndex(np.array(fc)) for fc in zip(np.arange(0,1.05,0.05), 1- np.arange(0,1.05,0.05))]"
   ]
  },
  {
   "cell_type": "code",
   "execution_count": 23,
   "metadata": {},
   "outputs": [],
   "source": [
    "error = [min(x) for x in zip(np.arange(0,1.05,0.05), 1- np.arange(0,1.05,0.05))]"
   ]
  },
  {
   "cell_type": "code",
   "execution_count": 24,
   "metadata": {},
   "outputs": [
    {
     "data": {
      "image/png": "[encoded data removed]",
      "text/plain": [
       "<Figure size 576x432 with 1 Axes>"
      ]
     },
     "metadata": {
      "needs_background": "light"
     },
     "output_type": "display_data"
    }
   ],
   "source": [
    "x = np.arange(0,1.05,0.05)\n",
    "plt.figure(figsize=(8,6))\n",
    "plt.plot(x,entropy,label='Entropy')\n",
    "plt.plot(x,gini,label='Gini',c='Green')\n",
    "plt.plot(x,error,label='Misclassification Error',c='Black',ls=':')\n",
    "plt.legend(fontsize=15)\n",
    "plt.xlabel('Probability of Class 1',fontsize=20)\n",
    "plt.grid()\n",
    "plt.savefig(\"EntropyGiniComparison.png\")"
   ]
  },
  {
   "cell_type": "code",
   "execution_count": 25,
   "metadata": {},
   "outputs": [
    {
     "data": {
      "image/png": "[encoded data removed]",
      "text/plain": [
       "<Figure size 576x432 with 1 Axes>"
      ]
     },
     "metadata": {
      "needs_background": "light"
     },
     "output_type": "display_data"
    }
   ],
   "source": [
    "x = np.arange(0,1.05,0.05)\n",
    "plt.figure(figsize=(8,6))\n",
    "plt.plot(x,entropy,label='Entropy')\n",
    "# plt.plot(x,gini,label='Gini',c='Green')\n",
    "plt.plot(x,error,label='Misclassification Error',c='Black',ls=':')\n",
    "plt.legend(fontsize=15)\n",
    "plt.xlabel('Proportion of examples labeled as 1',fontsize=20)\n",
    "plt.ylabel('Entropy')\n",
    "plt.title(\"Two-class problem (0 and 1)\")\n",
    "plt.grid()\n",
    "plt.savefig(\"EntropyComparison.png\")"
   ]
  },
  {
   "cell_type": "code",
   "execution_count": 26,
   "metadata": {},
   "outputs": [],
   "source": [
    "label = ['+','-','-','-','+','+','-','-','+','+']\n",
    "a = ['0','0','0','0','0','1','1','1','1','1']\n",
    "b = ['0','0','1','1','0','0','0','0','1','0']\n",
    "c = ['0','1','1','1','1','1','1','1','1','1']\n",
    "\n",
    "df_abc = pd.DataFrame({'a':a,'b':b,'c':c,'class':label})\n",
    "\n",
    "df_abc.to_csv('abc_dataset.csv',index=False)"
   ]
  },
  {
   "cell_type": "code",
   "execution_count": 27,
   "metadata": {},
   "outputs": [
    {
     "data": {
      "text/plain": [
       "0.10803154614559995"
      ]
     },
     "execution_count": 27,
     "metadata": {},
     "output_type": "execute_result"
    }
   ],
   "source": [
    "InformationGain(df_abc['c'],df_abc['class'])"
   ]
  },
  {
   "cell_type": "code",
   "execution_count": 28,
   "metadata": {},
   "outputs": [
    {
     "data": {
      "text/plain": [
       "1.0"
      ]
     },
     "execution_count": 28,
     "metadata": {},
     "output_type": "execute_result"
    }
   ],
   "source": [
    "DistributionEntropy(df_abc['class'].value_counts())"
   ]
  },
  {
   "cell_type": "code",
   "execution_count": 29,
   "metadata": {},
   "outputs": [
    {
     "data": {
      "text/plain": [
       "0.9709505944546686"
      ]
     },
     "execution_count": 29,
     "metadata": {},
     "output_type": "execute_result"
    }
   ],
   "source": [
    "AttributeEntropy(df_abc['a'],df_abc['class'])"
   ]
  },
  {
   "cell_type": "code",
   "execution_count": 30,
   "metadata": {},
   "outputs": [
    {
     "data": {
      "text/plain": [
       "0.02904940554533142"
      ]
     },
     "execution_count": 30,
     "metadata": {},
     "output_type": "execute_result"
    }
   ],
   "source": [
    "InformationGain(df_abc['a'],df_abc['class'])"
   ]
  },
  {
   "cell_type": "code",
   "execution_count": 31,
   "metadata": {},
   "outputs": [
    {
     "data": {
      "text/plain": [
       "0.034851554559677034"
      ]
     },
     "execution_count": 31,
     "metadata": {},
     "output_type": "execute_result"
    }
   ],
   "source": [
    "InformationGain(df_abc['b'],df_abc['class'])"
   ]
  },
  {
   "cell_type": "code",
   "execution_count": 32,
   "metadata": {},
   "outputs": [
    {
     "data": {
      "text/plain": [
       "0.10803154614559995"
      ]
     },
     "execution_count": 32,
     "metadata": {},
     "output_type": "execute_result"
    }
   ],
   "source": [
    "InformationGain(df_abc['c'],df_abc['class'])"
   ]
  },
  {
   "cell_type": "code",
   "execution_count": 33,
   "metadata": {},
   "outputs": [
    {
     "data": {
      "text/plain": [
       "0.42857142857142855"
      ]
     },
     "execution_count": 33,
     "metadata": {},
     "output_type": "execute_result"
    }
   ],
   "source": [
    "AttributeGiniIndex(df['Windy'],df['Play'])"
   ]
  },
  {
   "cell_type": "code",
   "execution_count": 34,
   "metadata": {},
   "outputs": [
    {
     "data": {
      "text/plain": [
       "0.48"
      ]
     },
     "execution_count": 34,
     "metadata": {},
     "output_type": "execute_result"
    }
   ],
   "source": [
    "AttributeGiniIndex(df_abc['a'],df_abc['class'])"
   ]
  },
  {
   "cell_type": "code",
   "execution_count": 35,
   "metadata": {},
   "outputs": [
    {
     "data": {
      "text/plain": [
       "0.4761904761904763"
      ]
     },
     "execution_count": 35,
     "metadata": {},
     "output_type": "execute_result"
    }
   ],
   "source": [
    "AttributeGiniIndex(df_abc['b'],df_abc['class'])"
   ]
  },
  {
   "cell_type": "code",
   "execution_count": 36,
   "metadata": {},
   "outputs": [
    {
     "data": {
      "text/plain": [
       "0.4444444444444444"
      ]
     },
     "execution_count": 36,
     "metadata": {},
     "output_type": "execute_result"
    }
   ],
   "source": [
    "AttributeGiniIndex(df_abc['c'],df_abc['class'])"
   ]
  },
  {
   "cell_type": "code",
   "execution_count": 37,
   "metadata": {},
   "outputs": [],
   "source": [
    "a=[0.22,0.31,0.31,0.31,0.33,0.41,0.43]\n",
    "label=['0','0','1','0','1','1','1']\n",
    "\n",
    "single_continuous_dataset = pd.DataFrame({'A':a,'Class':label})\n"
   ]
  },
  {
   "cell_type": "code",
   "execution_count": 38,
   "metadata": {},
   "outputs": [
    {
     "data": {
      "text/plain": [
       "array([0.22, 0.31, 0.33, 0.41, 0.43])"
      ]
     },
     "execution_count": 38,
     "metadata": {},
     "output_type": "execute_result"
    }
   ],
   "source": [
    "np.sort(single_continuous_dataset['A'].unique())"
   ]
  },
  {
   "cell_type": "code",
   "execution_count": 1,
   "metadata": {},
   "outputs": [],
   "source": [
    "def ContinuousAttributeGini(attribute,target):\n",
    "    # distribution corresponding to each attribute value\n",
    "    # weighted sum\n",
    "    \n",
    "    original_gini = GiniIndex(target.value_counts())\n",
    "\n",
    "\n",
    "    values = np.sort(attribute.unique())\n",
    "\n",
    "    print(values)\n",
    "    # number of rows\n",
    "    n = attribute.shape[0]\n",
    "    \n",
    "    # number of values\n",
    "    nv = values.shape[0]\n",
    "\n",
    "\n",
    "    gini_value = np.zeros(nv)\n",
    "    gini_split = np.zeros(nv)\n",
    "    \n",
    "    \n",
    "    for i,value in enumerate(values):\n",
    "        left_mask = attribute<=value\n",
    "        right_mask = ~left_mask\n",
    "        \n",
    "        print(\"<<\",target[left_mask].value_counts(),\">>\")\n",
    "        print(\"<<\",target[right_mask].value_counts(),\">>\")\n",
    "\n",
    "\n",
    "        left_gini = GiniIndex(target[left_mask].value_counts())\n",
    "        right_gini = GiniIndex(target[right_mask].value_counts())\n",
    "        \n",
    "        left_weight = sum(left_mask)/n\n",
    "        right_weight = sum(right_mask)/n\n",
    "        \n",
    "        gini_index = left_weight*left_gini - right_weight*right_gini\n",
    "\n",
    "        gini_value[i] = original_gini - gini_index\n",
    "        if (i==(nv-1)):\n",
    "            gini_split[i] = value\n",
    "        else:\n",
    "            gini_split[i] = (value+values[i+1])/2.0\n",
    "\n",
    "        print(\"%d split %.3f gini %.3f\"%(i,gini_split[i],gini_value[i]))\n",
    "    best = np.argmax(gini_value)\n",
    "        \n",
    "    return gini_split[best],gini_value[best]"
   ]
  },
  {
   "cell_type": "code",
   "execution_count": 40,
   "metadata": {},
   "outputs": [
    {
     "name": "stdout",
     "output_type": "stream",
     "text": [
      "[0.22 0.31 0.33 0.41 0.43]\n",
      "<< 0    1\n",
      "Name: Class, dtype: int64 >>\n",
      "<< 1    4\n",
      "0    2\n",
      "Name: Class, dtype: int64 >>\n",
      "0 split 0.265 gini -0.129\n",
      "<< 0    3\n",
      "1    1\n",
      "Name: Class, dtype: int64 >>\n",
      "<< 1    3\n",
      "Name: Class, dtype: int64 >>\n",
      "1 split 0.320 gini -0.296\n",
      "<< 0    3\n",
      "1    2\n",
      "Name: Class, dtype: int64 >>\n",
      "<< 1    2\n",
      "Name: Class, dtype: int64 >>\n",
      "2 split 0.370 gini -0.167\n",
      "<< 0    3\n",
      "1    3\n",
      "Name: Class, dtype: int64 >>\n",
      "<< 1    1\n",
      "Name: Class, dtype: int64 >>\n",
      "3 split 0.420 gini -0.082\n",
      "<< 1    4\n",
      "0    3\n",
      "Name: Class, dtype: int64 >>\n",
      "<< Series([], Name: Class, dtype: int64) >>\n",
      "4 split 0.430 gini -0.020\n"
     ]
    },
    {
     "data": {
      "text/plain": [
       "(0.43, -0.020408163265305923)"
      ]
     },
     "execution_count": 40,
     "metadata": {},
     "output_type": "execute_result"
    }
   ],
   "source": [
    "ContinuousAttributeGini(single_continuous_dataset['A'],single_continuous_dataset['Class'])"
   ]
  },
  {
   "cell_type": "code",
   "execution_count": 41,
   "metadata": {},
   "outputs": [],
   "source": [
    "test_a=np.arange(0,1,0.1)\n",
    "test_label=['0','0','0','0','0','1','1','1','1','1']\n",
    "\n",
    "test = pd.DataFrame({'A':test_a,'Class':test_label})"
   ]
  },
  {
   "cell_type": "code",
   "execution_count": 42,
   "metadata": {},
   "outputs": [
    {
     "data": {
      "text/html": [
       "<div>\n",
       "<style scoped>\n",
       "    .dataframe tbody tr th:only-of-type {\n",
       "        vertical-align: middle;\n",
       "    }\n",
       "\n",
       "    .dataframe tbody tr th {\n",
       "        vertical-align: top;\n",
       "    }\n",
       "\n",
       "    .dataframe thead th {\n",
       "        text-align: right;\n",
       "    }\n",
       "</style>\n",
       "<table border=\"1\" class=\"dataframe\">\n",
       "  <thead>\n",
       "    <tr style=\"text-align: right;\">\n",
       "      <th></th>\n",
       "      <th>A</th>\n",
       "      <th>Class</th>\n",
       "    </tr>\n",
       "  </thead>\n",
       "  <tbody>\n",
       "    <tr>\n",
       "      <th>0</th>\n",
       "      <td>0.0</td>\n",
       "      <td>0</td>\n",
       "    </tr>\n",
       "    <tr>\n",
       "      <th>1</th>\n",
       "      <td>0.1</td>\n",
       "      <td>0</td>\n",
       "    </tr>\n",
       "    <tr>\n",
       "      <th>2</th>\n",
       "      <td>0.2</td>\n",
       "      <td>0</td>\n",
       "    </tr>\n",
       "    <tr>\n",
       "      <th>3</th>\n",
       "      <td>0.3</td>\n",
       "      <td>0</td>\n",
       "    </tr>\n",
       "    <tr>\n",
       "      <th>4</th>\n",
       "      <td>0.4</td>\n",
       "      <td>0</td>\n",
       "    </tr>\n",
       "    <tr>\n",
       "      <th>5</th>\n",
       "      <td>0.5</td>\n",
       "      <td>1</td>\n",
       "    </tr>\n",
       "    <tr>\n",
       "      <th>6</th>\n",
       "      <td>0.6</td>\n",
       "      <td>1</td>\n",
       "    </tr>\n",
       "    <tr>\n",
       "      <th>7</th>\n",
       "      <td>0.7</td>\n",
       "      <td>1</td>\n",
       "    </tr>\n",
       "    <tr>\n",
       "      <th>8</th>\n",
       "      <td>0.8</td>\n",
       "      <td>1</td>\n",
       "    </tr>\n",
       "    <tr>\n",
       "      <th>9</th>\n",
       "      <td>0.9</td>\n",
       "      <td>1</td>\n",
       "    </tr>\n",
       "  </tbody>\n",
       "</table>\n",
       "</div>"
      ],
      "text/plain": [
       "     A Class\n",
       "0  0.0     0\n",
       "1  0.1     0\n",
       "2  0.2     0\n",
       "3  0.3     0\n",
       "4  0.4     0\n",
       "5  0.5     1\n",
       "6  0.6     1\n",
       "7  0.7     1\n",
       "8  0.8     1\n",
       "9  0.9     1"
      ]
     },
     "execution_count": 42,
     "metadata": {},
     "output_type": "execute_result"
    }
   ],
   "source": [
    "test"
   ]
  },
  {
   "cell_type": "code",
   "execution_count": 43,
   "metadata": {},
   "outputs": [
    {
     "name": "stdout",
     "output_type": "stream",
     "text": [
      "[0.  0.1 0.2 0.3 0.4 0.5 0.6 0.7 0.8 0.9]\n",
      "<< 0    1\n",
      "Name: Class, dtype: int64 >>\n",
      "<< 1    5\n",
      "0    4\n",
      "Name: Class, dtype: int64 >>\n",
      "0 split 0.050 gini -0.056\n",
      "<< 0    2\n",
      "Name: Class, dtype: int64 >>\n",
      "<< 1    5\n",
      "0    3\n",
      "Name: Class, dtype: int64 >>\n",
      "1 split 0.150 gini -0.125\n",
      "<< 0    3\n",
      "Name: Class, dtype: int64 >>\n",
      "<< 1    5\n",
      "0    2\n",
      "Name: Class, dtype: int64 >>\n",
      "2 split 0.250 gini -0.214\n",
      "<< 0    4\n",
      "Name: Class, dtype: int64 >>\n",
      "<< 1    5\n",
      "0    1\n",
      "Name: Class, dtype: int64 >>\n",
      "3 split 0.350 gini -0.333\n",
      "<< 0    5\n",
      "Name: Class, dtype: int64 >>\n",
      "<< 1    5\n",
      "Name: Class, dtype: int64 >>\n",
      "4 split 0.450 gini -0.500\n",
      "<< 0    5\n",
      "1    1\n",
      "Name: Class, dtype: int64 >>\n",
      "<< 1    4\n",
      "Name: Class, dtype: int64 >>\n",
      "5 split 0.550 gini -0.333\n",
      "<< 0    5\n",
      "1    2\n",
      "Name: Class, dtype: int64 >>\n",
      "<< 1    3\n",
      "Name: Class, dtype: int64 >>\n",
      "6 split 0.650 gini -0.214\n",
      "<< 0    5\n",
      "1    3\n",
      "Name: Class, dtype: int64 >>\n",
      "<< 1    2\n",
      "Name: Class, dtype: int64 >>\n",
      "7 split 0.750 gini -0.125\n",
      "<< 0    5\n",
      "1    4\n",
      "Name: Class, dtype: int64 >>\n",
      "<< 1    1\n",
      "Name: Class, dtype: int64 >>\n",
      "8 split 0.850 gini -0.056\n",
      "<< 0    5\n",
      "1    5\n",
      "Name: Class, dtype: int64 >>\n",
      "<< Series([], Name: Class, dtype: int64) >>\n",
      "9 split 0.900 gini 0.000\n"
     ]
    },
    {
     "data": {
      "text/plain": [
       "(0.9, 0.0)"
      ]
     },
     "execution_count": 43,
     "metadata": {},
     "output_type": "execute_result"
    }
   ],
   "source": [
    "ContinuousAttributeGini(test['A'],test['Class'])"
   ]
  },
  {
   "cell_type": "code",
   "execution_count": 44,
   "metadata": {},
   "outputs": [
    {
     "name": "stdout",
     "output_type": "stream",
     "text": [
      "['0', '0', '0', '0', '0', '1', '1', '1', '1', '1']\n"
     ]
    }
   ],
   "source": [
    "print(test_label)"
   ]
  },
  {
   "cell_type": "code",
   "execution_count": 45,
   "metadata": {},
   "outputs": [
    {
     "data": {
      "text/plain": [
       "0.4444444444444444"
      ]
     },
     "execution_count": 45,
     "metadata": {},
     "output_type": "execute_result"
    }
   ],
   "source": [
    "GiniIndex(np.array([6,3]))"
   ]
  },
  {
   "cell_type": "code",
   "execution_count": 46,
   "metadata": {},
   "outputs": [
    {
     "data": {
      "text/plain": [
       "0.45714285714285713"
      ]
     },
     "execution_count": 46,
     "metadata": {},
     "output_type": "execute_result"
    }
   ],
   "source": [
    "9/14*GiniIndex(np.array([6,3]))+5/14*GiniIndex(np.array([3,2]))"
   ]
  },
  {
   "cell_type": "code",
   "execution_count": null,
   "metadata": {},
   "outputs": [],
   "source": []
  }
 ],
 "metadata": {
  "kernelspec": {
   "display_name": "Python 3 (ipykernel)",
   "language": "python",
   "name": "python3"
  },
  "language_info": {
   "codemirror_mode": {
    "name": "ipython",
    "version": 3
   },
   "file_extension": ".py",
   "mimetype": "text/x-python",
   "name": "python",
   "nbconvert_exporter": "python",
   "pygments_lexer": "ipython3",
   "version": "3.9.7"
  }
 },
 "nbformat": 4,
 "nbformat_minor": 4
}
