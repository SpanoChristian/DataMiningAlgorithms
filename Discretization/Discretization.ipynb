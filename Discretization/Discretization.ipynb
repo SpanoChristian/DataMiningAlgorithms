{
 "cells": [
  {
   "attachments": {},
   "cell_type": "markdown",
   "metadata": {},
   "source": [
    "# Discretization \n",
    "Discretization transforms a continuous variable into a nominal (ordinal) one. It returns a set of contiguous intervals (or bins) that are used to map the original variable range into a sequence of labels corresponding to the intervals containing such values. Discretization is applied both to simplify the problem space by reducing the number of values both to apply methods that can only be applied to nominal attributes to problems described by continuous variables.\n",
    "\n",
    "In other terms, in discretization, we convert continuous variables into discrete features by producing a collection of contiguous intervals that span the entire variable value range. These discrete values are then handled as categorical data.\n",
    "\n",
    "The challenge in discretization is identifying the thresholds or limits that define the intervals into which the continuous values will be sorted. To this end, there are various discretization methods that we can use, each with advantages and shortcomings.\n",
    "\n",
    "## Why Discretization?\n",
    "Several regression and classification models, like decision trees and Naïve Bayes, perform better with discrete values.\n",
    "\n",
    "Decision trees make decisions based on discrete partitions of the attributes. A decision tree assesses all feature values while training to determine the ideal cut-point. As a result, the more values the feature has, the longer the training time of the decision tree. Therefore, discretization of continuous features can speed up the training process.\n",
    "\n",
    "Discretization has additional benefits. People will have an easier time understanding discrete values. If sorting observations in bins with equal frequency, skewed values are spread more evenly across the range.\n",
    "\n",
    "Discretization can also minimize the influence of outliers by placing them in the lower or higher intervals together with the remaining values of the distribution.\n",
    "\n",
    "Overall, discretization of continuous features makes the data simpler, the learning process faster, and yields more accurate results.\n",
    "\n",
    "**However**, Discretization can result in information loss, for example by combining values that are strongly associated with different classes or target values into the same bin.\n",
    "\n",
    "## Discretization methods\n",
    "Discretization algorithms goal is to determine the fewest intervals possible without significantly losing information. The algorithm’s task then becomes to determine the cut-points for those intervals. They can be either **unsupervised** or **supervised**.\n",
    "\n",
    "The most popular discretization algorithms are **equal-width** and **equal-frequency discretization**. These are **unsupervised discretization** techniques because they find the interval limits without considering the target. Using **k-means** to find the interval limits is another unsupervised discretization technique. In all these methods, the user needs to define the number of bins into which the continuous data will be sorted beforehand.\n",
    "\n",
    "On the other hand, **decision tree-based discretization techniques** can determine the cut-points and the ideal number of divisions automatically. This is a **supervised discretization** method because it finds the interval limits using the target as guidance.\n",
    "\n",
    "**Unsupervised discretization algorithms** do not use the information about an available target variable to set partition boundaries. Accordingly, they might loose information about the target variable because they might combine values that are associated with different classes into the same interval. We have three approaches:\n",
    "1. **Equal-width discretization**: it consists of dividing the range of continuous values into $k$ equally sized intervals. Then, if the values of the variable vary between $0$ and $100$, the bins can be $0–20$, $20–40$, $40–60$, $80–100$.\n",
    "2. **Equal frequencies**: this method divides the values of a continuous attribute into a set of bins such that each bin contains the same number of values.\n",
    "3. **(k-Means) Clustering**: to create intervals or bins that group similar observations, we can use clustering algorithms like k-means. In discretization using k-means clustering, the partitions are the clusters identified by the k-means algorithm. Discretization with k-means requires one parameter, which is $k$, the number of clusters or the number of bins. We can carry out k-means discretization with scikit-learn. Check the documentation for further reading.\n",
    "\n",
    "\n",
    "\n",
    "**Supervised discretization algorithms** use the information about a target variable to generate intervals that try to preserve relevant information about the class. We consider one main approach:\n",
    "1. **Decision-Tree**: Decision Tree methods discretize continuous attributes during the learning process. A decision tree evaluates all possible values of a feature and selects the cut-point that maximizes the class separation by utilizing a performance metric like the entropy or Gini impurity. Then it repeats the process for each node of the first data separation and for each node of the subsequent data splits, until a certain stopping criteria is reached. Therefore, decision trees can, by design, find the set of cut-points that partition a variable into intervals with good class coherence. Thus, discretization with decision trees consists of using a decision tree to identify the optimal partitions for each continuous variable."
   ]
  },
  {
   "cell_type": "markdown",
   "metadata": {},
   "source": [
    "We now compare different discretization algorithms using the Boston Housing dataset."
   ]
  },
  {
   "cell_type": "code",
   "execution_count": 1,
   "metadata": {},
   "outputs": [],
   "source": [
    "import numpy as np\n",
    "import pandas as pd\n",
    "import random\n",
    "\n",
    "from sklearn import datasets\n",
    "from sklearn import linear_model\n",
    "from sklearn import naive_bayes\n",
    "from sklearn import neighbors\n",
    "from sklearn.linear_model import LinearRegression\n",
    "from sklearn.linear_model import Lasso\n",
    "from sklearn.ensemble import ExtraTreesRegressor\n",
    "\n",
    "from sklearn.feature_selection import SelectFromModel\n",
    "from sklearn.feature_selection import VarianceThreshold\n",
    "from sklearn.feature_selection import RFE\n",
    "\n",
    "from sklearn.decomposition import PCA\n",
    "\n",
    "from sklearn.model_selection import StratifiedKFold\n",
    "from sklearn.model_selection import KFold\n",
    "from sklearn.model_selection import cross_val_score\n",
    "from sklearn.model_selection import train_test_split\n",
    "\n",
    "\n",
    "from sklearn.pipeline import make_pipeline\n",
    "from sklearn.preprocessing import KBinsDiscretizer\n",
    "from sklearn.preprocessing import StandardScaler\n",
    "\n",
    "from sklearn.tree import DecisionTreeRegressor\n",
    "from sklearn.tree import plot_tree\n",
    "\n",
    "import seaborn as sns\n",
    "import matplotlib.pyplot as plt\n",
    "import matplotlib as mpl\n",
    "\n",
    "\n",
    "plt.style.use('fivethirtyeight') \n",
    "mpl.rcParams['lines.linewidth'] = 2\n",
    "mpl.rcParams['axes.labelsize'] = 14\n",
    "mpl.rcParams['xtick.labelsize'] = 12\n",
    "mpl.rcParams['ytick.labelsize'] = 12\n",
    "mpl.rcParams['text.color'] = 'k'\n",
    "\n",
    "%matplotlib inline"
   ]
  },
  {
   "cell_type": "code",
   "execution_count": 2,
   "metadata": {},
   "outputs": [],
   "source": [
    "random_state = 1234"
   ]
  },
  {
   "cell_type": "code",
   "execution_count": 3,
   "metadata": {},
   "outputs": [
    {
     "data": {
      "text/html": [
       "<div>\n",
       "<style scoped>\n",
       "    .dataframe tbody tr th:only-of-type {\n",
       "        vertical-align: middle;\n",
       "    }\n",
       "\n",
       "    .dataframe tbody tr th {\n",
       "        vertical-align: top;\n",
       "    }\n",
       "\n",
       "    .dataframe thead th {\n",
       "        text-align: right;\n",
       "    }\n",
       "</style>\n",
       "<table border=\"1\" class=\"dataframe\">\n",
       "  <thead>\n",
       "    <tr style=\"text-align: right;\">\n",
       "      <th></th>\n",
       "      <th>CRIM</th>\n",
       "      <th>ZN</th>\n",
       "      <th>INDUS</th>\n",
       "      <th>CHAS</th>\n",
       "      <th>NOX</th>\n",
       "      <th>RM</th>\n",
       "      <th>AGE</th>\n",
       "      <th>DIS</th>\n",
       "      <th>RAD</th>\n",
       "      <th>TAX</th>\n",
       "      <th>PTRATIO</th>\n",
       "      <th>B</th>\n",
       "      <th>LSTAT</th>\n",
       "      <th>MEDV</th>\n",
       "    </tr>\n",
       "  </thead>\n",
       "  <tbody>\n",
       "    <tr>\n",
       "      <th>0</th>\n",
       "      <td>0.00632</td>\n",
       "      <td>18.0</td>\n",
       "      <td>2.31</td>\n",
       "      <td>0.0</td>\n",
       "      <td>0.538</td>\n",
       "      <td>6.575</td>\n",
       "      <td>65.2</td>\n",
       "      <td>4.0900</td>\n",
       "      <td>1.0</td>\n",
       "      <td>296.0</td>\n",
       "      <td>15.3</td>\n",
       "      <td>396.90</td>\n",
       "      <td>4.98</td>\n",
       "      <td>24.0</td>\n",
       "    </tr>\n",
       "    <tr>\n",
       "      <th>1</th>\n",
       "      <td>0.02731</td>\n",
       "      <td>0.0</td>\n",
       "      <td>7.07</td>\n",
       "      <td>0.0</td>\n",
       "      <td>0.469</td>\n",
       "      <td>6.421</td>\n",
       "      <td>78.9</td>\n",
       "      <td>4.9671</td>\n",
       "      <td>2.0</td>\n",
       "      <td>242.0</td>\n",
       "      <td>17.8</td>\n",
       "      <td>396.90</td>\n",
       "      <td>9.14</td>\n",
       "      <td>21.6</td>\n",
       "    </tr>\n",
       "    <tr>\n",
       "      <th>2</th>\n",
       "      <td>0.02729</td>\n",
       "      <td>0.0</td>\n",
       "      <td>7.07</td>\n",
       "      <td>0.0</td>\n",
       "      <td>0.469</td>\n",
       "      <td>7.185</td>\n",
       "      <td>61.1</td>\n",
       "      <td>4.9671</td>\n",
       "      <td>2.0</td>\n",
       "      <td>242.0</td>\n",
       "      <td>17.8</td>\n",
       "      <td>392.83</td>\n",
       "      <td>4.03</td>\n",
       "      <td>34.7</td>\n",
       "    </tr>\n",
       "    <tr>\n",
       "      <th>3</th>\n",
       "      <td>0.03237</td>\n",
       "      <td>0.0</td>\n",
       "      <td>2.18</td>\n",
       "      <td>0.0</td>\n",
       "      <td>0.458</td>\n",
       "      <td>6.998</td>\n",
       "      <td>45.8</td>\n",
       "      <td>6.0622</td>\n",
       "      <td>3.0</td>\n",
       "      <td>222.0</td>\n",
       "      <td>18.7</td>\n",
       "      <td>394.63</td>\n",
       "      <td>2.94</td>\n",
       "      <td>33.4</td>\n",
       "    </tr>\n",
       "    <tr>\n",
       "      <th>4</th>\n",
       "      <td>0.06905</td>\n",
       "      <td>0.0</td>\n",
       "      <td>2.18</td>\n",
       "      <td>0.0</td>\n",
       "      <td>0.458</td>\n",
       "      <td>7.147</td>\n",
       "      <td>54.2</td>\n",
       "      <td>6.0622</td>\n",
       "      <td>3.0</td>\n",
       "      <td>222.0</td>\n",
       "      <td>18.7</td>\n",
       "      <td>396.90</td>\n",
       "      <td>5.33</td>\n",
       "      <td>36.2</td>\n",
       "    </tr>\n",
       "  </tbody>\n",
       "</table>\n",
       "</div>"
      ],
      "text/plain": [
       "      CRIM    ZN  INDUS  CHAS    NOX     RM   AGE     DIS  RAD    TAX  \\\n",
       "0  0.00632  18.0   2.31   0.0  0.538  6.575  65.2  4.0900  1.0  296.0   \n",
       "1  0.02731   0.0   7.07   0.0  0.469  6.421  78.9  4.9671  2.0  242.0   \n",
       "2  0.02729   0.0   7.07   0.0  0.469  7.185  61.1  4.9671  2.0  242.0   \n",
       "3  0.03237   0.0   2.18   0.0  0.458  6.998  45.8  6.0622  3.0  222.0   \n",
       "4  0.06905   0.0   2.18   0.0  0.458  7.147  54.2  6.0622  3.0  222.0   \n",
       "\n",
       "   PTRATIO       B  LSTAT  MEDV  \n",
       "0     15.3  396.90   4.98  24.0  \n",
       "1     17.8  396.90   9.14  21.6  \n",
       "2     17.8  392.83   4.03  34.7  \n",
       "3     18.7  394.63   2.94  33.4  \n",
       "4     18.7  396.90   5.33  36.2  "
      ]
     },
     "execution_count": 3,
     "metadata": {},
     "output_type": "execute_result"
    }
   ],
   "source": [
    "data = datasets.load_boston()\n",
    "\n",
    "input_variables = data.feature_names\n",
    "target_variable = 'MEDV'\n",
    "\n",
    "seed = 1234\n",
    "\n",
    "# let's create also a pandas data frame\n",
    "df = pd.DataFrame(data.data, columns=data.feature_names)\n",
    "df['MEDV'] = data.target\n",
    "df.head()"
   ]
  },
  {
   "cell_type": "markdown",
   "metadata": {},
   "source": [
    "We are focusing on the variable **LSTAT** so that we can easily analyze what the discretization produces."
   ]
  },
  {
   "cell_type": "code",
   "execution_count": 4,
   "metadata": {},
   "outputs": [],
   "source": [
    "X = df[[\"LSTAT\"]]\n",
    "y = data[\"target\"]"
   ]
  },
  {
   "cell_type": "markdown",
   "metadata": {},
   "source": [
    "Let's define the cross-validation we are going to apply to compare all the discretization approaches:"
   ]
  },
  {
   "cell_type": "code",
   "execution_count": 5,
   "metadata": {},
   "outputs": [],
   "source": [
    "cv = KFold(n_splits=10, shuffle=True, random_state=random_state)"
   ]
  },
  {
   "cell_type": "markdown",
   "metadata": {},
   "source": [
    "Also Let's set the number of intervals to 5 so that we can compare the various approaches using the same number of intervals. "
   ]
  },
  {
   "cell_type": "code",
   "execution_count": 6,
   "metadata": {},
   "outputs": [],
   "source": [
    "no_intervals = 5"
   ]
  },
  {
   "cell_type": "markdown",
   "metadata": {},
   "source": [
    "Since linear regression is sentitive to the range of attribute values, let's normalize the input variables and generate the train/test partition that we use for evaluation."
   ]
  },
  {
   "cell_type": "code",
   "execution_count": 7,
   "metadata": {},
   "outputs": [],
   "source": [
    "X = StandardScaler().fit_transform(X)"
   ]
  },
  {
   "cell_type": "markdown",
   "metadata": {},
   "source": [
    "Note that we are going to use the entire dataset for the sake of simplicity. In an actual scenario we should first extract a training dataset and a test dataset and perform the discretization on the training set and the evaluation on the test set using something like:\n",
    "\n",
    "\n",
    "X_train, X_test, y_train, y_test = train_test_split(X, y, test_size=.5, random_state=random_state)\n",
    "\n",
    "And then doing all the analysis using X_train and X_test."
   ]
  },
  {
   "cell_type": "markdown",
   "metadata": {},
   "source": [
    "## Unsupervised Discretization Methods\n",
    "The simplest way to discretize a continuous attribute is to partition the range of values into *k* bins of equal size. This approach, called equal-width discretization, is vulnerable to outlie values that might skew the range. Another approach, called equal-frequency discretization, divides the variable (with $n$ values) into *k* intervals containing the same number $n/k$ values. Variables can also be discretized by applying a clustering algorithms like k-means."
   ]
  },
  {
   "cell_type": "code",
   "execution_count": 8,
   "metadata": {},
   "outputs": [],
   "source": [
    "discretizations = {\n",
    "    'Onehot-Equal-Width': KBinsDiscretizer(n_bins=no_intervals, encode='onehot', strategy='uniform'),\n",
    "     \n",
    "    'Onehot-Equal-Frequency': KBinsDiscretizer(n_bins=no_intervals, encode='onehot', strategy='quantile'),\n",
    "     \n",
    "    'Onehot-Equal-Clustering': KBinsDiscretizer(n_bins=no_intervals, encode='onehot', strategy='kmeans'),\n",
    "      \n",
    "    'Ordinal-Equal-Width': KBinsDiscretizer(n_bins=no_intervals, encode='ordinal', strategy='uniform'),\n",
    "     \n",
    "    'Ordinal-Equal-Frequency': KBinsDiscretizer(n_bins=no_intervals, encode='ordinal', strategy='quantile'),\n",
    "\n",
    "    'Ordinal-Equal-kMeans': KBinsDiscretizer(n_bins=no_intervals, encode='ordinal', strategy='kmeans')\n",
    "}"
   ]
  },
  {
   "cell_type": "code",
   "execution_count": 9,
   "metadata": {},
   "outputs": [],
   "source": [
    "performance = {}\n",
    "\n",
    "p = cross_val_score(LinearRegression(), X, y, cv=cv)\n",
    "performance['No Discretization'] = (np.average(p), np.std(p))\n",
    "\n",
    "for discretization_name in discretizations.keys():\n",
    "\n",
    "    Xd = discretizations[discretization_name].fit_transform(X)\n",
    "    \n",
    "    # since the discretization producing ordinals will generate integer values, \n",
    "    # we might also want to normalize these values depending on the output range\n",
    "    # note that in this simple case it does not make much difference in performance.\n",
    "    \n",
    "    if (discretization_name[:7]==\"Ordinal\"):\n",
    "        Xd = StandardScaler().fit_transform(Xd)\n",
    "        \n",
    "    p = cross_val_score(LinearRegression(), Xd, y, cv=cv)\n",
    "    performance[discretization_name] = (np.average(p), np.std(p))"
   ]
  },
  {
   "cell_type": "code",
   "execution_count": 10,
   "metadata": {},
   "outputs": [
    {
     "name": "stdout",
     "output_type": "stream",
     "text": [
      "No Discretization\tMean=0.50 Std=0.11\n",
      "Onehot-Equal-Width\tMean=0.47 Std=0.09\n",
      "Onehot-Equal-Frequency\tMean=0.53 Std=0.13\n",
      "Onehot-Equal-Clustering\tMean=0.49 Std=0.13\n",
      "Ordinal-Equal-Width\tMean=0.44 Std=0.09\n",
      "Ordinal-Equal-Frequency\tMean=0.52 Std=0.10\n",
      "Ordinal-Equal-kMeans\tMean=0.46 Std=0.10\n"
     ]
    }
   ],
   "source": [
    "for method in performance.keys():\n",
    "    print(\"%12s\\tMean=%3.2f Std=%3.2f\"%(method, performance[method][0], performance[method][1]))"
   ]
  },
  {
   "cell_type": "markdown",
   "metadata": {},
   "source": [
    "To analyse whether the reported difference is statistically significant we should apply a paired t-test with an adequate Bonferroni's adjustment."
   ]
  },
  {
   "cell_type": "markdown",
   "metadata": {},
   "source": [
    "## Supervised Discretization using Decision Tree\n",
    "Supervised discretization methods exploit the information about the target variable to try to minimize the loss of information about the target value that discretization may cause. We are going to show a method that uses decision tree to discover the intervals to partition a continuous variable.\n",
    "\n",
    "We can use a very simple decision tree of fixed depth to generate intervals that try to maintain the information about the target variable as much as possible. Note that since decision trees are not sensitive to the variable range we are using the raw version of the attribute, not the normalized one."
   ]
  },
  {
   "cell_type": "markdown",
   "metadata": {},
   "source": [
    "Use label distribution -> use a decision trees applying it on a single continuous variable to predict "
   ]
  },
  {
   "cell_type": "code",
   "execution_count": 11,
   "metadata": {},
   "outputs": [
    {
     "data": {
      "text/plain": [
       "DecisionTreeRegressor(max_depth=2)"
      ]
     },
     "execution_count": 11,
     "metadata": {},
     "output_type": "execute_result"
    }
   ],
   "source": [
    "tree_model = DecisionTreeRegressor(max_depth=2)\n",
    "tree_model.fit(df[['LSTAT']], y)"
   ]
  },
  {
   "cell_type": "code",
   "execution_count": 12,
   "metadata": {},
   "outputs": [
    {
     "data": {
      "image/png": "[encoded data removed]",
      "text/plain": [
       "<Figure size 432x288 with 1 Axes>"
      ]
     },
     "metadata": {
      "needs_background": "light"
     },
     "output_type": "display_data"
    }
   ],
   "source": [
    "plot_tree(tree_model, feature_names=['LSTAT'])\n",
    "plt.show()"
   ]
  },
  {
   "cell_type": "markdown",
   "metadata": {},
   "source": [
    "The tree represents four intervals each one identified by each one of the leaves. Accordingly, if I use the tree to predict the output for the original input variable, I will obtain a column containing four values each one identifying one of the intervals. The intervals are identified by the values used in the decision tree for the splitting decisions, that is, 4.65, 9.725, and 16.085."
   ]
  },
  {
   "cell_type": "markdown",
   "metadata": {},
   "source": [
    "Note that, if we use the tree to predict the target value using the input variable (LSTAT) this will produce a vector containing the 4 values corresponding to the four leaves that actually identify the four intervals."
   ]
  },
  {
   "cell_type": "code",
   "execution_count": 13,
   "metadata": {},
   "outputs": [
    {
     "data": {
      "text/plain": [
       "array([26.65, 39.72, 20.3 , 14.26])"
      ]
     },
     "execution_count": 13,
     "metadata": {},
     "output_type": "execute_result"
    }
   ],
   "source": [
    "df['Predicted MEDV'] = np.round(tree_model.predict(df[['LSTAT']]), 2)\n",
    "df['Predicted MEDV'].unique()"
   ]
  },
  {
   "cell_type": "markdown",
   "metadata": {},
   "source": [
    "If we check the tree, value 39.72 identifies the first interval, 26.65 identifies the second interval, 20.30 the third one, and 14.26 the fourth one. So if we want to generate an ordinal attribute for instance with 4 values we might decide to map these four values in four integers like for instance 1,2,3,4."
   ]
  },
  {
   "cell_type": "code",
   "execution_count": 14,
   "metadata": {},
   "outputs": [],
   "source": [
    "ordinal_mapping = {39.72:1,26.65:2,20.30:3,14.26:4}"
   ]
  },
  {
   "cell_type": "code",
   "execution_count": 15,
   "metadata": {},
   "outputs": [],
   "source": [
    "df['Discrete LSTAT (Ordinal)'] = df['Predicted MEDV'].apply(lambda x: ordinal_mapping[x])"
   ]
  },
  {
   "cell_type": "markdown",
   "metadata": {},
   "source": [
    "If we want to check how the variable LSTAT was discretized we can group by the original data using the new attribute, "
   ]
  },
  {
   "cell_type": "code",
   "execution_count": 16,
   "metadata": {},
   "outputs": [
    {
     "data": {
      "text/html": [
       "<div>\n",
       "<style scoped>\n",
       "    .dataframe tbody tr th:only-of-type {\n",
       "        vertical-align: middle;\n",
       "    }\n",
       "\n",
       "    .dataframe tbody tr th {\n",
       "        vertical-align: top;\n",
       "    }\n",
       "\n",
       "    .dataframe thead tr th {\n",
       "        text-align: left;\n",
       "    }\n",
       "\n",
       "    .dataframe thead tr:last-of-type th {\n",
       "        text-align: right;\n",
       "    }\n",
       "</style>\n",
       "<table border=\"1\" class=\"dataframe\">\n",
       "  <thead>\n",
       "    <tr>\n",
       "      <th></th>\n",
       "      <th colspan=\"2\" halign=\"left\">LSTAT</th>\n",
       "    </tr>\n",
       "    <tr>\n",
       "      <th></th>\n",
       "      <th>min</th>\n",
       "      <th>max</th>\n",
       "    </tr>\n",
       "    <tr>\n",
       "      <th>Discrete LSTAT (Ordinal)</th>\n",
       "      <th></th>\n",
       "      <th></th>\n",
       "    </tr>\n",
       "  </thead>\n",
       "  <tbody>\n",
       "    <tr>\n",
       "      <th>1</th>\n",
       "      <td>1.73</td>\n",
       "      <td>4.63</td>\n",
       "    </tr>\n",
       "    <tr>\n",
       "      <th>2</th>\n",
       "      <td>4.67</td>\n",
       "      <td>9.71</td>\n",
       "    </tr>\n",
       "    <tr>\n",
       "      <th>3</th>\n",
       "      <td>9.74</td>\n",
       "      <td>16.03</td>\n",
       "    </tr>\n",
       "    <tr>\n",
       "      <th>4</th>\n",
       "      <td>16.14</td>\n",
       "      <td>37.97</td>\n",
       "    </tr>\n",
       "  </tbody>\n",
       "</table>\n",
       "</div>"
      ],
      "text/plain": [
       "                          LSTAT       \n",
       "                            min    max\n",
       "Discrete LSTAT (Ordinal)              \n",
       "1                          1.73   4.63\n",
       "2                          4.67   9.71\n",
       "3                          9.74  16.03\n",
       "4                         16.14  37.97"
      ]
     },
     "execution_count": 16,
     "metadata": {},
     "output_type": "execute_result"
    }
   ],
   "source": [
    "df[['LSTAT','Discrete LSTAT (Ordinal)']].groupby(by=['Discrete LSTAT (Ordinal)']).agg({'LSTAT':['min','max']})"
   ]
  },
  {
   "cell_type": "markdown",
   "metadata": {},
   "source": [
    "The values for the intervals correspond to the ones we can find in the splits inside the regression tree."
   ]
  },
  {
   "cell_type": "code",
   "execution_count": 17,
   "metadata": {},
   "outputs": [],
   "source": [
    "p = cross_val_score(LinearRegression(),df[['Discrete LSTAT (Ordinal)']], y, cv=cv)"
   ]
  },
  {
   "cell_type": "code",
   "execution_count": 18,
   "metadata": {},
   "outputs": [
    {
     "name": "stdout",
     "output_type": "stream",
     "text": [
      "  Supervised\tMean=0.58 Std=0.09\n"
     ]
    }
   ],
   "source": [
    "print(\"%12s\\tMean=%3.2f Std=%3.2f\"%(\"Supervised\", np.mean(p), np.std(p)))"
   ]
  },
  {
   "cell_type": "markdown",
   "metadata": {},
   "source": [
    "As can be noted the performance is slightly higher although given the high values of standard deviation the difference is probably not statistically significant."
   ]
  },
  {
   "cell_type": "markdown",
   "metadata": {},
   "source": [
    "## Discussion\n",
    "There are several supervised discretization methods that have been developed. Most of them are based on information-based metrics to generate partitions that try to minimize the loss of information that discretization is likely to introduce. There are no official implementations available for scikit-learn. Some of the methods are discussed in, \n",
    "- Fayyad, Usama M.; Irani, Keki B. (1993) \"Multi-Interval Discretization of Continuous-Valued Attributes for Classification Learning\". https://www.ijcai.org/Proceedings/93-2/Papers/022.pdf\n",
    "- Dougherty, J.; Kohavi, R. ; Sahami, M. (1995). \"Supervised and Unsupervised Discretization of Continuous Features\". https://ai.stanford.edu/~ronnyk/disc.pdf\n",
    "\n",
    "There are a couple of implementations that are not integrated in scikit-learn but follow its fit/transform pattern, \n",
    "- https://github.com/navicto/Discretization-MDLPC\n",
    "- https://github.com/hlin117/mdlp-discretization"
   ]
  },
  {
   "cell_type": "code",
   "execution_count": null,
   "metadata": {},
   "outputs": [],
   "source": []
  }
 ],
 "metadata": {
  "kernelspec": {
   "display_name": "Python 3",
   "language": "python",
   "name": "python3"
  },
  "language_info": {
   "codemirror_mode": {
    "name": "ipython",
    "version": 3
   },
   "file_extension": ".py",
   "mimetype": "text/x-python",
   "name": "python",
   "nbconvert_exporter": "python",
   "pygments_lexer": "ipython3",
   "version": "3.10.2 (v3.10.2:a58ebcc701, Jan 13 2022, 14:50:16) [Clang 13.0.0 (clang-1300.0.29.30)]"
  },
  "vscode": {
   "interpreter": {
    "hash": "aee8b7b246df8f9039afb4144a1f6fd8d2ca17a180786b69acc140d282b71a49"
   }
  }
 },
 "nbformat": 4,
 "nbformat_minor": 4
}
