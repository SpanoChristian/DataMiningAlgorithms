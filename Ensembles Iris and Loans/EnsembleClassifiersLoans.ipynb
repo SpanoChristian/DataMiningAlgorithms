{
 "cells": [
  {
   "cell_type": "markdown",
   "metadata": {},
   "source": [
    "# Ensembles classifiers using trees on the loans dataset\n",
    "\n",
    "In this notebook we apply several ensemble methods to the Iris dataset using tree classifiers and plot the resulting decision surfaces. Note that this notebook has been created using the material from http://scikit-learn.org/stable/modules/ensemble.html\n",
    "\n",
    "First we load all the required libraries."
   ]
  },
  {
   "cell_type": "code",
   "execution_count": 1,
   "metadata": {},
   "outputs": [],
   "source": [
    "import numpy as np\n",
    "import pandas as pd\n",
    "import matplotlib.pyplot as plt\n",
    "\n",
    "from sklearn import clone\n",
    "from sklearn.datasets import load_iris\n",
    "from sklearn.ensemble import (RandomForestClassifier, ExtraTreesClassifier,\n",
    "                              AdaBoostClassifier,BaggingClassifier)\n",
    "from sklearn.model_selection import StratifiedKFold\n",
    "from sklearn.model_selection import cross_val_score\n",
    "# from sklearn.externals.six.moves import xrange\n",
    "from sklearn.tree import DecisionTreeClassifier\n",
    "%matplotlib inline"
   ]
  },
  {
   "cell_type": "markdown",
   "metadata": {},
   "source": [
    "Next we define some of the parameters required to run the experiments like the number of estimators used in each ensembles and the random seed to be able to reproduce the results."
   ]
  },
  {
   "cell_type": "code",
   "execution_count": 2,
   "metadata": {},
   "outputs": [],
   "source": [
    "# Number of estimators used in each ensemble\n",
    "n_estimators = 30\n",
    "\n",
    "# set the random seed to be able to repeat the experiment\n",
    "random_seed = 1234 "
   ]
  },
  {
   "cell_type": "markdown",
   "metadata": {},
   "source": [
    "Load the dataset"
   ]
  },
  {
   "cell_type": "code",
   "execution_count": 3,
   "metadata": {},
   "outputs": [],
   "source": [
    "df = pd.read_csv(\"LoansNumerical.csv\")"
   ]
  },
  {
   "cell_type": "code",
   "execution_count": 4,
   "metadata": {},
   "outputs": [],
   "source": [
    "target = 'safe_loans'\n",
    "variables = df.columns[df.columns!=target]\n",
    "\n",
    "X = df[variables].values\n",
    "y = df['safe_loans'].values"
   ]
  },
  {
   "cell_type": "markdown",
   "metadata": {},
   "source": [
    "Set the models to be compared\n",
    "- simple decision tree\n",
    "- bagging\n",
    "- random forest\n",
    "- extra tree classifiers\n",
    "- adaboost"
   ]
  },
  {
   "cell_type": "code",
   "execution_count": 5,
   "metadata": {},
   "outputs": [],
   "source": [
    "models = {'Decision Tree':DecisionTreeClassifier(max_depth=None),\n",
    "          'Bagging':BaggingClassifier(DecisionTreeClassifier(max_depth=3),n_estimators=n_estimators),\n",
    "          'Random Forest':RandomForestClassifier(n_estimators=n_estimators),\n",
    "          'Extremely Randomized Trees':ExtraTreesClassifier(n_estimators=n_estimators),\n",
    "          'Ada Boost':AdaBoostClassifier(DecisionTreeClassifier(max_depth=3),\n",
    "                             n_estimators=n_estimators)}"
   ]
  },
  {
   "cell_type": "markdown",
   "metadata": {},
   "source": [
    "For each model, we apply 10-fold stratified crossvalidation and compute the average accuracy and the corresponding standard deviation"
   ]
  },
  {
   "cell_type": "code",
   "execution_count": 6,
   "metadata": {},
   "outputs": [
    {
     "name": "stdout",
     "output_type": "stream",
     "text": [
      "             Decision Tree 73.1 0.3\n",
      "                   Bagging 81.6 0.1\n",
      "             Random Forest 81.7 0.2\n",
      "Extremely Randomized Trees 81.2 0.1\n",
      "                 Ada Boost 82.0 0.2\n"
     ]
    }
   ],
   "source": [
    "scores = {}\n",
    "for model_name in models:\n",
    "    clf = models[model_name];\n",
    "    score = cross_val_score(clf, X, y, cv=StratifiedKFold(n_splits=10,shuffle=True,random_state=random_seed))\n",
    "    scores[model_name]=(np.average(score),np.std(score))\n",
    "    print('%26s %3.1f %3.1f'%(model_name,100.0*np.average(score),100.0*np.std(score)))"
   ]
  },
  {
   "cell_type": "markdown",
   "metadata": {},
   "source": [
    "Then, we print for every variable pair the performance of all the models"
   ]
  },
  {
   "cell_type": "code",
   "execution_count": 7,
   "metadata": {},
   "outputs": [
    {
     "name": "stdout",
     "output_type": "stream",
     "text": [
      "\t             Decision Tree\t73.1 +/- 0.3\n",
      "\t                   Bagging\t81.6 +/- 0.1\n",
      "\t             Random Forest\t81.7 +/- 0.2\n",
      "\tExtremely Randomized Trees\t81.2 +/- 0.1\n",
      "\t                 Ada Boost\t82.0 +/- 0.2\n"
     ]
    }
   ],
   "source": [
    "for model_name in models:\n",
    "    print('\\t%26s\\t%3.1f +/- %3.1f'%(model_name,100.0*scores[model_name][0],100.0*scores[model_name][1]))"
   ]
  },
  {
   "cell_type": "code",
   "execution_count": null,
   "metadata": {},
   "outputs": [],
   "source": []
  },
  {
   "cell_type": "code",
   "execution_count": null,
   "metadata": {},
   "outputs": [],
   "source": []
  }
 ],
 "metadata": {
  "kernelspec": {
   "display_name": "Python 3 (ipykernel)",
   "language": "python",
   "name": "python3"
  },
  "language_info": {
   "codemirror_mode": {
    "name": "ipython",
    "version": 3
   },
   "file_extension": ".py",
   "mimetype": "text/x-python",
   "name": "python",
   "nbconvert_exporter": "python",
   "pygments_lexer": "ipython3",
   "version": "3.8.11"
  }
 },
 "nbformat": 4,
 "nbformat_minor": 4
}
